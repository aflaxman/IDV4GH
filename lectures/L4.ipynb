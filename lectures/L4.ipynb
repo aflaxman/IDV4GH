{
 "metadata": {
  "name": "2013_07_11_IDV4GH_L4"
 },
 "nbformat": 3,
 "nbformat_minor": 0,
 "worksheets": [
  {
   "cells": [
    {
     "cell_type": "markdown",
     "metadata": {
      "slideshow": {
       "slide_type": "slide"
      }
     },
     "source": [
      "# Interactive Data Visualization for Global Health\n",
      "\n",
      "## Lecture 4: Interaction\n"
     ]
    },
    {
     "cell_type": "markdown",
     "metadata": {
      "slideshow": {
       "slide_type": "notes"
      }
     },
     "source": [
      "This is what sets us apart\u2026 until now, this class has done little that was not available when first known textbox on statistical graphics was published one million years ago.  We used keyboards and HTML instead of drafting tables and fountain pens, but the results were the same.  Animation and interaction changes all that.  now it is really something new, or new-ish.  Something that was not available 40 years ago, and was prohibitively expensive 30 years ago, and was just getting figured out 20 years ago, and is really ready to spread now.\n"
     ]
    },
    {
     "cell_type": "markdown",
     "metadata": {
      "slideshow": {
       "slide_type": "slide"
      }
     },
     "source": [
      "## Outline:\n",
      "* Data exercise\n",
      "* Visual Information-Seeking Mantra\n",
      "* Relevance to interactive data visualization of your choosing\n",
      "* Taxonomy of interaction\n",
      "* User-stories\n",
      "* Sketching interactions\n",
      "* HTML input tags\n",
      "* Coding exercise - Adding interactions to E1 bubble chart"
     ]
    },
    {
     "cell_type": "markdown",
     "metadata": {
      "slideshow": {
       "slide_type": "slide"
      }
     },
     "source": [
      "## Questions?"
     ]
    },
    {
     "cell_type": "markdown",
     "metadata": {
      "slideshow": {
       "slide_type": "slide"
      }
     },
     "source": [
      "## A look at SVG part of yesterday's exercise"
     ]
    },
    {
     "cell_type": "markdown",
     "metadata": {
      "slideshow": {
       "slide_type": "slide"
      }
     },
     "source": [
      "## You remember what does this code do?\n",
      "    d3.select(\"body\").selectAll(\"p\")\n",
      "        .data([1,2,3,4,5])\n",
      "        .enter()\n",
      "        .append(\"p\")\n",
      "        .text(\"New paragraph!\");\n"
     ]
    },
    {
     "cell_type": "markdown",
     "metadata": {
      "slideshow": {
       "slide_type": "slide"
      }
     },
     "source": [
      "## Then what will following it with this code do?\n",
      "    var p = d3.select(\"body\").selectAll(\"p\")\n",
      "        .data([1,2,3]);\n",
      "    p.enter().append(\"p\");\n",
      "    p.text(\"Even newer!\");\n",
      "    p.exit().remove();"
     ]
    },
    {
     "cell_type": "markdown",
     "metadata": {
      "slideshow": {
       "slide_type": "slide"
      }
     },
     "source": [
      "## Last Homework\n",
      "* How did it go?  I might not have given you enough to go on.\n",
      "* Am I rushing things?"
     ]
    },
    {
     "cell_type": "markdown",
     "metadata": {
      "slideshow": {
       "slide_type": "slide"
      }
     },
     "source": [
      "## Some examples of data is .js format"
     ]
    },
    {
     "cell_type": "markdown",
     "metadata": {
      "slideshow": {
       "slide_type": "slide"
      }
     },
     "source": [
      "## Last Reading\n",
      "* S. Kosslyn, The mind is not a camera\n",
      "* S. Murray, IDV4W, Chapter 6"
     ]
    },
    {
     "cell_type": "markdown",
     "metadata": {
      "slideshow": {
       "slide_type": "slide"
      }
     },
     "source": [
      "## Speaking of the mind and cameras, have you ever seen what your eye is doing?"
     ]
    },
    {
     "cell_type": "code",
     "collapsed": false,
     "input": [
      "Image(TK)"
     ],
     "language": "python",
     "metadata": {},
     "outputs": []
    },
    {
     "cell_type": "markdown",
     "metadata": {
      "slideshow": {
       "slide_type": "slide"
      }
     },
     "source": [
      "## Data exercise\n",
      "* Let's share what we've got"
     ]
    },
    {
     "cell_type": "markdown",
     "metadata": {
      "slideshow": {
       "slide_type": "slide"
      }
     },
     "source": [
      "## Visual Information-Seeking Mantra\n",
      "* Overview first\n",
      "* Zoom and filter\n",
      "* Details on demand"
     ]
    },
    {
     "cell_type": "markdown",
     "metadata": {
      "slideshow": {
       "slide_type": "subslide"
      }
     },
     "source": [
      "## Exercise: determine the relevance of the mantra to an interactive data visualization of your choosing"
     ]
    },
    {
     "cell_type": "markdown",
     "metadata": {
      "slideshow": {
       "slide_type": "slide"
      }
     },
     "source": [
      "## Taxonomy of interaction\n",
      "* *Overview* of entire collection;\n",
      "* *Zoom* on item of interest;\n",
      "* *Filter* out uninteresting items;\n",
      "* *Details-on-demand* for item or group of items;\n",
      "* *Relate* items;\n",
      "* *History* to support undo, replay, etc;\n",
      "* *Extract* subcollection, etc."
     ]
    },
    {
     "cell_type": "markdown",
     "metadata": {
      "slideshow": {
       "slide_type": "slide"
      }
     },
     "source": [
      "## [User Stories](http://en.wikipedia.org/wiki/User_story)\n",
      "* \"As [who] [when] [where], I [what] because [why].\"\n",
      "* E.g. As a user, I want to search for my customers by their first and last names.\n"
     ]
    },
    {
     "cell_type": "markdown",
     "metadata": {
      "slideshow": {
       "slide_type": "slide"
      }
     },
     "source": [
      "## [Sketching User Experiences](http://www.flickr.com/groups/uxsketch/pool/)"
     ]
    },
    {
     "cell_type": "code",
     "collapsed": false,
     "input": [
      "from IPython.display import Image"
     ],
     "language": "python",
     "metadata": {
      "slideshow": {
       "slide_type": "skip"
      }
     },
     "outputs": [],
     "prompt_number": 4
    },
    {
     "cell_type": "code",
     "collapsed": false,
     "input": [
      "Image(url=url, embed=True)"
     ],
     "language": "python",
     "metadata": {
      "slideshow": {
       "slide_type": "-"
      }
     },
     "outputs": [
      {
       "jpeg": "[encoded data removed]",
       "output_type": "pyout",
       "prompt_number": 5,
       "text": [
        "<IPython.core.display.Image at 0x2458c10>"
       ]
      }
     ],
     "prompt_number": 5
    },
    {
     "cell_type": "markdown",
     "metadata": {
      "slideshow": {
       "slide_type": "slide"
      }
     },
     "source": [
      "## [HTML input tags](https://www.google.com/search?q=html+input+tags)\n",
      "* `<input type=XXX>`"
     ]
    },
    {
     "cell_type": "markdown",
     "metadata": {
      "slideshow": {
       "slide_type": "slide"
      }
     },
     "source": [
      "## Weekend homework:\n",
      "* Write a user story for your project\n",
      "* Sketch an interaction for the user story\n",
      "* Give it a go with d3js!"
     ]
    },
    {
     "cell_type": "markdown",
     "metadata": {
      "slideshow": {
       "slide_type": "slide"
      }
     },
     "source": [
      "## Weekend reading\n",
      "* Ben Shneiderman, [The Eyes Have It:](http://drum.lib.umd.edu/bitstream/1903/5784/1/TR_96-66.pdf)  A Task by Data Type Taxonomy for Information Visualizations;\n",
      "* S. Murray, *IDV4W*, Chapters [7](http://chimera.labs.oreilly.com/books/1230000000345/ch07.html) and [8](http://chimera.labs.oreilly.com/books/1230000000345/ch08.html)."
     ]
    },
    {
     "cell_type": "markdown",
     "metadata": {
      "slideshow": {
       "slide_type": "slide"
      }
     },
     "source": [
      "## Exercise 4\n",
      "* Adding interaction to the bubble chart from E1"
     ]
    },
    {
     "cell_type": "code",
     "collapsed": false,
     "input": [
      "!cp /homes/abie/notebook/2013_07_11_IDV4GH_L4.ipynb /homes/abie/nbconvert/L4.ipynb\n",
      "!cd /homes/abie/nbconvert/; ./nbconvert.py --format reveal L4.ipynb\n",
      "!cp /homes/abie/nbconvert/L4* /home/j/Project/Models/IDV4GH/lectures/\n"
     ],
     "language": "python",
     "metadata": {
      "slideshow": {
       "slide_type": "skip"
      }
     },
     "outputs": [
      {
       "output_type": "stream",
       "stream": "stdout",
       "text": [
        "\r\n",
        "======================================================\r\n",
        "Warning, we are deprecating this version of nbconvert,\r\n",
        "please consider using the new version.\r\n",
        "======================================================\r\n",
        "    \r\n"
       ]
      }
     ],
     "prompt_number": 9
    },
    {
     "cell_type": "code",
     "collapsed": false,
     "input": [
      "import ipynb_style\n",
      "ipynb_style.presentation()"
     ],
     "language": "python",
     "metadata": {
      "slideshow": {
       "slide_type": "skip"
      }
     },
     "outputs": [
      {
       "html": [
        "\n",
        "<style type=\"text/css\">\n",
        "div.input {\n",
        "width: 1024px; /* about 80 chars + buffer */\n",
        "}\n",
        "\n",
        "div.text_cell {\n",
        "width: 1024px /* instead of 100%, */\n",
        "}\n",
        "\n",
        "div.text_cell_render {\n",
        "/*font-family: \"Helvetica Neue\", Arial, Helvetica, Geneva, sans-serif;*/\n",
        "font-family: \"Charis SIL\", serif; /* Make non-code text serif. */\n",
        "line-height: 145%; /* added for some line spacing of text. */\n",
        "font-size: 28pt;\n",
        "}\n",
        "\n",
        "/* Set the size of the headers */\n",
        "div.text_cell_render h1 {\n",
        "font-size: 36pt;\n",
        "}\n",
        "\n",
        "div.text_cell_render h2 {\n",
        "font-size: 32pt;\n",
        "}\n",
        "\n",
        "div.text_cell_render li {\n",
        "line-height: 1.2em;\n",
        "}\n",
        "\n",
        "div.text_cell_render p {\n",
        "font-size: 14pt;\n",
        "line-height: 1em;\n",
        "}\n",
        "\n",
        ".CodeMirror {\n",
        "font-size: 14pt;\n",
        " font-family: Consolas, monospace;\n",
        " }\n",
        "\n",
        ".rendered_html ol {list-style:decimal; margin: 1em 2em;}\n",
        "\n",
        "</style>\n"
       ],
       "output_type": "pyout",
       "prompt_number": 2,
       "text": [
        "<IPython.core.display.HTML at 0x2458910>"
       ]
      }
     ],
     "prompt_number": 2
    },
    {
     "cell_type": "code",
     "collapsed": false,
     "input": [],
     "language": "python",
     "metadata": {},
     "outputs": []
    }
   ],
   "metadata": {}
  }
 ]
}