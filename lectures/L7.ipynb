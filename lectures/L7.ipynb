{
 "metadata": {
  "name": "2013_07_16_IDV4GH_L7"
 },
 "nbformat": 3,
 "nbformat_minor": 0,
 "worksheets": [
  {
   "cells": [
    {
     "cell_type": "markdown",
     "metadata": {
      "slideshow": {
       "slide_type": "slide"
      }
     },
     "source": [
      "# Interactive Data Visualization for Global Health\n",
      "\n",
      "## Lecture 7: Color (using and abusing)\n"
     ]
    },
    {
     "cell_type": "markdown",
     "metadata": {
      "slideshow": {
       "slide_type": "skip"
      }
     },
     "source": [
      "http://www.stonesc.com/slides/Vision%20and%20visualization%20stone-mackinlay.pdf\n",
      "\n",
      "The beauty and futility of continuous color displays (10 min)\n",
      "\n",
      "The heat map, from Bertin to Protieomics (10 min)\n"
     ]
    },
    {
     "cell_type": "markdown",
     "metadata": {
      "slideshow": {
       "slide_type": "slide"
      }
     },
     "source": [
      "## Outline:\n",
      "* show and tell,\n",
      "* D3 scales exercise,\n",
      "* color, color for charts,\n",
      "* open-source exercise: a D3 bug report,\n",
      "* project work time."
     ]
    },
    {
     "cell_type": "markdown",
     "metadata": {
      "slideshow": {
       "slide_type": "slide"
      }
     },
     "source": [
      "## D3 Exercise: Scales"
     ]
    },
    {
     "cell_type": "markdown",
     "metadata": {
      "slideshow": {
       "slide_type": "slide"
      }
     },
     "source": [
      "## Color"
     ]
    },
    {
     "cell_type": "markdown",
     "metadata": {
      "slideshow": {
       "slide_type": "slide"
      }
     },
     "source": [
      "## Colors are named, but this varies globally and over time\n",
      "* [XKCD](http://blog.xkcd.com/2010/05/03/color-survey-results/), [relevant two days in a row](http://imgs.xkcd.com/blag/satfaces_map_1024.png)."
     ]
    },
    {
     "cell_type": "markdown",
     "metadata": {
      "slideshow": {
       "slide_type": "slide"
      }
     },
     "source": [
      "## The Stroop effect:\n",
      "* in some sense, [symbols are more important than colors](http://www.math.unt.edu/~tam/SelfTests/StroopEffects.html)"
     ]
    },
    {
     "cell_type": "markdown",
     "metadata": {
      "slideshow": {
       "slide_type": "slide"
      }
     },
     "source": [
      "## Color for charts:\n",
      "\n",
      "* [Color Brewer](http://colorbrewer2.org/)."
     ]
    },
    {
     "cell_type": "markdown",
     "metadata": {
      "slideshow": {
       "slide_type": "slide"
      }
     },
     "source": [
      "\n",
      "## Color-blindness\n",
      "\n",
      "* [tools for simulating colorblindness](http://www.vischeck.com/);\n",
      "* if that is still broken, [fall back on wikipedia](http://en.wikipedia.org/wiki/Color_blindness)."
     ]
    },
    {
     "cell_type": "markdown",
     "metadata": {
      "slideshow": {
       "slide_type": "slide"
      }
     },
     "source": [
      "## Color Scales in D3js"
     ]
    },
    {
     "cell_type": "markdown",
     "metadata": {
      "slideshow": {
       "slide_type": "slide"
      }
     },
     "source": [
      "## Reading\n",
      "\n",
      "* S. Murray, *IDV4W*, Ch [11](http://chimera.labs.oreilly.com/books/1230000000345/ch11.html);\n",
      "* A. Bhatia, [The crayola-fication of the world: How we gave colors names, and it messed with our brains](http://www.empiricalzeal.com/2012/06/05/the-crayola-fication-of-the-world-how-we-gave-colors-names-and-it-messed-with-our-brains-part-i/), *Empirical Zeal Blog*, 2012;\n",
      "* S. Few, [Practical rules for using color in charts](http://www.perceptualedge.com/articles/visual_business_intelligence/rules_for_using_color.pdf), Visual Business Intelligence Newsletter, 2008."
     ]
    },
    {
     "cell_type": "markdown",
     "metadata": {
      "slideshow": {
       "slide_type": "slide"
      }
     },
     "source": [
      "## Homework: *keep working on that project!*"
     ]
    },
    {
     "cell_type": "markdown",
     "metadata": {
      "slideshow": {
       "slide_type": "slide"
      }
     },
     "source": [
      "## For your interest:  the common words in your HTML files\n",
      "\n",
      "    10 250 40 append attr axis body call class d3 data dataset dot eeeeee enter fill function group height js line margin math name return scale script select selectall source src start stroke style svg target text value var width x1 x2 xscale y1 y2 yscale"
     ]
    },
    {
     "cell_type": "code",
     "collapsed": false,
     "input": [
      "!cp /homes/abie/notebook/2013_07_16_IDV4GH_L7.ipynb /homes/abie/nbconvert/L7.ipynb\n",
      "!cd /homes/abie/nbconvert/; ./nbconvert.py --format reveal L7.ipynb\n",
      "!cp /homes/abie/nbconvert/L7* /home/j/Project/Models/IDV4GH/lectures/\n"
     ],
     "language": "python",
     "metadata": {
      "slideshow": {
       "slide_type": "skip"
      }
     },
     "outputs": [],
     "prompt_number": "*"
    },
    {
     "cell_type": "code",
     "collapsed": false,
     "input": [
      "import ipynb_style\n",
      "ipynb_style.presentation()"
     ],
     "language": "python",
     "metadata": {
      "slideshow": {
       "slide_type": "skip"
      }
     },
     "outputs": [
      {
       "html": [
        "\n",
        "<style type=\"text/css\">\n",
        "div.input {\n",
        "width: 1024px; /* about 80 chars + buffer */\n",
        "}\n",
        "\n",
        "div.text_cell {\n",
        "width: 1024px /* instead of 100%, */\n",
        "}\n",
        "\n",
        "div.text_cell_render {\n",
        "/*font-family: \"Helvetica Neue\", Arial, Helvetica, Geneva, sans-serif;*/\n",
        "font-family: \"Charis SIL\", serif; /* Make non-code text serif. */\n",
        "line-height: 145%; /* added for some line spacing of text. */\n",
        "font-size: 28pt;\n",
        "}\n",
        "\n",
        "/* Set the size of the headers */\n",
        "div.text_cell_render h1 {\n",
        "font-size: 36pt;\n",
        "}\n",
        "\n",
        "div.text_cell_render h2 {\n",
        "font-size: 32pt;\n",
        "}\n",
        "\n",
        "div.text_cell_render li {\n",
        "line-height: 1.2em;\n",
        "}\n",
        "\n",
        "div.text_cell_render p {\n",
        "font-size: 14pt;\n",
        "line-height: 1em;\n",
        "}\n",
        "\n",
        ".CodeMirror {\n",
        "font-size: 14pt;\n",
        " font-family: Consolas, monospace;\n",
        " }\n",
        "\n",
        ".rendered_html ol {list-style:decimal; margin: 1em 2em;}\n",
        "\n",
        "</style>\n"
       ],
       "output_type": "pyout",
       "prompt_number": 1,
       "text": [
        "<IPython.core.display.HTML at 0x36df850>"
       ]
      }
     ],
     "prompt_number": 1
    },
    {
     "cell_type": "code",
     "collapsed": false,
     "input": [],
     "language": "python",
     "metadata": {
      "slideshow": {
       "slide_type": "skip"
      }
     },
     "outputs": []
    }
   ],
   "metadata": {}
  }
 ]
}