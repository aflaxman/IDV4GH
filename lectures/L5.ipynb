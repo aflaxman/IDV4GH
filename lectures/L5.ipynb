{
 "metadata": {
  "name": "2013_07_12_IDV4GH_L5"
 },
 "nbformat": 3,
 "nbformat_minor": 0,
 "worksheets": [
  {
   "cells": [
    {
     "cell_type": "markdown",
     "metadata": {
      "slideshow": {
       "slide_type": "slide"
      }
     },
     "source": [
      "# Interactive Data Visualization for Global Health\n",
      "\n",
      "## Lecture 5: Accessibility\n"
     ]
    },
    {
     "cell_type": "markdown",
     "metadata": {
      "slideshow": {
       "slide_type": "slide"
      }
     },
     "source": [
      "## *Accessibility* is a very broad term here.  The [web content accessibility guidelines](http://www.w3.org/TR/WAI-WEBCONTENT/) put it as follows:\n"
     ]
    },
    {
     "cell_type": "markdown",
     "metadata": {
      "slideshow": {
       "slide_type": "subslide"
      }
     },
     "source": [
      "## For those unfamiliar with accessibility issues pertaining to Web page design, consider that many users may be operating in contexts very different from your own:\n"
     ]
    },
    {
     "cell_type": "markdown",
     "metadata": {
      "slideshow": {
       "slide_type": "subslide"
      }
     },
     "source": [
      "## They may not be able to see, hear, move, or may not be able to process some types of information easily or at all.\n"
     ]
    },
    {
     "cell_type": "markdown",
     "metadata": {
      "slideshow": {
       "slide_type": "subslide"
      }
     },
     "source": [
      "##  They may have difficulty reading or comprehending text.\n"
     ]
    },
    {
     "cell_type": "markdown",
     "metadata": {
      "slideshow": {
       "slide_type": "subslide"
      }
     },
     "source": [
      "## They may not have or be able to use a keyboard or mouse.\n"
     ]
    },
    {
     "cell_type": "markdown",
     "metadata": {
      "slideshow": {
       "slide_type": "subslide"
      }
     },
     "source": [
      "## They may have a text-only screen, a small screen, or a slow Internet connection.\n"
     ]
    },
    {
     "cell_type": "markdown",
     "metadata": {
      "slideshow": {
       "slide_type": "subslide"
      }
     },
     "source": [
      "## They may not speak or understand fluently the language in which the document is written.\n"
     ]
    },
    {
     "cell_type": "markdown",
     "metadata": {
      "slideshow": {
       "slide_type": "subslide"
      }
     },
     "source": [
      "## They may be in a situation where their eyes, ears, or hands are busy or interfered with (e.g., driving to work, working in a loud environment, etc.).\n"
     ]
    },
    {
     "cell_type": "markdown",
     "metadata": {
      "slideshow": {
       "slide_type": "subslide"
      }
     },
     "source": [
      "## They may have an early version of a browser, a different browser entirely, a voice browser, or a different operating system.\n"
     ]
    },
    {
     "cell_type": "markdown",
     "metadata": {
      "slideshow": {
       "slide_type": "subslide"
      }
     },
     "source": [
      "## *In today's class*: we will discuss techniques and challenges in making interactive data visualizations accessible. \n",
      "\n",
      "## *But*, we will also have many more small coding exercises, and integrate them into the lecture more extensively."
     ]
    },
    {
     "cell_type": "markdown",
     "metadata": {
      "slideshow": {
       "slide_type": "slide"
      }
     },
     "source": [
      "## Outline:\n",
      "* Visualization and the blind\n",
      "* Screen readers\n",
      "* Table exercise\n",
      "* Slow internet connections"
     ]
    },
    {
     "cell_type": "markdown",
     "metadata": {
      "slideshow": {
       "slide_type": "slide"
      }
     },
     "source": [
      "## Questions?"
     ]
    },
    {
     "cell_type": "markdown",
     "metadata": {
      "slideshow": {
       "slide_type": "slide"
      }
     },
     "source": [
      "## Last Homework\n",
      "* Demos\n",
      "* Sticking points"
     ]
    },
    {
     "cell_type": "markdown",
     "metadata": {
      "slideshow": {
       "slide_type": "slide"
      }
     },
     "source": [
      "## Code quiz (in Exercise 5 deck)"
     ]
    },
    {
     "cell_type": "markdown",
     "metadata": {
      "slideshow": {
       "slide_type": "slide"
      }
     },
     "source": [
      "## Last Reading\n",
      "* Ben Shneiderman, [The Eyes Have It:](http://drum.lib.umd.edu/bitstream/1903/5784/1/TR_96-66.pdf)  A Task by Data Type Taxonomy for Information Visualizations;\n",
      "* S. Murray, *IDV4W*, Chapters [7](http://chimera.labs.oreilly.com/books/1230000000345/ch07.html) and [8](http://chimera.labs.oreilly.com/books/1230000000345/ch08.html)."
     ]
    },
    {
     "cell_type": "code",
     "collapsed": false,
     "input": [
      "cd /home/j/Project/Models/IDV4GH/projects/"
     ],
     "language": "python",
     "metadata": {
      "slideshow": {
       "slide_type": "skip"
      }
     },
     "outputs": [
      {
       "output_type": "stream",
       "stream": "stdout",
       "text": [
        "/snfs1/Project/Models/IDV4GH/projects"
       ]
      },
      {
       "output_type": "stream",
       "stream": "stdout",
       "text": [
        "\n"
       ]
      }
     ],
     "prompt_number": 4
    },
    {
     "cell_type": "code",
     "collapsed": false,
     "input": [
      "ls"
     ],
     "language": "python",
     "metadata": {
      "slideshow": {
       "slide_type": "skip"
      }
     },
     "outputs": [
      {
       "output_type": "stream",
       "stream": "stdout",
       "text": [
        "\u001b[0m\u001b[01;34mAllen\u001b[0m/  \u001b[01;34mAndrea\u001b[0m/  \u001b[01;34mAnthony\u001b[0m/  d3.v3.js  \u001b[01;34mEmily\u001b[0m/  \u001b[01;34mIan\u001b[0m/  \u001b[01;34mJoey\u001b[0m/  \u001b[01;34mKyle\u001b[0m/  \u001b[01;34mMari\u001b[0m/  \u001b[01;34mThomas\u001b[0m/\r\n",
        "\u001b[m"
       ]
      }
     ],
     "prompt_number": 22
    },
    {
     "cell_type": "code",
     "collapsed": false,
     "input": [
      "# This could be a good exercise in bar charting\n",
      "!head -500 Mari/data.js"
     ],
     "language": "python",
     "metadata": {
      "slideshow": {
       "slide_type": "skip"
      }
     },
     "outputs": [
      {
       "output_type": "stream",
       "stream": "stdout",
       "text": [
        "/* JavaScript file Generated by\r",
        "\r\n",
        " * Creativyst(tm) CSV converter\r",
        "\r\n",
        " *   (www.creativyst.com)\r",
        "\r\n",
        " * \r",
        "\r\n",
        " * (C) Copyright 2002-2003, Creativyst, Inc.\r",
        "\r\n",
        " * \r",
        "\r\n",
        " * Permission is hereby granted to use,\r",
        "\r\n",
        " * distribute, and change this file for any\r",
        "\r\n",
        " * reason, provided this entire comment remains\r",
        "\r\n",
        " * intact with the work.\r",
        "\r\n",
        " * \r",
        "\r\n",
        " *\r",
        "\r\n",
        "*/\r",
        "\r\n",
        "\r",
        "\r\n",
        "/*JSCPragma:StartCompress\r",
        "\r\n",
        "*/\r",
        "\r\n",
        "\r",
        "\r\n",
        "var lsz = 5;\r",
        "\r\n",
        "\r",
        "\r\n",
        "var Col0 = Array([lsz]);\r",
        "\r\n",
        "var anc1 = Array([lsz]);\r",
        "\r\n",
        "var tet = Array([lsz]);\r",
        "\r\n",
        "var anc4 = Array([lsz]);\r",
        "\r\n",
        "var ifd = Array([lsz]);\r",
        "\r\n",
        "var bf24 = Array([lsz]);\r",
        "\r\n",
        "var pnc48 = Array([lsz]);\r",
        "\r\n",
        "var pnc7 = Array([lsz]);\r",
        "\r\n",
        "var contra = Array([lsz]);\r",
        "\r\n",
        "var ebf = Array([lsz]);\r",
        "\r\n",
        "var vacc = Array([lsz]);\r",
        "\r\n",
        "var anc1lo = Array([lsz]);\r",
        "\r\n",
        "var tetlo = Array([lsz]);\r",
        "\r\n",
        "var anc4lo = Array([lsz]);\r",
        "\r\n",
        "var ifdlo = Array([lsz]);\r",
        "\r\n",
        "var bf24lo = Array([lsz]);\r",
        "\r\n",
        "var pnc48lo = Array([lsz]);\r",
        "\r\n",
        "var pnc7lo = Array([lsz]);\r",
        "\r\n",
        "var contralo = Array([lsz]);\r",
        "\r\n",
        "var ebflo = Array([lsz]);\r",
        "\r\n",
        "var vacclo = Array([lsz]);\r",
        "\r\n",
        "var anc1lodiff = Array([lsz]);\r",
        "\r\n",
        "var tetlodiff = Array([lsz]);\r",
        "\r\n",
        "var anc4lodiff = Array([lsz]);\r",
        "\r\n",
        "var ifdlodiff = Array([lsz]);\r",
        "\r\n",
        "var bf24lodiff = Array([lsz]);\r",
        "\r\n",
        "var pnc48lodiff = Array([lsz]);\r",
        "\r\n",
        "var pnc7lodiff = Array([lsz]);\r",
        "\r\n",
        "var contralodiff = Array([lsz]);\r",
        "\r\n",
        "var ebflodiff = Array([lsz]);\r",
        "\r\n",
        "var vacclodiff = Array([lsz]);\r",
        "\r\n",
        "var anc1hi = Array([lsz]);\r",
        "\r\n",
        "var tethi = Array([lsz]);\r",
        "\r\n",
        "var anc4hi = Array([lsz]);\r",
        "\r\n",
        "var ifdhi = Array([lsz]);\r",
        "\r\n",
        "var bf24hi = Array([lsz]);\r",
        "\r\n",
        "var pnc48hi = Array([lsz]);\r",
        "\r\n",
        "var pnc7hi = Array([lsz]);\r",
        "\r\n",
        "var contrahi = Array([lsz]);\r",
        "\r\n",
        "var ebfhi = Array([lsz]);\r",
        "\r\n",
        "var vacchi = Array([lsz]);\r",
        "\r\n",
        "var anc1hidiff = Array([lsz]);\r",
        "\r\n",
        "var tethidiff = Array([lsz]);\r",
        "\r\n",
        "var anc4hidiff = Array([lsz]);\r",
        "\r\n",
        "var ifdhidiff = Array([lsz]);\r",
        "\r\n",
        "var bf24hidiff = Array([lsz]);\r",
        "\r\n",
        "var pnc48hidiff = Array([lsz]);\r",
        "\r\n",
        "var pnc7hidiff = Array([lsz]);\r",
        "\r\n",
        "var contrahidiff = Array([lsz]);\r",
        "\r\n",
        "var ebfhidiff = Array([lsz]);\r",
        "\r\n",
        "var vacchidiff = Array([lsz]);\r",
        "\r\n",
        "\r",
        "\r\n",
        "Col0[0] = \"Never attended school (N=686)\";\r",
        "\r\n",
        "anc1[0] = \"0.65\";\r",
        "\r\n",
        "tet[0] = \"0.58\";\r",
        "\r\n",
        "anc4[0] = \"0.48\";\r",
        "\r\n",
        "ifd[0] = \"0.30\";\r",
        "\r\n",
        "bf24[0] = \"0.69\";\r",
        "\r\n",
        "pnc48[0] = \"0.15\";\r",
        "\r\n",
        "pnc7[0] = \"0.28\";\r",
        "\r\n",
        "contra[0] = \"0.15\";\r",
        "\r\n",
        "ebf[0] = \"0.43\";\r",
        "\r\n",
        "vacc[0] = \"0.36\";\r",
        "\r\n",
        "anc1lo[0] = \"0.61\";\r",
        "\r\n",
        "tetlo[0] = \"0.54\";\r",
        "\r\n",
        "anc4lo[0] = \"0.44\";\r",
        "\r\n",
        "ifdlo[0] = \"0.27\";\r",
        "\r\n",
        "bf24lo[0] = \"0.65\";\r",
        "\r\n",
        "pnc48lo[0] = \"0.12\";\r",
        "\r\n",
        "pnc7lo[0] = \"0.24\";\r",
        "\r\n",
        "contralo[0] = \"0.12\";\r",
        "\r\n",
        "ebflo[0] = \"0.39\";\r",
        "\r\n",
        "vacclo[0] = \"0.32\";\r",
        "\r\n",
        "anc1lodiff[0] = \"0.04\";\r",
        "\r\n",
        "tetlodiff[0] = \"0.04\";\r",
        "\r\n",
        "anc4lodiff[0] = \"0.04\";\r",
        "\r\n",
        "ifdlodiff[0] = \"0.03\";\r",
        "\r\n",
        "bf24lodiff[0] = \"0.04\";\r",
        "\r\n",
        "pnc48lodiff[0] = \"0.03\";\r",
        "\r\n",
        "pnc7lodiff[0] = \"0.03\";\r",
        "\r\n",
        "contralodiff[0] = \"0.03\";\r",
        "\r\n",
        "ebflodiff[0] = \"0.04\";\r",
        "\r\n",
        "vacclodiff[0] = \"0.04\";\r",
        "\r\n",
        "anc1hi[0] = \"0.68\";\r",
        "\r\n",
        "tethi[0] = \"0.62\";\r",
        "\r\n",
        "anc4hi[0] = \"0.51\";\r",
        "\r\n",
        "ifdhi[0] = \"0.34\";\r",
        "\r\n",
        "bf24hi[0] = \"0.73\";\r",
        "\r\n",
        "pnc48hi[0] = \"0.18\";\r",
        "\r\n",
        "pnc7hi[0] = \"0.31\";\r",
        "\r\n",
        "contrahi[0] = \"0.18\";\r",
        "\r\n",
        "ebfhi[0] = \"0.47\";\r",
        "\r\n",
        "vacchi[0] = \"0.40\";\r",
        "\r\n",
        "anc1hidiff[0] = \"0.04\";\r",
        "\r\n",
        "tethidiff[0] = \"0.04\";\r",
        "\r\n",
        "anc4hidiff[0] = \"0.04\";\r",
        "\r\n",
        "ifdhidiff[0] = \"0.04\";\r",
        "\r\n",
        "bf24hidiff[0] = \"0.03\";\r",
        "\r\n",
        "pnc48hidiff[0] = \"0.03\";\r",
        "\r\n",
        "pnc7hidiff[0] = \"0.04\";\r",
        "\r\n",
        "contrahidiff[0] = \"0.03\";\r",
        "\r\n",
        "ebfhidiff[0] = \"0.04\";\r",
        "\r\n",
        "vacchidiff[0] = \"0.04\";\r",
        "\r\n",
        "\r",
        "\r\n",
        "Col0[1] = \"Primary school (N=1781)\";\r",
        "\r\n",
        "anc1[1] = \"0.72\";\r",
        "\r\n",
        "tet[1] = \"0.65\";\r",
        "\r\n",
        "anc4[1] = \"0.56\";\r",
        "\r\n",
        "ifd[1] = \"0.40\";\r",
        "\r\n",
        "bf24[1] = \"0.72\";\r",
        "\r\n",
        "pnc48[1] = \"0.22\";\r",
        "\r\n",
        "pnc7[1] = \"0.36\";\r",
        "\r\n",
        "contra[1] = \"0.17\";\r",
        "\r\n",
        "ebf[1] = \"0.36\";\r",
        "\r\n",
        "vacc[1] = \"0.38\";\r",
        "\r\n",
        "anc1lo[1] = \"0.70\";\r",
        "\r\n",
        "tetlo[1] = \"0.63\";\r",
        "\r\n",
        "anc4lo[1] = \"0.54\";\r",
        "\r\n",
        "ifdlo[1] = \"0.38\";\r",
        "\r\n",
        "bf24lo[1] = \"0.70\";\r",
        "\r\n",
        "pnc48lo[1] = \"0.20\";\r",
        "\r\n",
        "pnc7lo[1] = \"0.33\";\r",
        "\r\n",
        "contralo[1] = \"0.16\";\r",
        "\r\n",
        "ebflo[1] = \"0.34\";\r",
        "\r\n",
        "vacclo[1] = \"0.36\";\r",
        "\r\n",
        "anc1lodiff[1] = \"0.02\";\r",
        "\r\n",
        "tetlodiff[1] = \"0.02\";\r",
        "\r\n",
        "anc4lodiff[1] = \"0.02\";\r",
        "\r\n",
        "ifdlodiff[1] = \"0.02\";\r",
        "\r\n",
        "bf24lodiff[1] = \"0.02\";\r",
        "\r\n",
        "pnc48lodiff[1] = \"0.02\";\r",
        "\r\n",
        "pnc7lodiff[1] = \"0.02\";\r",
        "\r\n",
        "contralodiff[1] = \"0.02\";\r",
        "\r\n",
        "ebflodiff[1] = \"0.02\";\r",
        "\r\n",
        "vacclodiff[1] = \"0.02\";\r",
        "\r\n",
        "anc1hi[1] = \"0.75\";\r",
        "\r\n",
        "tethi[1] = \"0.67\";\r",
        "\r\n",
        "anc4hi[1] = \"0.58\";\r",
        "\r\n",
        "ifdhi[1] = \"0.43\";\r",
        "\r\n",
        "bf24hi[1] = \"0.74\";\r",
        "\r\n",
        "pnc48hi[1] = \"0.24\";\r",
        "\r\n",
        "pnc7hi[1] = \"0.38\";\r",
        "\r\n",
        "contrahi[1] = \"0.20\";\r",
        "\r\n",
        "ebfhi[1] = \"0.39\";\r",
        "\r\n",
        "vacchi[1] = \"0.41\";\r",
        "\r\n",
        "anc1hidiff[1] = \"0.02\";\r",
        "\r\n",
        "tethidiff[1] = \"0.02\";\r",
        "\r\n",
        "anc4hidiff[1] = \"0.02\";\r",
        "\r\n",
        "ifdhidiff[1] = \"0.02\";\r",
        "\r\n",
        "bf24hidiff[1] = \"0.02\";\r",
        "\r\n",
        "pnc48hidiff[1] = \"0.02\";\r",
        "\r\n",
        "pnc7hidiff[1] = \"0.02\";\r",
        "\r\n",
        "contrahidiff[1] = \"0.02\";\r",
        "\r\n",
        "ebfhidiff[1] = \"0.02\";\r",
        "\r\n",
        "vacchidiff[1] = \"0.02\";\r",
        "\r\n",
        "\r",
        "\r\n",
        "Col0[2] = \"Secondary school (N=830)\";\r",
        "\r\n",
        "anc1[2] = \"0.84\";\r",
        "\r\n",
        "tet[2] = \"0.75\";\r",
        "\r\n",
        "anc4[2] = \"0.71\";\r",
        "\r\n",
        "ifd[2] = \"0.63\";\r",
        "\r\n",
        "bf24[2] = \"0.69\";\r",
        "\r\n",
        "pnc48[2] = \"0.32\";\r",
        "\r\n",
        "pnc7[2] = \"0.44\";\r",
        "\r\n",
        "contra[2] = \"0.25\";\r",
        "\r\n",
        "ebf[2] = \"0.31\";\r",
        "\r\n",
        "vacc[2] = \"0.47\";\r",
        "\r\n",
        "anc1lo[2] = \"0.82\";\r",
        "\r\n",
        "tetlo[2] = \"0.72\";\r",
        "\r\n",
        "anc4lo[2] = \"0.67\";\r",
        "\r\n",
        "ifdlo[2] = \"0.60\";\r",
        "\r\n",
        "bf24lo[2] = \"0.66\";\r",
        "\r\n",
        "pnc48lo[2] = \"0.29\";\r",
        "\r\n",
        "pnc7lo[2] = \"0.40\";\r",
        "\r\n",
        "contralo[2] = \"0.22\";\r",
        "\r\n",
        "ebflo[2] = \"0.27\";\r",
        "\r\n",
        "vacclo[2] = \"0.43\";\r",
        "\r\n",
        "anc1lodiff[2] = \"0.03\";\r",
        "\r\n",
        "tetlodiff[2] = \"0.03\";\r",
        "\r\n",
        "anc4lodiff[2] = \"0.03\";\r",
        "\r\n",
        "ifdlodiff[2] = \"0.03\";\r",
        "\r\n",
        "bf24lodiff[2] = \"0.03\";\r",
        "\r\n",
        "pnc48lodiff[2] = \"0.03\";\r",
        "\r\n",
        "pnc7lodiff[2] = \"0.04\";\r",
        "\r\n",
        "contralodiff[2] = \"0.03\";\r",
        "\r\n",
        "ebflodiff[2] = \"0.03\";\r",
        "\r\n",
        "vacclodiff[2] = \"0.04\";\r",
        "\r\n",
        "anc1hi[2] = \"0.87\";\r",
        "\r\n",
        "tethi[2] = \"0.78\";\r",
        "\r\n",
        "anc4hi[2] = \"0.74\";\r",
        "\r\n",
        "ifdhi[2] = \"0.67\";\r",
        "\r\n",
        "bf24hi[2] = \"0.73\";\r",
        "\r\n",
        "pnc48hi[2] = \"0.36\";\r",
        "\r\n",
        "pnc7hi[2] = \"0.47\";\r",
        "\r\n",
        "contrahi[2] = \"0.29\";\r",
        "\r\n",
        "ebfhi[2] = \"0.34\";\r",
        "\r\n",
        "vacchi[2] = \"0.50\";\r",
        "\r\n",
        "anc1hidiff[2] = \"0.02\";\r",
        "\r\n",
        "tethidiff[2] = \"0.03\";\r",
        "\r\n",
        "anc4hidiff[2] = \"0.03\";\r",
        "\r\n",
        "ifdhidiff[2] = \"0.03\";\r",
        "\r\n",
        "bf24hidiff[2] = \"0.03\";\r",
        "\r\n",
        "pnc48hidiff[2] = \"0.03\";\r",
        "\r\n",
        "pnc7hidiff[2] = \"0.04\";\r",
        "\r\n",
        "contrahidiff[2] = \"0.04\";\r",
        "\r\n",
        "ebfhidiff[2] = \"0.04\";\r",
        "\r\n",
        "vacchidiff[2] = \"0.04\";\r",
        "\r\n",
        "\r",
        "\r\n",
        "Col0[3] = \"Preparatory school or higher (N=528)\";\r",
        "\r\n",
        "anc1[3] = \"0.91\";\r",
        "\r\n",
        "tet[3] = \"0.82\";\r",
        "\r\n",
        "anc4[3] = \"0.83\";\r",
        "\r\n",
        "ifd[3] = \"0.85\";\r",
        "\r\n",
        "bf24[3] = \"0.61\";\r",
        "\r\n",
        "pnc48[3] = \"0.42\";\r",
        "\r\n",
        "pnc7[3] = \"0.55\";\r",
        "\r\n",
        "contra[3] = \"0.32\";\r",
        "\r\n",
        "ebf[3] = \"0.21\";\r",
        "\r\n",
        "vacc[3] = \"0.49\";\r",
        "\r\n",
        "anc1lo[3] = \"0.89\";\r",
        "\r\n",
        "tetlo[3] = \"0.78\";\r",
        "\r\n",
        "anc4lo[3] = \"0.80\";\r",
        "\r\n",
        "ifdlo[3] = \"0.82\";\r",
        "\r\n",
        "bf24lo[3] = \"0.57\";\r",
        "\r\n",
        "pnc48lo[3] = \"0.38\";\r",
        "\r\n",
        "pnc7lo[3] = \"0.51\";\r",
        "\r\n",
        "contralo[3] = \"0.28\";\r",
        "\r\n",
        "ebflo[3] = \"0.17\";\r",
        "\r\n",
        "vacclo[3] = \"0.44\";\r",
        "\r\n",
        "anc1lodiff[3] = \"0.03\";\r",
        "\r\n",
        "tetlodiff[3] = \"0.04\";\r",
        "\r\n",
        "anc4lodiff[3] = \"0.03\";\r",
        "\r\n",
        "ifdlodiff[3] = \"0.03\";\r",
        "\r\n",
        "bf24lodiff[3] = \"0.04\";\r",
        "\r\n",
        "pnc48lodiff[3] = \"0.04\";\r",
        "\r\n",
        "pnc7lodiff[3] = \"0.05\";\r",
        "\r\n",
        "contralodiff[3] = \"0.05\";\r",
        "\r\n",
        "ebflodiff[3] = \"0.04\";\r",
        "\r\n",
        "vacclodiff[3] = \"0.05\";\r",
        "\r\n",
        "anc1hi[3] = \"0.94\";\r",
        "\r\n",
        "tethi[3] = \"0.85\";\r",
        "\r\n",
        "anc4hi[3] = \"0.86\";\r",
        "\r\n",
        "ifdhi[3] = \"0.88\";\r",
        "\r\n",
        "bf24hi[3] = \"0.65\";\r",
        "\r\n",
        "pnc48hi[3] = \"0.47\";\r",
        "\r\n",
        "pnc7hi[3] = \"0.60\";\r",
        "\r\n",
        "contrahi[3] = \"0.37\";\r",
        "\r\n",
        "ebfhi[3] = \"0.25\";\r",
        "\r\n",
        "vacchi[3] = \"0.54\";\r",
        "\r\n",
        "anc1hidiff[3] = \"0.02\";\r",
        "\r\n",
        "tethidiff[3] = \"0.03\";\r",
        "\r\n",
        "anc4hidiff[3] = \"0.03\";\r",
        "\r\n",
        "ifdhidiff[3] = \"0.03\";\r",
        "\r\n",
        "bf24hidiff[3] = \"0.04\";\r",
        "\r\n",
        "pnc48hidiff[3] = \"0.05\";\r",
        "\r\n",
        "pnc7hidiff[3] = \"0.04\";\r",
        "\r\n",
        "contrahidiff[3] = \"0.05\";\r",
        "\r\n",
        "ebfhidiff[3] = \"0.04\";\r",
        "\r\n",
        "vacchidiff[3] = \"0.05\";\r",
        "\r\n",
        "\r",
        "\r\n",
        "\r",
        "\r\n"
       ]
      }
     ],
     "prompt_number": 19
    },
    {
     "cell_type": "markdown",
     "metadata": {
      "slideshow": {
       "slide_type": "slide"
      }
     },
     "source": [
      "## Code exercise based on the .js styles you came up with on Friday\n",
      "* Use Mari's data.js instead of the data I included in the horizontal bar chart\n",
      "\n",
      "## Include it with:\n",
      "    <script src=\"../../../projects/mari/data.js\"></script>"
     ]
    },
    {
     "cell_type": "code",
     "collapsed": false,
     "input": [
      "# another good exercise example, especially combined with d3 filter method\n",
      "!head -30 Anthony/nha_clean_maclearning.js"
     ],
     "language": "python",
     "metadata": {
      "slideshow": {
       "slide_type": "skip"
      }
     },
     "outputs": [
      {
       "output_type": "stream",
       "stream": "stdout",
       "text": [
        "var dataset = \r",
        "\r\n",
        "\r",
        "\r\n",
        "\r",
        "\r\n",
        "[\r",
        "\r\n",
        "  {\r",
        "\r\n",
        "    \"iso3\":\"AFG\",\r",
        "\r\n",
        "    \"time\":\"2006-2010\",\r",
        "\r\n",
        "    \"typology\":\"Health Provider\",\r",
        "\r\n",
        "    \"item\":\"Ambulatory care\",\r",
        "\r\n",
        "    \"fraction\":0.31697268\r",
        "\r\n",
        "  },\r",
        "\r\n",
        "  {\r",
        "\r\n",
        "    \"iso3\":\"AFG\",\r",
        "\r\n",
        "    \"time\":\"2006-2010\",\r",
        "\r\n",
        "    \"typology\":\"Health Provider\",\r",
        "\r\n",
        "    \"item\":\"Health administration and insurance\",\r",
        "\r\n",
        "    \"fraction\":0.05623081\r",
        "\r\n",
        "  },\r",
        "\r\n",
        "  {\r",
        "\r\n",
        "    \"iso3\":\"AFG\",\r",
        "\r\n",
        "    \"time\":\"2006-2010\",\r",
        "\r\n",
        "    \"typology\":\"Health Provider\",\r",
        "\r\n",
        "    \"item\":\"Hospitals\",\r",
        "\r\n",
        "    \"fraction\":0.29330885\r",
        "\r\n",
        "  },\r",
        "\r\n",
        "  {\r",
        "\r\n",
        "    \"iso3\":\"AFG\",\r",
        "\r\n",
        "    \"time\":\"2006-2010\",\r",
        "\r\n",
        "    \"typology\":\"Health Provider\",\r",
        "\r\n",
        "    \"item\":\"Not specified by kind\",\r",
        "\r\n"
       ]
      }
     ],
     "prompt_number": 26
    },
    {
     "cell_type": "markdown",
     "metadata": {
      "slideshow": {
       "slide_type": "slide"
      }
     },
     "source": [
      "## Visualization and the blind\n",
      "* Why spend so much time on animation when today's focus in accessibility?"
     ]
    },
    {
     "cell_type": "markdown",
     "metadata": {
      "slideshow": {
       "slide_type": "slide"
      }
     },
     "source": [
      "## [Audio description examples](http://www.audiodescribe.com/samples/)"
     ]
    },
    {
     "cell_type": "markdown",
     "metadata": {
      "slideshow": {
       "slide_type": "slide"
      }
     },
     "source": [
      "## Text equivalent example from [WCG](http://www.w3.org/TR/WAI-WEBCONTENT/)\n",
      "\n",
      "## Consider a photographic image of the Earth as seen from outer space. \n",
      "* If the purpose of the image is mostly that of decoration, then the text \"Photograph of the Earth as seen from outer space\" might fulfill the necessary function. \n",
      "* If the purpose of the photograph is to illustrate specific information about world geography, then the text equivalent should convey that information. \n"
     ]
    },
    {
     "cell_type": "markdown",
     "metadata": {
      "slideshow": {
       "slide_type": "subslide"
      }
     },
     "source": [
      "## (cont)\n",
      "* If the photograph has been designed to tell the user to select the image (e.g., by clicking on it) for information about the earth, equivalent text would be \"Information about the Earth\".\n",
      "\n",
      "## Thus, if the text conveys the same function or purpose for the user with a disability as the image does for other users, then it can be considered a text equivalent.\n"
     ]
    },
    {
     "cell_type": "markdown",
     "metadata": {
      "slideshow": {
       "slide_type": "slide"
      }
     },
     "source": [
      "## Screen readers\n",
      "\n",
      "* For example, [NVDA](http://www.nvaccess.org/)"
     ]
    },
    {
     "cell_type": "markdown",
     "metadata": {
      "slideshow": {
       "slide_type": "slide"
      }
     },
     "source": [
      "## Making a table accessible to a screen reader"
     ]
    },
    {
     "cell_type": "markdown",
     "metadata": {
      "slideshow": {
       "slide_type": "slide"
      }
     },
     "source": [
      "## Slow internet connections are also part of *accessibility*"
     ]
    },
    {
     "cell_type": "markdown",
     "metadata": {
      "slideshow": {
       "slide_type": "slide"
      }
     },
     "source": [
      "## Animation exercise"
     ]
    },
    {
     "cell_type": "markdown",
     "metadata": {
      "slideshow": {
       "slide_type": "slide"
      }
     },
     "source": [
      "## Homework\n",
      "* Critique and collaborate draft IDV with partner(s)"
     ]
    },
    {
     "cell_type": "markdown",
     "metadata": {
      "slideshow": {
       "slide_type": "slide"
      }
     },
     "source": [
      "## Remember order of importance for critique:\n",
      "* Conceptual (What are its goals and does it accomplish them?)\n",
      "* Aesthetic (Overall appeal, objects, iconography, contrast, value, size, positioning, hierarchy, consistency, ...)\n",
      "* Technical\n"
     ]
    },
    {
     "cell_type": "markdown",
     "metadata": {
      "slideshow": {
       "slide_type": "slide"
      }
     },
     "source": [
      "## Reading\n",
      "\n",
      "* S. Murray, *IDV4W*, Ch [9](http://chimera.labs.oreilly.com/books/1230000000345/ch09.html);\n",
      "* [Game Accessibility Guidelines](http://gameaccessibilityguidelines.com/)."
     ]
    },
    {
     "cell_type": "markdown",
     "metadata": {
      "slideshow": {
       "slide_type": "slide"
      }
     },
     "source": [
      "## Network Diagram Examples"
     ]
    },
    {
     "cell_type": "code",
     "collapsed": false,
     "input": [
      "!cp /homes/abie/notebook/2013_07_12_IDV4GH_L5.ipynb /homes/abie/nbconvert/L5.ipynb\n",
      "!cd /homes/abie/nbconvert/; ./nbconvert.py --format reveal L5.ipynb\n",
      "!cp /homes/abie/nbconvert/L5* /home/j/Project/Models/IDV4GH/lectures/\n"
     ],
     "language": "python",
     "metadata": {
      "slideshow": {
       "slide_type": "skip"
      }
     },
     "outputs": [
      {
       "output_type": "stream",
       "stream": "stdout",
       "text": [
        "\r\n",
        "======================================================\r\n",
        "Warning, we are deprecating this version of nbconvert,\r\n",
        "please consider using the new version.\r\n",
        "======================================================\r\n",
        "    \r\n"
       ]
      }
     ],
     "prompt_number": 32
    },
    {
     "cell_type": "code",
     "collapsed": false,
     "input": [
      "import ipynb_style\n",
      "ipynb_style.presentation()"
     ],
     "language": "python",
     "metadata": {
      "slideshow": {
       "slide_type": "skip"
      }
     },
     "outputs": [
      {
       "html": [
        "\n",
        "<style type=\"text/css\">\n",
        "div.input {\n",
        "width: 1024px; /* about 80 chars + buffer */\n",
        "}\n",
        "\n",
        "div.text_cell {\n",
        "width: 1024px /* instead of 100%, */\n",
        "}\n",
        "\n",
        "div.text_cell_render {\n",
        "/*font-family: \"Helvetica Neue\", Arial, Helvetica, Geneva, sans-serif;*/\n",
        "font-family: \"Charis SIL\", serif; /* Make non-code text serif. */\n",
        "line-height: 145%; /* added for some line spacing of text. */\n",
        "font-size: 28pt;\n",
        "}\n",
        "\n",
        "/* Set the size of the headers */\n",
        "div.text_cell_render h1 {\n",
        "font-size: 36pt;\n",
        "}\n",
        "\n",
        "div.text_cell_render h2 {\n",
        "font-size: 32pt;\n",
        "}\n",
        "\n",
        "div.text_cell_render li {\n",
        "line-height: 1.2em;\n",
        "}\n",
        "\n",
        "div.text_cell_render p {\n",
        "font-size: 14pt;\n",
        "line-height: 1em;\n",
        "}\n",
        "\n",
        ".CodeMirror {\n",
        "font-size: 14pt;\n",
        " font-family: Consolas, monospace;\n",
        " }\n",
        "\n",
        ".rendered_html ol {list-style:decimal; margin: 1em 2em;}\n",
        "\n",
        "</style>\n"
       ],
       "output_type": "pyout",
       "prompt_number": 1,
       "text": [
        "<IPython.core.display.HTML at 0x27de7d0>"
       ]
      }
     ],
     "prompt_number": 1
    },
    {
     "cell_type": "code",
     "collapsed": false,
     "input": [],
     "language": "python",
     "metadata": {
      "slideshow": {
       "slide_type": "skip"
      }
     },
     "outputs": []
    }
   ],
   "metadata": {}
  }
 ]
}