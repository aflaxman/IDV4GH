{
 "metadata": {
  "name": "2013_07_04d_IDV4GH_Exercise_03_Tables"
 },
 "nbformat": 3,
 "nbformat_minor": 0,
 "worksheets": [
  {
   "cells": [
    {
     "cell_type": "markdown",
     "metadata": {
      "slideshow": {
       "slide_type": "slide"
      }
     },
     "source": [
      "# IDV4GH Exercise 3\n",
      "\n",
      "## D3js for Tables\n"
     ]
    },
    {
     "cell_type": "markdown",
     "metadata": {
      "slideshow": {
       "slide_type": "subslide"
      }
     },
     "source": [
      "## The goal of this exercise is to learn more about HTML and D3\n",
      "\n",
      "## The approach is to make something like the [Heatmap from the GBD 2010](http://www.healthmetricsandevaluation.org/gbd/visualizations/gbd-heatmap?type=Heat&cr=cause&metric=2&colGrp=East%20Asia&sex=3&age=9&yr=2010&geoRef=CHN&rankRange=1,10&geoShow=&geoHidden=&heatDimen=70__30__2__20__40__90__32)"
     ]
    },
    {
     "cell_type": "markdown",
     "metadata": {
      "slideshow": {
       "slide_type": "subslide"
      }
     },
     "source": [
      "## In other words, we will do a lot of work to have something look roughly like this:"
     ]
    },
    {
     "cell_type": "code",
     "collapsed": false,
     "input": [
      "import pandas as pd, StringIO"
     ],
     "language": "python",
     "metadata": {
      "slideshow": {
       "slide_type": "skip"
      }
     },
     "outputs": [],
     "prompt_number": 5
    },
    {
     "cell_type": "code",
     "collapsed": false,
     "input": [
      "print pd.read_csv(StringIO.StringIO(\n",
      "\"\"\",China,North Korea,Taiwan\n",
      "Road injury,1,2,1\n",
      "Low back pain,2,3,2\n",
      "Major depressive disorder,3,4,5\n",
      "Self-harm,4,1,3\n",
      "Drug use disorders,5,5,6\"\"\"), index_col=0)"
     ],
     "language": "python",
     "metadata": {},
     "outputs": [
      {
       "output_type": "stream",
       "stream": "stdout",
       "text": [
        "                           China  North Korea  Taiwan\n",
        "Road injury                    1            2       1\n",
        "Low back pain                  2            3       2\n",
        "Major depressive disorder      3            4       5\n",
        "Self-harm                      4            1       3\n",
        "Drug use disorders             5            5       6"
       ]
      },
      {
       "output_type": "stream",
       "stream": "stdout",
       "text": [
        "\n"
       ]
      }
     ],
     "prompt_number": 14
    },
    {
     "cell_type": "markdown",
     "metadata": {
      "slideshow": {
       "slide_type": "subslide"
      }
     },
     "source": [
      "## But it will look nicer!\n",
      "## And be interactive"
     ]
    },
    {
     "cell_type": "markdown",
     "metadata": {
      "slideshow": {
       "slide_type": "slide"
      }
     },
     "source": [
      "## To start, our trusty skeleton:\n",
      "\n",
      "    <!DOCTYPE html>\n",
      "    <meta charset=\"utf-8\">\n",
      "    \n",
      "    <style>\n",
      "    /* css goes here */\n",
      "    </style>\n",
      "    \n",
      "    <body>\n",
      "    <p>HTML goes here.</p>\n",
      "    \n",
      "    <script src=\"../d3.v3.js\"></script>\n",
      "    <script>\n",
      "    // javascript goes here\n",
      "    </script>\n",
      "\n",
      "[show results](/files/html/03_table/03_table_00.html)"
     ]
    },
    {
     "cell_type": "code",
     "collapsed": false,
     "input": [
      "%%file html/03_table/03_table_00.html\n",
      "\n",
      "<!DOCTYPE html>\n",
      "<meta charset=\"utf-8\">\n",
      "\n",
      "<style>\n",
      "/* css goes here */\n",
      "</style>\n",
      "\n",
      "<body>\n",
      "<p>GBD Heatmap Table</p>\n",
      "\n",
      "<script src=\"../d3.v3.js\"></script>\n",
      "<script>\n",
      "// javascript goes here\n",
      "</script>\n"
     ],
     "language": "python",
     "metadata": {
      "slideshow": {
       "slide_type": "skip"
      }
     },
     "outputs": [
      {
       "output_type": "stream",
       "stream": "stdout",
       "text": [
        "Overwriting html/03_table/03_table_00.html\n"
       ]
      }
     ],
     "prompt_number": 17
    },
    {
     "cell_type": "markdown",
     "metadata": {
      "slideshow": {
       "slide_type": "slide"
      }
     },
     "source": [
      "## To get started, figure out how to make an HTML table\n",
      "\n",
      "## Google can help"
     ]
    },
    {
     "cell_type": "markdown",
     "metadata": {
      "slideshow": {
       "slide_type": "subslide"
      }
     },
     "source": [
      "## Here is a way to do it, what a mess:\n",
      "\n",
      "    <table>\n",
      "        <tr><th></th><th>China</th><th>North Korea</th><th>Taiwan</th></tr>\n",
      "        <tr><td>Road injury</td><td>1</td><td>2</td><td>1</td></tr>\n",
      "        <tr><td>Low back pain</td><td>2</td><td>3</td><td>2</td></tr>\n",
      "        <tr><td>Major depressive disorder</td><td>3</td><td>4</td><td>5</td></tr>\n",
      "        <tr><td>Self-harm</td><td>4</td><td>1</td><td>3</td></tr>\n",
      "        <tr><td>Drug use disorders</td><td>5</td><td>5</td><td>6</td></tr>\n",
      "    </table>\n",
      "\n",
      "[show results](/files/html/03_table/03_table_01.html)"
     ]
    },
    {
     "cell_type": "code",
     "collapsed": false,
     "input": [
      "%%file html/03_table/03_table_01.html\n",
      "\n",
      "<!DOCTYPE html>\n",
      "<meta charset=\"utf-8\">\n",
      "\n",
      "<style>\n",
      "/* css goes here */\n",
      "</style>\n",
      "\n",
      "<body>\n",
      "<p>GBD Heatmap Table</p>\n",
      "<table>\n",
      "    <tr><th></th><th>China</th><th>North Korea</th><th>Taiwan</th></tr>\n",
      "    <tr><td>Road injury</td><td>1</td><td>2</td><td>1</td></tr>\n",
      "    <tr><td>Low back pain</td><td>2</td><td>3</td><td>2</td></tr>\n",
      "    <tr><td>Major depressive disorder</td><td>3</td><td>4</td><td>5</td></tr>\n",
      "    <tr><td>Self-harm</td><td>4</td><td>1</td><td>3</td></tr>\n",
      "    <tr><td>Drug use disorders</td><td>5</td><td>5</td><td>6</td></tr>\n",
      "</table>\n",
      "\n",
      "<script src=\"../d3.v3.js\"></script>\n",
      "<script>\n",
      "// javascript goes here\n",
      "</script>\n"
     ],
     "language": "python",
     "metadata": {
      "slideshow": {
       "slide_type": "skip"
      }
     },
     "outputs": [
      {
       "output_type": "stream",
       "stream": "stdout",
       "text": [
        "Writing html/03_table/03_table_01.html\n"
       ]
      }
     ],
     "prompt_number": 18
    },
    {
     "cell_type": "markdown",
     "metadata": {
      "slideshow": {
       "slide_type": "slide"
      }
     },
     "source": [
      "## And CSS to style it:\n",
      "\n",
      "    table\n",
      "    {\n",
      "        width:100%;\n",
      "        border-collapse:collapse;\n",
      "    }\n",
      "    \n",
      "    th\n",
      "    {\n",
      "        height:50px;\n",
      "        background-color:green;\n",
      "        color:white;\n",
      "    }\n",
      "    \n",
      "    td\n",
      "    {\n",
      "        text-align:right;\n",
      "        height:50px;\n",
      "        vertical-align:bottom;\n",
      "        padding:15px;\n",
      "    }\n",
      "    \n",
      "    \n",
      "    table, th, td\n",
      "    {\n",
      "        border: 1px solid green;\n",
      "    }\n",
      "\n",
      "[show results](/files/html/03_table/03_table_01b.html)"
     ]
    },
    {
     "cell_type": "code",
     "collapsed": false,
     "input": [
      "%%file html/03_table/03_table_01b.html\n",
      "\n",
      "<!DOCTYPE html>\n",
      "<meta charset=\"utf-8\">\n",
      "\n",
      "<style>\n",
      "table\n",
      "{\n",
      "    width:960px;\n",
      "    border-collapse:collapse;\n",
      "}\n",
      "\n",
      "th\n",
      "{\n",
      "    height:50px;\n",
      "    background-color:green;\n",
      "    color:white;\n",
      "}\n",
      "\n",
      "td\n",
      "{\n",
      "    text-align:right;\n",
      "    height:50px;\n",
      "    vertical-align:bottom;\n",
      "    padding:15px;\n",
      "}\n",
      "\n",
      "\n",
      "table, th, td\n",
      "{\n",
      "    border: 1px solid green;\n",
      "}\n",
      "</style>\n",
      "\n",
      "<body>\n",
      "<p>GBD Heatmap Table</p>\n",
      "<table>\n",
      "    <tr><th></th><th>China</th><th>North Korea</th><th>Taiwan</th></tr>\n",
      "    <tr><td>Road injury</td><td>1</td><td>2</td><td>1</td></tr>\n",
      "    <tr><td>Low back pain</td><td>2</td><td>3</td><td>2</td></tr>\n",
      "    <tr><td>Major depressive disorder</td><td>3</td><td>4</td><td>5</td></tr>\n",
      "    <tr><td>Self-harm</td><td>4</td><td>1</td><td>3</td></tr>\n",
      "    <tr><td>Drug use disorders</td><td>5</td><td>5</td><td>6</td></tr>\n",
      "</table>\n",
      "\n",
      "<script src=\"../d3.v3.js\"></script>\n",
      "<script>\n",
      "// javascript goes here\n",
      "</script>\n"
     ],
     "language": "python",
     "metadata": {
      "slideshow": {
       "slide_type": "skip"
      }
     },
     "outputs": [
      {
       "output_type": "stream",
       "stream": "stdout",
       "text": [
        "Overwriting html/03_table/03_table_01b.html\n"
       ]
      }
     ],
     "prompt_number": 22
    },
    {
     "cell_type": "markdown",
     "metadata": {
      "slideshow": {
       "slide_type": "slide"
      }
     },
     "source": [
      "## If I gave you the CSV data for this, could you get d3 to make the table for you?\n",
      "\n",
      "    condition,China,North Korea,Taiwan\n",
      "    Road injury,1,2,1\n",
      "    Low back pain,2,3,2\n",
      "    Major depressive disorder,3,4,5\n",
      "    Self-harm,4,1,3\n",
      "    Drug use disorders,5,5,6"
     ]
    },
    {
     "cell_type": "code",
     "collapsed": false,
     "input": [
      "%%file html/03_table/03_table_02.csv\n",
      "condition,China,North Korea,Taiwan\n",
      "Road injury,1,2,1\n",
      "Low back pain,2,3,2\n",
      "Major depressive disorder,3,4,5\n",
      "Self-harm,4,1,3\n",
      "Drug use disorders,5,5,6"
     ],
     "language": "python",
     "metadata": {
      "slideshow": {
       "slide_type": "skip"
      }
     },
     "outputs": [
      {
       "output_type": "stream",
       "stream": "stdout",
       "text": [
        "Writing html/03_table/03_table_02.csv\n"
       ]
      }
     ],
     "prompt_number": 31
    },
    {
     "cell_type": "markdown",
     "metadata": {
      "slideshow": {
       "slide_type": "subslide"
      }
     },
     "source": [
      "## Way to start: `d3.csv.parse`\n",
      "\n",
      "    var data = d3.csv.parse(\"condition,China,North Korea,Taiwan\\nRoad injury,1,2,1\\nLow back pain,2,3,2\\nMajor depressive disorder,3,4,5\\nSelf-harm,4,1,3\\nDrug use disorders,5,5,6\");\n",
      "\n",
      "\n",
      "[show results](/files/html/03_table/03_table_02.html)"
     ]
    },
    {
     "cell_type": "code",
     "collapsed": false,
     "input": [
      "%%file html/03_table/03_table_02.html\n",
      "\n",
      "<!DOCTYPE html>\n",
      "<meta charset=\"utf-8\">\n",
      "\n",
      "<style>\n",
      "/* css goes here */\n",
      "</style>\n",
      "\n",
      "<body>\n",
      "<p>GBD Heatmap Table</p>\n",
      "\n",
      "<script src=\"../d3.v3.js\"></script>\n",
      "<script>\n",
      "var data = d3.csv.parse(\"condition,China,North Korea,Taiwan\\nRoad injury,1,2,1\\nLow back pain,2,3,2\\nMajor depressive disorder,3,4,5\\nSelf-harm,4,1,3\\nDrug use disorders,5,5,6\");\n",
      "</script>\n"
     ],
     "language": "python",
     "metadata": {
      "slideshow": {
       "slide_type": "skip"
      }
     },
     "outputs": [
      {
       "output_type": "stream",
       "stream": "stdout",
       "text": [
        "Overwriting html/03_table/03_table_02.html\n"
       ]
      }
     ],
     "prompt_number": 25
    },
    {
     "cell_type": "markdown",
     "metadata": {
      "slideshow": {
       "slide_type": "subslide"
      }
     },
     "source": [
      "## A way to do it\n",
      "\n",
      "    var table = d3.select(\"body\").append(\"table\");\n",
      "    \n",
      "    table.append(\"thead\").append(\"tr\").selectAll(\"th\")\n",
      "        .data([\"\",\"China\",\"North Korea\",\"Taiwan\"])\n",
      "        .enter()\n",
      "        .append(\"th\")\n",
      "        .text(Object);\n",
      "        \n",
      "    table.append(\"tbody\").selectAll(\"tr\")\n",
      "        .data(data)\n",
      "        .enter()\n",
      "        .append(\"tr\")\n",
      "        .selectAll(\"td\")\n",
      "        .data(function(d){ return [d.condition,d[\"China\"],d[\"North Korea\"],d[\"Taiwan\"]]; })\n",
      "        .enter()\n",
      "        .append(\"td\")\n",
      "        .text(Object)\n",
      "\n",
      "\n",
      "[show results](/files/html/03_table/03_table_02b.html)"
     ]
    },
    {
     "cell_type": "code",
     "collapsed": false,
     "input": [
      "%%file html/03_table/03_table_02b.html\n",
      "\n",
      "<!DOCTYPE html>\n",
      "<meta charset=\"utf-8\">\n",
      "\n",
      "<style>\n",
      "/* css goes here */\n",
      "</style>\n",
      "\n",
      "<body>\n",
      "<p>GBD Heatmap Table</p>\n",
      "\n",
      "<script src=\"../d3.v3.js\"></script>\n",
      "<script>\n",
      "var data = d3.csv.parse(\"condition,China,North Korea,Taiwan\\nRoad injury,1,2,1\\nLow back pain,2,3,2\\nMajor depressive disorder,3,4,5\\nSelf-harm,4,1,3\\nDrug use disorders,5,5,6\");\n",
      "\n",
      "var table = d3.select(\"body\").append(\"table\");\n",
      "\n",
      "table.append(\"thead\").append(\"tr\").selectAll(\"th\")\n",
      "    .data([\"\",\"China\",\"North Korea\",\"Taiwan\"])\n",
      "    .enter()\n",
      "    .append(\"th\")\n",
      "    .text(Object);\n",
      "    \n",
      "table.append(\"tbody\").selectAll(\"tr\")\n",
      "    .data(data)\n",
      "    .enter()\n",
      "    .append(\"tr\")\n",
      "    .selectAll(\"td\")\n",
      "    .data(function(d){ return [d.condition,d[\"China\"],d[\"North Korea\"],d[\"Taiwan\"]]; })\n",
      "    .enter()\n",
      "    .append(\"td\")\n",
      "    .text(Object)\n",
      "</script>\n"
     ],
     "language": "python",
     "metadata": {
      "slideshow": {
       "slide_type": "skip"
      }
     },
     "outputs": [
      {
       "output_type": "stream",
       "stream": "stdout",
       "text": [
        "Writing html/03_table/03_table_02b.html\n"
       ]
      }
     ],
     "prompt_number": 30
    },
    {
     "cell_type": "markdown",
     "metadata": {
      "slideshow": {
       "slide_type": "subslide"
      }
     },
     "source": [
      "## A little cleaner version\n",
      "\n",
      "    areas = [\"China\", \"North Korea\", \"Taiwan\"];\n",
      "\n",
      "    var table = d3.select(\"body\").append(\"table\");\n",
      "    \n",
      "    table.append(\"thead\")\n",
      "        .append(\"tr\").selectAll(\"th\")\n",
      "        .data([\"\"].concat(areas))\n",
      "        .enter()\n",
      "        .append(\"th\")\n",
      "        .text(Object);\n",
      "        \n",
      "    table.append(\"tbody\").selectAll(\"tr\")\n",
      "        .data(data)\n",
      "        .enter()\n",
      "        .append(\"tr\")\n",
      "        .selectAll(\"td\")\n",
      "        .data(function(d) {\n",
      "            return [d.condition].concat(\n",
      "                areas.map(function(a) {\n",
      "                    return d[a]; }))})\n",
      "        .enter()\n",
      "        .append(\"td\")\n",
      "\n",
      "[show results](/files/html/03_table/03_table_02c.html)"
     ]
    },
    {
     "cell_type": "code",
     "collapsed": false,
     "input": [
      "%%file html/03_table/03_table_02c.html\n",
      "\n",
      "<!DOCTYPE html>\n",
      "<meta charset=\"utf-8\">\n",
      "\n",
      "<style>\n",
      "/* css goes here */\n",
      "</style>\n",
      "\n",
      "<body>\n",
      "<p>GBD Heatmap Table</p>\n",
      "\n",
      "<script src=\"../d3.v3.js\"></script>\n",
      "<script>\n",
      "var data = d3.csv.parse(\"condition,China,North Korea,Taiwan\\nRoad injury,1,2,1\\nLow back pain,2,3,2\\nMajor depressive disorder,3,4,5\\nSelf-harm,4,1,3\\nDrug use disorders,5,5,6\"),\n",
      "    areas = [\"China\", \"North Korea\", \"Taiwan\"];\n",
      "\n",
      "var table = d3.select(\"body\").append(\"table\");\n",
      "\n",
      "table.append(\"thead\")\n",
      "    .append(\"tr\").selectAll(\"th\")\n",
      "    .data([\"\"].concat(areas))\n",
      "    .enter()\n",
      "    .append(\"th\")\n",
      "    .text(Object);\n",
      "    \n",
      "table.append(\"tbody\").selectAll(\"tr\")\n",
      "    .data(data)\n",
      "    .enter()\n",
      "    .append(\"tr\")\n",
      "    .selectAll(\"td\")\n",
      "    .data(function(d) {\n",
      "        return [d.condition].concat(\n",
      "            areas.map(function(a) {\n",
      "                return d[a]; }))})\n",
      "    .enter()\n",
      "    .append(\"td\")\n",
      "    .text(Object)\n",
      "</script>\n"
     ],
     "language": "python",
     "metadata": {
      "slideshow": {
       "slide_type": "skip"
      }
     },
     "outputs": [
      {
       "output_type": "stream",
       "stream": "stdout",
       "text": [
        "Writing html/03_table/03_table_02c.html\n"
       ]
      }
     ],
     "prompt_number": 36
    },
    {
     "cell_type": "markdown",
     "metadata": {
      "slideshow": {
       "slide_type": "slide"
      }
     },
     "source": [
      "## Add some interaction, sorting"
     ]
    },
    {
     "cell_type": "markdown",
     "metadata": {
      "slideshow": {
       "slide_type": "subslide"
      }
     },
     "source": [
      "## For example, click on column header to sort by that column\n",
      "\n",
      "    table.append(\"thead\")\n",
      "        .append(\"tr\").selectAll(\"th\")\n",
      "        .data([\"\"].concat(areas))\n",
      "        .enter()\n",
      "        .append(\"th\")\n",
      "        .text(Object)\n",
      "        .on(\"click\", sortByArea);\n",
      "    ...\n",
      "    function sortByArea(a) {\n",
      "        console.log(a);\n",
      "    }\n",
      "\n",
      "\n",
      "[show results](/files/html/03_table/03_table_03.html)"
     ]
    },
    {
     "cell_type": "code",
     "collapsed": false,
     "input": [
      "%%file html/03_table/03_table_03.html\n",
      "\n",
      "<!DOCTYPE html>\n",
      "<meta charset=\"utf-8\">\n",
      "\n",
      "<style>\n",
      "/* css goes here */\n",
      "</style>\n",
      "\n",
      "<body>\n",
      "<p>GBD Heatmap Table</p>\n",
      "\n",
      "<script src=\"../d3.v3.js\"></script>\n",
      "<script>\n",
      "var data = d3.csv.parse(\"condition,China,North Korea,Taiwan\\nRoad injury,1,2,1\\nLow back pain,2,3,2\\nMajor depressive disorder,3,4,5\\nSelf-harm,4,1,3\\nDrug use disorders,5,5,6\"),\n",
      "    areas = [\"China\", \"North Korea\", \"Taiwan\"];\n",
      "\n",
      "var table = d3.select(\"body\").append(\"table\");\n",
      "\n",
      "table.append(\"thead\")\n",
      "    .append(\"tr\").selectAll(\"th\")\n",
      "    .data([\"\"].concat(areas))\n",
      "    .enter()\n",
      "    .append(\"th\")\n",
      "    .text(Object)\n",
      "    .on(\"click\", sortByArea);\n",
      "    \n",
      "table.append(\"tbody\").selectAll(\"tr\")\n",
      "    .data(data)\n",
      "    .enter()\n",
      "    .append(\"tr\")\n",
      "    .selectAll(\"td\")\n",
      "    .data(function(d) {\n",
      "        return [d.condition].concat(\n",
      "            areas.map(function(a) {\n",
      "                return d[a]; }))})\n",
      "    .enter()\n",
      "    .append(\"td\")\n",
      "    .text(Object)\n",
      "    \n",
      "function sortByArea(a) {\n",
      "    console.log(a);\n",
      "}\n",
      "</script>\n"
     ],
     "language": "python",
     "metadata": {
      "slideshow": {
       "slide_type": "skip"
      }
     },
     "outputs": [
      {
       "output_type": "stream",
       "stream": "stdout",
       "text": [
        "Overwriting html/03_table/03_table_03.html\n"
       ]
      }
     ],
     "prompt_number": 37
    },
    {
     "cell_type": "markdown",
     "metadata": {
      "slideshow": {
       "slide_type": "subslide"
      }
     },
     "source": [
      "## Notice anything wrong with this interaction?"
     ]
    },
    {
     "cell_type": "markdown",
     "metadata": {
      "slideshow": {
       "slide_type": "subslide"
      }
     },
     "source": [
      "## No hint that you can click the column headers"
     ]
    },
    {
     "cell_type": "markdown",
     "metadata": {
      "slideshow": {
       "slide_type": "subslide"
      }
     },
     "source": [
      "## CSS can fix that\n",
      "\n",
      "    th { cursor: pointer; }\n",
      "\n",
      "[show results](/files/html/03_table/03_table_03b.html)"
     ]
    },
    {
     "cell_type": "code",
     "collapsed": false,
     "input": [
      "%%file html/03_table/03_table_03b.html\n",
      "\n",
      "<!DOCTYPE html>\n",
      "<meta charset=\"utf-8\">\n",
      "\n",
      "<style>\n",
      "th { cursor: pointer; }\n",
      "</style>\n",
      "\n",
      "<body>\n",
      "<p>GBD Heatmap Table</p>\n",
      "\n",
      "<script src=\"../d3.v3.js\"></script>\n",
      "<script>\n",
      "var data = d3.csv.parse(\"condition,China,North Korea,Taiwan\\nRoad injury,1,2,1\\nLow back pain,2,3,2\\nMajor depressive disorder,3,4,5\\nSelf-harm,4,1,3\\nDrug use disorders,5,5,6\"),\n",
      "    areas = [\"China\", \"North Korea\", \"Taiwan\"];\n",
      "\n",
      "var table = d3.select(\"body\").append(\"table\");\n",
      "\n",
      "table.append(\"thead\")\n",
      "    .append(\"tr\").selectAll(\"th\")\n",
      "    .data([\"\"].concat(areas))\n",
      "    .enter()\n",
      "    .append(\"th\")\n",
      "    .text(Object)\n",
      "    .on(\"click\", sortByArea);\n",
      "    \n",
      "table.append(\"tbody\").selectAll(\"tr\")\n",
      "    .data(data)\n",
      "    .enter()\n",
      "    .append(\"tr\")\n",
      "    .selectAll(\"td\")\n",
      "    .data(function(d) {\n",
      "        return [d.condition].concat(\n",
      "            areas.map(function(a) {\n",
      "                return d[a]; }))})\n",
      "    .enter()\n",
      "    .append(\"td\")\n",
      "    .text(Object)\n",
      "    \n",
      "function sortByArea(a) {\n",
      "    console.log(a);\n",
      "}\n",
      "</script>\n"
     ],
     "language": "python",
     "metadata": {
      "slideshow": {
       "slide_type": "skip"
      }
     },
     "outputs": [
      {
       "output_type": "stream",
       "stream": "stdout",
       "text": [
        "Writing html/03_table/03_table_03b.html\n"
       ]
      }
     ],
     "prompt_number": 38
    },
    {
     "cell_type": "markdown",
     "metadata": {
      "slideshow": {
       "slide_type": "subslide"
      }
     },
     "source": [
      "## Back to sorting"
     ]
    },
    {
     "cell_type": "markdown",
     "metadata": {
      "slideshow": {
       "slide_type": "subslide"
      }
     },
     "source": [
      "## Adding brains to the `sortByArea` function\n",
      "\n",
      "    function sortByArea(a) {\n",
      "        console.log(a);\n",
      "        function comp(r,s) {\n",
      "            return r[a] - s[a];\n",
      "        }\n",
      "        table.select(\"tbody\")\n",
      "            .selectAll(\"tr\")\n",
      "            .sort(comp);\n",
      "    }\n",
      "\n",
      "[show results](/files/html/03_table/03_table_03c.html)"
     ]
    },
    {
     "cell_type": "code",
     "collapsed": false,
     "input": [
      "%%file html/03_table/03_table_03c.html\n",
      "\n",
      "<!DOCTYPE html>\n",
      "<meta charset=\"utf-8\">\n",
      "\n",
      "<style>\n",
      "th { cursor: pointer; }\n",
      "</style>\n",
      "\n",
      "<body>\n",
      "<p>GBD Heatmap Table</p>\n",
      "\n",
      "<script src=\"../d3.v3.js\"></script>\n",
      "<script>\n",
      "var data = d3.csv.parse(\"condition,China,North Korea,Taiwan\\nRoad injury,1,2,1\\nLow back pain,2,3,2\\nMajor depressive disorder,3,4,5\\nSelf-harm,4,1,3\\nDrug use disorders,5,5,6\"),\n",
      "    areas = [\"China\", \"North Korea\", \"Taiwan\"];\n",
      "\n",
      "var table = d3.select(\"body\").append(\"table\");\n",
      "\n",
      "table.append(\"thead\")\n",
      "    .append(\"tr\").selectAll(\"th\")\n",
      "    .data([\"\"].concat(areas))\n",
      "    .enter()\n",
      "    .append(\"th\")\n",
      "    .text(Object)\n",
      "    .on(\"click\", sortByArea);\n",
      "    \n",
      "table.append(\"tbody\")\n",
      "    .selectAll(\"tr\").data(data)\n",
      "    .enter()\n",
      "    .append(\"tr\")\n",
      "    .selectAll(\"td\")\n",
      "    .data(function(d) {\n",
      "        return [d.condition].concat(\n",
      "            areas.map(function(a) {\n",
      "                return d[a]; }))})\n",
      "    .enter()\n",
      "    .append(\"td\")\n",
      "    .text(Object)\n",
      "    \n",
      "function sortByArea(a) {\n",
      "    console.log(a);\n",
      "    function comp(r,s) {\n",
      "        return r[a] - s[a];\n",
      "    }\n",
      "    table.select(\"tbody\")\n",
      "        .selectAll(\"tr\")\n",
      "        .sort(comp);\n",
      "}\n",
      "</script>\n"
     ],
     "language": "python",
     "metadata": {
      "slideshow": {
       "slide_type": "skip"
      }
     },
     "outputs": [
      {
       "output_type": "stream",
       "stream": "stdout",
       "text": [
        "Overwriting html/03_table/03_table_03c.html\n"
       ]
      }
     ],
     "prompt_number": 49
    },
    {
     "cell_type": "markdown",
     "metadata": {
      "slideshow": {
       "slide_type": "subslide"
      }
     },
     "source": [
      "## Anything wrong?"
     ]
    },
    {
     "cell_type": "markdown",
     "metadata": {
      "slideshow": {
       "slide_type": "subslide"
      }
     },
     "source": [
      "## Fix that little edge case\n",
      "\n",
      "    function sortByArea(a) {\n",
      "        if(a) {\n",
      "            comp = function(r,s) {\n",
      "                return r[a] - s[a];\n",
      "            }\n",
      "        } else {\n",
      "            comp = function(r,s) {\n",
      "                return r.condition > s.condition;\n",
      "            }\n",
      "        }\n",
      "        table.select(\"tbody\")\n",
      "            .selectAll(\"tr\")\n",
      "            .sort(comp);\n",
      "    }\n",
      "\n",
      "[show results](/files/html/03_table/03_table_03d.html)"
     ]
    },
    {
     "cell_type": "code",
     "collapsed": false,
     "input": [
      "%%file html/03_table/03_table_03d.html\n",
      "\n",
      "<!DOCTYPE html>\n",
      "<meta charset=\"utf-8\">\n",
      "\n",
      "<style>\n",
      "th { cursor: pointer; }\n",
      "</style>\n",
      "\n",
      "<body>\n",
      "<p>GBD Heatmap Table</p>\n",
      "\n",
      "<script src=\"../d3.v3.js\"></script>\n",
      "<script>\n",
      "var data = d3.csv.parse(\"condition,China,North Korea,Taiwan\\nRoad injury,1,2,1\\nLow back pain,2,3,2\\nMajor depressive disorder,3,4,5\\nSelf-harm,4,1,3\\nDrug use disorders,5,5,6\"),\n",
      "    areas = [\"China\", \"North Korea\", \"Taiwan\"];\n",
      "\n",
      "var table = d3.select(\"body\").append(\"table\");\n",
      "\n",
      "table.append(\"thead\")\n",
      "    .append(\"tr\").selectAll(\"th\")\n",
      "    .data([\"\"].concat(areas))\n",
      "    .enter()\n",
      "    .append(\"th\")\n",
      "    .text(Object)\n",
      "    .on(\"click\", sortByArea);\n",
      "    \n",
      "table.append(\"tbody\")\n",
      "    .selectAll(\"tr\").data(data)\n",
      "    .enter()\n",
      "    .append(\"tr\")\n",
      "    .selectAll(\"td\")\n",
      "    .data(function(d) {\n",
      "        return [d.condition].concat(\n",
      "            areas.map(function(a) {\n",
      "                return d[a]; }))})\n",
      "    .enter()\n",
      "    .append(\"td\")\n",
      "    .text(Object)\n",
      "    \n",
      "function sortByArea(a) {\n",
      "    if(a) {\n",
      "        comp = function(r,s) {\n",
      "            return r[a] - s[a];\n",
      "        }\n",
      "    } else {\n",
      "        comp = function(r,s) {\n",
      "            return r.condition > s.condition;\n",
      "        }\n",
      "    }\n",
      "    table.select(\"tbody\")\n",
      "        .selectAll(\"tr\")\n",
      "        .sort(comp);\n",
      "}\n",
      "</script>\n"
     ],
     "language": "python",
     "metadata": {
      "slideshow": {
       "slide_type": "skip"
      }
     },
     "outputs": [
      {
       "output_type": "stream",
       "stream": "stdout",
       "text": [
        "Overwriting html/03_table/03_table_03d.html\n"
       ]
      }
     ],
     "prompt_number": 54
    },
    {
     "cell_type": "markdown",
     "metadata": {
      "slideshow": {
       "slide_type": "slide"
      }
     },
     "source": [
      "## And how to animate the sorting?  Now we need SVG version"
     ]
    },
    {
     "cell_type": "markdown",
     "metadata": {
      "slideshow": {
       "slide_type": "subslide"
      }
     },
     "source": [
      "## Start of an SVG version, after all that HTML work\n",
      "\n",
      "    var width = 960,\n",
      "        height = 500;\n",
      "    \n",
      "    var svg = d3.select(\"body\").append(\"svg\")\n",
      "        .attr(\"width\", width)\n",
      "        .attr(\"height\", height);\n",
      "    \n",
      "    var thead = svg.append(\"g\");\n",
      "    thead.selectAll(\"g\")\n",
      "        .data([\"\"].concat(areas))\n",
      "        .enter()\n",
      "        .append(\"text\")\n",
      "        .text(Object)\n",
      "        .attr('x', function(d,i) {\n",
      "            return 100*i; })\n",
      "        .attr('y', 150)\n",
      "        .attr('fill', 'black')\n",
      "        .on(\"click\", null);\n",
      "\n",
      "\n",
      "[show results](/files/html/03_table/03_table_04.html)"
     ]
    },
    {
     "cell_type": "code",
     "collapsed": false,
     "input": [
      "%%file html/03_table/03_table_04.html\n",
      "\n",
      "<!DOCTYPE html>\n",
      "<meta charset=\"utf-8\">\n",
      "\n",
      "<style>\n",
      "th { cursor: pointer; }\n",
      "</style>\n",
      "\n",
      "<body>\n",
      "<p>GBD Heatmap SVG</p>\n",
      "\n",
      "<script src=\"../d3.v3.js\"></script>\n",
      "<script>\n",
      "var data = d3.csv.parse(\"condition,China,North Korea,Taiwan\\nRoad injury,1,2,1\\nLow back pain,2,3,2\\nMajor depressive disorder,3,4,5\\nSelf-harm,4,1,3\\nDrug use disorders,5,5,6\"),\n",
      "    areas = [\"China\", \"North Korea\", \"Taiwan\"];\n",
      "\n",
      "var cell_width=150,\n",
      "    cell_height=24,\n",
      "    width=cell_width*4,\n",
      "    height=cell_height*6;\n",
      "\n",
      "var svg = d3.select(\"body\").append(\"svg\")\n",
      "    .attr(\"width\", width)\n",
      "    .attr(\"height\", height);\n",
      "\n",
      "var thead = svg.append(\"g\");\n",
      "thead.selectAll(\"g\")\n",
      "    .data([\"\"].concat(areas))\n",
      "    .enter()\n",
      "    .append(\"text\")\n",
      "    .text(Object)\n",
      "    .attr('x', function(d,i) {\n",
      "        return cell_width*i; })\n",
      "    .attr('y', cell_height)\n",
      "    .attr('fill', 'black')\n",
      "    .on(\"click\", null);\n",
      "    \n",
      "</script>"
     ],
     "language": "python",
     "metadata": {
      "slideshow": {
       "slide_type": "skip"
      }
     },
     "outputs": [
      {
       "output_type": "stream",
       "stream": "stdout",
       "text": [
        "Overwriting html/03_table/03_table_04.html\n"
       ]
      }
     ],
     "prompt_number": 62
    },
    {
     "cell_type": "markdown",
     "metadata": {
      "slideshow": {
       "slide_type": "subslide"
      }
     },
     "source": [
      "## Add the rows\n",
      "\n",
      "    var tbody = svg.append(\"g\");\n",
      "    tbody.selectAll(\"g\").data(data)\n",
      "        .enter()\n",
      "        .append(\"g\")\n",
      "        .selectAll(\"text\")\n",
      "        .data(function(d, i) {\n",
      "            return [[i, d.condition]].concat(\n",
      "                areas.map(function(a) {\n",
      "                    return [i, d[a]]; }))})\n",
      "        .enter()\n",
      "        .append(\"text\")\n",
      "        .text(function(d) {\n",
      "            return d[1]; })\n",
      "        .attr('x', function(d,j) {\n",
      "            return cell_width*j; })\n",
      "        .attr('y', function(d) {\n",
      "            return (d[0]+2)*cell_height; });\n",
      "\n",
      "[show results](/files/html/03_table/03_table_04b.html)"
     ]
    },
    {
     "cell_type": "code",
     "collapsed": false,
     "input": [
      "%%file html/03_table/03_table_04b.html\n",
      "\n",
      "<!DOCTYPE html>\n",
      "<meta charset=\"utf-8\">\n",
      "\n",
      "<style>\n",
      "th { cursor: pointer; }\n",
      "</style>\n",
      "\n",
      "<body>\n",
      "<p>GBD Heatmap SVG</p>\n",
      "\n",
      "<script src=\"../d3.v3.js\"></script>\n",
      "<script>\n",
      "var data = d3.csv.parse(\"condition,China,North Korea,Taiwan\\nRoad injury,1,2,1\\nLow back pain,2,3,2\\nMajor depressive disorder,3,4,5\\nSelf-harm,4,1,3\\nDrug use disorders,5,5,6\"),\n",
      "    areas = [\"China\", \"North Korea\", \"Taiwan\"];\n",
      "\n",
      "var cell_width=150,\n",
      "    cell_height=24,\n",
      "    width=cell_width*4,\n",
      "    height=cell_height*6;\n",
      "\n",
      "var svg = d3.select(\"body\").append(\"svg\")\n",
      "    .attr(\"width\", width)\n",
      "    .attr(\"height\", height);\n",
      "\n",
      "var thead = svg.append(\"g\");\n",
      "thead.selectAll(\"g\")\n",
      "    .data([\"\"].concat(areas))\n",
      "    .enter()\n",
      "    .append(\"text\")\n",
      "    .text(Object)\n",
      "    .attr('x', function(d,j) {\n",
      "        return cell_width*j; })\n",
      "    .attr('y', cell_height)\n",
      "    .on(\"click\", null);\n",
      "    \n",
      "    \n",
      "var tbody = svg.append(\"g\");\n",
      "tbody.selectAll(\"g\").data(data)\n",
      "    .enter()\n",
      "    .append(\"g\")\n",
      "    .selectAll(\"text\")\n",
      "    .data(function(d, i) {\n",
      "        return [[i, d.condition]].concat(\n",
      "            areas.map(function(a) {\n",
      "                return [i, d[a]]; }))})\n",
      "    .enter()\n",
      "    .append(\"text\")\n",
      "    .text(function(d) {\n",
      "        return d[1]; })\n",
      "    .attr('x', function(d,j) {\n",
      "        return cell_width*j; })\n",
      "    .attr('y', function(d) {\n",
      "        return (d[0]+2)*cell_height; });\n",
      "</script>"
     ],
     "language": "python",
     "metadata": {
      "slideshow": {
       "slide_type": "skip"
      }
     },
     "outputs": [
      {
       "output_type": "stream",
       "stream": "stdout",
       "text": [
        "Overwriting html/03_table/03_table_04b.html\n"
       ]
      }
     ],
     "prompt_number": 75
    },
    {
     "cell_type": "markdown",
     "metadata": {
      "slideshow": {
       "slide_type": "slide"
      }
     },
     "source": [
      "## And animating it takes some thinking, too"
     ]
    },
    {
     "cell_type": "markdown",
     "metadata": {
      "slideshow": {
       "slide_type": "subslide"
      }
     },
     "source": [
      "## Is there a simpler way?\n",
      "\n",
      "    function sortByArea(a) {\n",
      "        if(a) {\n",
      "            comp = function(r,s) {\n",
      "                return r[a] - s[a];\n",
      "            }\n",
      "        } else {\n",
      "            comp = function(r,s) {\n",
      "                return r.condition > s.condition;\n",
      "            }\n",
      "        }\n",
      "        console.log(a);\n",
      "        tbody.selectAll(\"g\")\n",
      "            .sort(comp)\n",
      "            .selectAll(\"text\")\n",
      "            .data(function(d, i) {\n",
      "                return [[i, d.condition]].concat(\n",
      "                    areas.map(function(a) {\n",
      "                        return [i, d[a]]; }))})\n",
      "            .transition()\n",
      "            .attr('y', function(d) {\n",
      "                console.log(d);\n",
      "                return (d[0]+2)*cell_height; });\n",
      "    }\n",
      "\n",
      "[show results](/files/html/03_table/03_table_05.html)"
     ]
    },
    {
     "cell_type": "code",
     "collapsed": false,
     "input": [
      "%%file html/03_table/03_table_05.html\n",
      "\n",
      "<!DOCTYPE html>\n",
      "<meta charset=\"utf-8\">\n",
      "\n",
      "<style>\n",
      "th { cursor: pointer; }\n",
      "</style>\n",
      "\n",
      "<body>\n",
      "<p>GBD Heatmap SVG</p>\n",
      "\n",
      "<script src=\"../d3.v3.js\"></script>\n",
      "<script>\n",
      "var data = d3.csv.parse(\"condition,China,North Korea,Taiwan\\nRoad injury,1,2,1\\nLow back pain,2,3,2\\nMajor depressive disorder,3,4,5\\nSelf-harm,4,1,3\\nDrug use disorders,5,5,6\"),\n",
      "    areas = [\"China\", \"North Korea\", \"Taiwan\"];\n",
      "\n",
      "var cell_width=150,\n",
      "    cell_height=24,\n",
      "    width=cell_width*4,\n",
      "    height=cell_height*6;\n",
      "\n",
      "var svg = d3.select(\"body\").append(\"svg\")\n",
      "    .attr(\"width\", width)\n",
      "    .attr(\"height\", height);\n",
      "\n",
      "var thead = svg.append(\"g\");\n",
      "thead.selectAll(\"g\")\n",
      "    .data([\"\"].concat(areas))\n",
      "    .enter()\n",
      "    .append(\"text\")\n",
      "    .text(Object)\n",
      "    .attr('x', function(d,j) {\n",
      "        return cell_width*j; })\n",
      "    .attr('y', cell_height)\n",
      "    .on(\"click\", sortByArea);\n",
      "    \n",
      "    \n",
      "var tbody = svg.append(\"g\");\n",
      "tbody.selectAll(\"g\").data(data)\n",
      "    .enter()\n",
      "    .append(\"g\")\n",
      "    .selectAll(\"text\")\n",
      "    .data(function(d, i) {\n",
      "        return [[i, d.condition]].concat(\n",
      "            areas.map(function(a) {\n",
      "                return [i, d[a]]; }))})\n",
      "    .enter()\n",
      "    .append(\"text\")\n",
      "    .text(function(d) {\n",
      "        return d[1]; })\n",
      "    .attr('x', function(d,j) {\n",
      "        return cell_width*j; })\n",
      "    .attr('y', function(d) {\n",
      "        return (d[0]+2)*cell_height; });\n",
      "    \n",
      "function sortByArea(a) {\n",
      "    if(a) {\n",
      "        comp = function(r,s) {\n",
      "            return r[a] - s[a];\n",
      "        }\n",
      "    } else {\n",
      "        comp = function(r,s) {\n",
      "            return r.condition > s.condition;\n",
      "        }\n",
      "    }\n",
      "    console.log(a);\n",
      "    tbody.selectAll(\"g\")\n",
      "        .sort(comp)\n",
      "        .selectAll(\"text\")\n",
      "        .data(function(d, i) {\n",
      "            return [[i, d.condition]].concat(\n",
      "                areas.map(function(a) {\n",
      "                    return [i, d[a]]; }))})\n",
      "        .transition()\n",
      "        .attr('y', function(d) {\n",
      "            console.log(d);\n",
      "            return (d[0]+2)*cell_height; });\n",
      "}\n",
      "</script>"
     ],
     "language": "python",
     "metadata": {
      "slideshow": {
       "slide_type": "skip"
      }
     },
     "outputs": [
      {
       "output_type": "stream",
       "stream": "stdout",
       "text": [
        "Writing html/03_table/03_table_05.html\n"
       ]
      }
     ],
     "prompt_number": 76
    },
    {
     "cell_type": "markdown",
     "metadata": {
      "slideshow": {
       "slide_type": "slide"
      }
     },
     "source": [
      "## Tomorrow: cool interactions and the return of our bubble chart"
     ]
    },
    {
     "cell_type": "code",
     "collapsed": false,
     "input": [
      "!cp /homes/abie/notebook/2013_07_04d_IDV4GH_Exercise_03_Tables.ipynb /homes/abie/nbconvert/E3.ipynb\n",
      "!cd /homes/abie/nbconvert/; ./nbconvert.py --format reveal E3.ipynb\n",
      "!cp /homes/abie/nbconvert/E3* /home/j/Project/Models/IDV4GH/exercises\n",
      "!cp -r /homes/abie/notebook/html/03_table/ /home/j/Project/Models/IDV4GH/exercises/html/"
     ],
     "language": "python",
     "metadata": {
      "slideshow": {
       "slide_type": "skip"
      }
     },
     "outputs": [
      {
       "output_type": "stream",
       "stream": "stdout",
       "text": [
        "\r\n",
        "======================================================\r\n",
        "Warning, we are deprecating this version of nbconvert,\r\n",
        "please consider using the new version.\r\n",
        "======================================================\r\n",
        "    \r\n"
       ]
      }
     ],
     "prompt_number": 79
    },
    {
     "cell_type": "code",
     "collapsed": false,
     "input": [
      "import ipynb_style\n",
      "ipynb_style.presentation()"
     ],
     "language": "python",
     "metadata": {
      "slideshow": {
       "slide_type": "skip"
      }
     },
     "outputs": [
      {
       "html": [
        "\n",
        "<style type=\"text/css\">\n",
        "div.input {\n",
        "width: 1024px; /* about 80 chars + buffer */\n",
        "}\n",
        "\n",
        "div.text_cell {\n",
        "width: 1024px /* instead of 100%, */\n",
        "}\n",
        "\n",
        "div.text_cell_render {\n",
        "/*font-family: \"Helvetica Neue\", Arial, Helvetica, Geneva, sans-serif;*/\n",
        "font-family: \"Charis SIL\", serif; /* Make non-code text serif. */\n",
        "line-height: 145%; /* added for some line spacing of text. */\n",
        "font-size: 28pt;\n",
        "}\n",
        "\n",
        "/* Set the size of the headers */\n",
        "div.text_cell_render h1 {\n",
        "font-size: 36pt;\n",
        "}\n",
        "\n",
        "div.text_cell_render h2 {\n",
        "font-size: 32pt;\n",
        "}\n",
        "\n",
        "div.text_cell_render li {\n",
        "line-height: 1.2em;\n",
        "}\n",
        "\n",
        "div.text_cell_render p {\n",
        "font-size: 14pt;\n",
        "line-height: 1em;\n",
        "}\n",
        "\n",
        ".CodeMirror {\n",
        "font-size: 14pt;\n",
        " font-family: Consolas, monospace;\n",
        " }\n",
        "\n",
        ".rendered_html ol {list-style:decimal; margin: 1em 2em;}\n",
        "\n",
        "</style>\n"
       ],
       "output_type": "pyout",
       "prompt_number": 4,
       "text": [
        "<IPython.core.display.HTML at 0x3225750>"
       ]
      }
     ],
     "prompt_number": 4
    },
    {
     "cell_type": "markdown",
     "metadata": {},
     "source": [
      "Some hints from [devforrest blog](http://www.devforrest.com/blog/scrollable-sortable-html-table-with-static-headers-using-d3-js/)"
     ]
    },
    {
     "cell_type": "code",
     "collapsed": false,
     "input": [],
     "language": "python",
     "metadata": {},
     "outputs": []
    }
   ],
   "metadata": {}
  }
 ]
}