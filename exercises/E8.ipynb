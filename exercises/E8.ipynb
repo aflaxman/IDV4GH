{
 "metadata": {
  "name": "2013_07_06d_IDV4GH_Exercise_08_treemap"
 },
 "nbformat": 3,
 "nbformat_minor": 0,
 "worksheets": [
  {
   "cells": [
    {
     "cell_type": "markdown",
     "metadata": {
      "slideshow": {
       "slide_type": "slide"
      }
     },
     "source": [
      "# IDV4GH Exercise 8\n",
      "\n",
      "## Axes\n",
      "## Tree Maps\n",
      "\n"
     ]
    },
    {
     "cell_type": "markdown",
     "metadata": {
      "slideshow": {
       "slide_type": "slide"
      }
     },
     "source": [
      "## Skeleton+\n",
      "    \n",
      "    <!DOCTYPE html>\n",
      "    <meta charset=\"utf-8\">\n",
      "    \n",
      "    <style>\n",
      "    /* css goes here */\n",
      "    </style>\n",
      "    \n",
      "    <script src=\"../d3.v3.js\"></script>\n",
      "    <body>\n",
      "    <p>SVG:</p>\n",
      "    \n",
      "    <script>\n",
      "    var w = 800\n",
      "        h = 400,\n",
      "        padding = 20,\n",
      "        x = d3.scale.linear().range([padding, w-padding]),\n",
      "        y = d3.scale.linear().range([h-padding, padding]);\n",
      "    \n",
      "    var svg = d3.select(\"body\")\n",
      "      .append(\"svg\")\n",
      "        .attr(\"width\", w)\n",
      "        .attr(\"height\", h)\n",
      "    </script>\n",
      "\n",
      "[show results](/files/html/08_treemap/08_treemap_00.html)"
     ]
    },
    {
     "cell_type": "code",
     "collapsed": false,
     "input": [
      "%%file html/08_treemap/08_treemap_00.html\n",
      "\n",
      "<!DOCTYPE html>\n",
      "<meta charset=\"utf-8\">\n",
      "\n",
      "<style>\n",
      "/* css goes here */\n",
      "</style>\n",
      "\n",
      "<script src=\"../d3.v3.js\"></script>\n",
      "<body>\n",
      "<p>SVG:</p>\n",
      "\n",
      "<script>\n",
      "var w = 800\n",
      "    h = 400,\n",
      "    padding = 20,\n",
      "    x = d3.scale.linear().range([padding, w-padding]),\n",
      "    y = d3.scale.linear().range([h-padding, padding]);\n",
      "    \n",
      "var svg = d3.select(\"body\")\n",
      "  .append(\"svg\")\n",
      "    .attr(\"width\", w)\n",
      "    .attr(\"height\", h)\n",
      "</script>\n"
     ],
     "language": "python",
     "metadata": {
      "slideshow": {
       "slide_type": "skip"
      }
     },
     "outputs": [
      {
       "output_type": "stream",
       "stream": "stdout",
       "text": [
        "Overwriting html/08_treemap/08_treemap_00.html\n"
       ]
      }
     ],
     "prompt_number": 4
    },
    {
     "cell_type": "markdown",
     "metadata": {
      "slideshow": {
       "slide_type": "slide"
      }
     },
     "source": [
      "## I put `x` and `y` scales in that skeleton (that is the \"plus\")\n",
      "* What are their domain and range?"
     ]
    },
    {
     "cell_type": "markdown",
     "metadata": {
      "slideshow": {
       "slide_type": "slide"
      }
     },
     "source": [
      "## This adds an x-axis:\n",
      "\n",
      "    var xAxis = d3.svg.axis().scale(x);\n",
      "    var g = svg.append(\"g\")\n",
      "        .attr(\"class\", \"axis\")\n",
      "        .call(xAxis);"
     ]
    },
    {
     "cell_type": "markdown",
     "metadata": {
      "slideshow": {
       "slide_type": "slide"
      }
     },
     "source": [
      "## But it looks quite bad, and is in a weird place."
     ]
    },
    {
     "cell_type": "markdown",
     "metadata": {
      "slideshow": {
       "slide_type": "slide"
      }
     },
     "source": [
      "## Style it to look better: `fill: none`\n",
      "\n",
      "    g.style({stroke: \"black\", fill: \"none\"});"
     ]
    },
    {
     "cell_type": "markdown",
     "metadata": {
      "slideshow": {
       "slide_type": "slide"
      }
     },
     "source": [
      "## That detail about anti-aliasing I mentioned yesterday:\n",
      "\n",
      "    g.style(\"shape-rendering\", \"crispEdges\");\n"
     ]
    },
    {
     "cell_type": "markdown",
     "metadata": {
      "slideshow": {
       "slide_type": "slide"
      }
     },
     "source": [
      "## And how about putting it in the right place?\n",
      "    \n"
     ]
    },
    {
     "cell_type": "markdown",
     "metadata": {
      "slideshow": {
       "slide_type": "slide"
      }
     },
     "source": [
      "## This is not quite right, but it should give you enough to get it right:\n",
      "\n",
      "    g.attr(\"transform\", \"translate(0,10)\");\n",
      "        \n"
     ]
    },
    {
     "cell_type": "markdown",
     "metadata": {
      "slideshow": {
       "slide_type": "slide"
      }
     },
     "source": [
      "## We can even animate moving the axis:\n",
      "\n",
      "    g.transition()\n",
      "        .duration(2000)\n",
      "        .attr(\"transform\",\n",
      "            \"translate(0,\" + (h-padding) + \")\");"
     ]
    },
    {
     "cell_type": "markdown",
     "metadata": {
      "slideshow": {
       "slide_type": "slide"
      }
     },
     "source": [
      "## Can you put a y-axis on as well?\n",
      "* Hint: `.orient(\"left\")`"
     ]
    },
    {
     "cell_type": "markdown",
     "metadata": {
      "slideshow": {
       "slide_type": "slide"
      }
     },
     "source": [
      "    var yAxis = d3.svg.axis()\n",
      "        .scale(y).orient(\"left\");\n",
      "    var g = svg.append(\"g\")\n",
      "        .attr(\"class\", \"axis\")\n",
      "        .style({stroke: \"black\", fill: \"none\"})\n",
      "        .attr(\"transform\",\n",
      "             \"translate(\" + padding + \",0)\")\n",
      "        .call(yAxis);"
     ]
    },
    {
     "cell_type": "markdown",
     "metadata": {
      "slideshow": {
       "slide_type": "slide"
      }
     },
     "source": [
      "## What if I like the axis ticks to go the other direction?\n",
      "* See [`axis.tickSize()`](https://github.com/mbostock/d3/wiki/SVG-Axes#wiki-tickSize)"
     ]
    },
    {
     "cell_type": "markdown",
     "metadata": {
      "slideshow": {
       "slide_type": "slide"
      }
     },
     "source": [
      "    yAxis.tickSize(-6,-3,0)\n",
      "    g.call(yAxis);"
     ]
    },
    {
     "cell_type": "markdown",
     "metadata": {
      "slideshow": {
       "slide_type": "slide"
      }
     },
     "source": [
      "## And it would be nice to enclose the whole region in a box sometimes\n",
      "\n",
      "    var yAxis = d3.svg.axis()\n",
      "        .scale(y).orient(\"right\")\n",
      "        .tickSize(-6,-3,0)\n",
      "        .tickFormat(\"\");\n",
      "    var g = svg.append(\"g\")\n",
      "        .attr(\"class\", \"axis\")\n",
      "        .style({stroke: \"black\", fill: \"none\"})\n",
      "        .attr(\"transform\",\n",
      "             \"translate(\" + (w-padding) + \",0)\")\n",
      "        .call(yAxis);"
     ]
    },
    {
     "cell_type": "markdown",
     "metadata": {
      "slideshow": {
       "slide_type": "slide"
      }
     },
     "source": [
      "## Is there anything different when using different scales?\n"
     ]
    },
    {
     "cell_type": "markdown",
     "metadata": {
      "slideshow": {
       "slide_type": "slide"
      }
     },
     "source": [
      "## Not really\n",
      "    var logScale = d3.scale.log()\n",
      "        .range([padding, w-padding]);\n",
      "    var logAxis = d3.svg.axis()\n",
      "        .scale(logScale);\n",
      "    var g = svg.append(\"g\")\n",
      "        .attr(\"class\", \"axis\")\n",
      "        .style({stroke: \"black\", fill: \"none\"})\n",
      "        .attr(\"transform\",\n",
      "             \"translate(0,20)\")\n",
      "        .call(logAxis);"
     ]
    },
    {
     "cell_type": "markdown",
     "metadata": {
      "slideshow": {
       "slide_type": "slide"
      }
     },
     "source": [
      "## Ordinal scale can be very convenient\n",
      "    var oScale = d3.scale.ordinal()\n",
      "        .rangeBands([padding, w-padding], .1)\n",
      "        .domain([\"A\", \"B\", \"C\", \"D\"]);\n",
      "    var oAxis = d3.svg.axis()\n",
      "        .scale(oScale);\n",
      "    var g = svg.append(\"g\")\n",
      "        .attr(\"class\", \"axis\")\n",
      "        .style({stroke: \"black\", fill: \"none\"})\n",
      "        .attr(\"transform\",\n",
      "             \"translate(0,100)\")\n",
      "        .call(oAxis);"
     ]
    },
    {
     "cell_type": "code",
     "collapsed": false,
     "input": [
      "mkdir html/08_treemap"
     ],
     "language": "python",
     "metadata": {
      "slideshow": {
       "slide_type": "skip"
      }
     },
     "outputs": [],
     "prompt_number": 1
    },
    {
     "cell_type": "code",
     "collapsed": false,
     "input": [
      "# get data in .js format\n",
      "import requests\n",
      "json = requests.get(\"http://mbostock.github.io/d3/talk/20111018/flare.json\").content\n",
      "with file(\"html/08_treemap/flare.js\", \"w\") as f:\n",
      "    f.write(\"var data=%s;\"%json)"
     ],
     "language": "python",
     "metadata": {
      "slideshow": {
       "slide_type": "skip"
      }
     },
     "outputs": [],
     "prompt_number": 13
    },
    {
     "cell_type": "markdown",
     "metadata": {
      "slideshow": {
       "slide_type": "slide"
      }
     },
     "source": [
      "## Treemap\n",
      "    \n",
      "[show results](/files/html/08_treemap/08_treemap_01.html)"
     ]
    },
    {
     "cell_type": "code",
     "collapsed": false,
     "input": [
      "%%file html/08_treemap/08_treemap_01.html\n",
      "\n",
      "<!DOCTYPE html>\n",
      "<meta charset=\"utf-8\">\n",
      "\n",
      "<style>\n",
      "/* css goes here */\n",
      "</style>\n",
      "\n",
      "<body>\n",
      "<p>Tree Map:</p>\n",
      "\n",
      "<script src=\"../d3.v3.js\"></script>\n",
      "<script src=\"flare.js\"></script>\n",
      "<script>\n",
      "\n",
      "var w = 1280 - 80,\n",
      "    h = 800 - 180,\n",
      "    x = d3.scale.linear().range([0, w]),\n",
      "    y = d3.scale.linear().range([0, h]),\n",
      "    color = d3.scale.category20c(),\n",
      "    root,\n",
      "    node;\n",
      "    \n",
      "var treemap = d3.layout.treemap()\n",
      "    .round(false)\n",
      "    .size([w, h])\n",
      "    .sticky(true)\n",
      "    .value(function(d) { return d.size; });\n",
      "\n",
      "var svg = d3.select(\"body\")\n",
      "  .append(\"svg\")\n",
      "    .attr(\"width\", w)\n",
      "    .attr(\"height\", h)\n",
      "  .append(\"g\")\n",
      "    .attr(\"transform\", \"translate(.5,.5)\");\n",
      "    \n",
      "node = root = data;\n",
      "\n",
      "var nodes = treemap.nodes(root)\n",
      "    .filter(function(d) { return !d.children; });\n",
      "\n",
      "var cell = svg.selectAll(\"g\")\n",
      "    .data(nodes)\n",
      "  .enter().append(\"g\")\n",
      "    .attr(\"class\", \"cell\")\n",
      "    .attr(\"transform\", function(d) { return \"translate(\" + d.x + \",\" + d.y + \")\"; })\n",
      "    .on(\"click\", function(d) { return zoom(node == d.parent ? root : d.parent); });\n",
      "\n",
      "cell.append(\"rect\")\n",
      "    .attr(\"width\", function(d) { return d.dx - 1; })\n",
      "    .attr(\"height\", function(d) { return d.dy - 1; })\n",
      "    .style(\"fill\", function(d) { return color(d.parent.name); });\n",
      "\n",
      "cell.append(\"text\")\n",
      "    .attr(\"x\", function(d) { return d.dx / 2; })\n",
      "    .attr(\"y\", function(d) { return d.dy / 2; })\n",
      "    .attr(\"dy\", \".35em\")\n",
      "    .attr(\"text-anchor\", \"middle\")\n",
      "    .text(function(d) { return d.name; })\n",
      "    .style(\"opacity\", function(d) {\n",
      "        d.w = this.getComputedTextLength();\n",
      "        return d.dx > d.w ? 1 : 0; });\n",
      "\n",
      "d3.select(window).on(\"click\", function() { zoom(root); });\n",
      "\n",
      "d3.select(\"body\")\n",
      "  .append(\"div\").append(\"select\")\n",
      "    .selectAll(\"option\")\n",
      "    .data([\"size\", \"count\"])\n",
      "  .enter().append(\"option\")\n",
      "    .attr(\"value\", Object)\n",
      "    .text(Object)\n",
      "    \n",
      "d3.select(\"select\").on(\"change\", function() {\n",
      "    treemap.value(this.value == \"size\" ? size : count).nodes(root);\n",
      "    zoom(node);\n",
      "});\n",
      "\n",
      "function size(d) {\n",
      "  return d.size;\n",
      "}\n",
      "\n",
      "function count(d) {\n",
      "  return 1;\n",
      "}\n",
      "\n",
      "function zoom(d) {\n",
      "  var kx = w / d.dx, ky = h / d.dy;\n",
      "  x.domain([d.x, d.x + d.dx]);\n",
      "  y.domain([d.y, d.y + d.dy]);\n",
      "\n",
      "  var t = svg.selectAll(\"g.cell\").transition()\n",
      "      .duration(d3.event.altKey ? 7500 : 750)\n",
      "      .attr(\"transform\", function(d) { return \"translate(\" + x(d.x) + \",\" + y(d.y) + \")\"; });\n",
      "\n",
      "  t.select(\"rect\")\n",
      "      .attr(\"width\", function(d) { return kx * d.dx - 1; })\n",
      "      .attr(\"height\", function(d) { return ky * d.dy - 1; })\n",
      "\n",
      "  t.select(\"text\")\n",
      "      .attr(\"x\", function(d) { return kx * d.dx / 2; })\n",
      "      .attr(\"y\", function(d) { return ky * d.dy / 2; })\n",
      "      .style(\"opacity\", function(d) { return kx * d.dx > d.w ? 1 : 0; });\n",
      "\n",
      "  node = d;\n",
      "  d3.event.stopPropagation();\n",
      "}\n",
      "\n",
      "</script>\n"
     ],
     "language": "python",
     "metadata": {
      "slideshow": {
       "slide_type": "skip"
      }
     },
     "outputs": [
      {
       "output_type": "stream",
       "stream": "stdout",
       "text": [
        "Overwriting html/08_treemap/08_treemap_01.html\n"
       ]
      }
     ],
     "prompt_number": 9
    },
    {
     "cell_type": "markdown",
     "metadata": {
      "slideshow": {
       "slide_type": "slide"
      }
     },
     "source": [
      "## Cool alternative style\n",
      "\n",
      "\n",
      "[show results](/files/html/08_treemap/08_treemap_02.html)"
     ]
    },
    {
     "cell_type": "code",
     "collapsed": false,
     "input": [
      "%%file html/08_treemap/08_treemap_02.html\n",
      "\n",
      "<!DOCTYPE html>\n",
      "<meta charset=\"utf-8\">\n",
      "\n",
      "<style>\n",
      "/* css goes here */\n",
      "</style>\n",
      "\n",
      "<body>\n",
      "<p>Tree Map:</p>\n",
      "\n",
      "<script src=\"../d3.v3.js\"></script>\n",
      "<script src=\"flare.js\"></script>\n",
      "<script>\n",
      "\n",
      "var w = 1280 - 80,\n",
      "    h = 800 - 180,\n",
      "    x = d3.scale.linear().range([0, w]),\n",
      "    y = d3.scale.linear().range([0, h]),\n",
      "    color = d3.scale.category20c(),\n",
      "    root,\n",
      "    node;\n",
      "    \n",
      "var treemap = d3.layout.treemap()\n",
      "    .round(false)\n",
      "    .size([w, h])\n",
      "    .sticky(true)\n",
      "    .value(function(d) { return d.size; });\n",
      "\n",
      "var svg = d3.select(\"body\")\n",
      "  .append(\"svg\")\n",
      "    .attr(\"width\", w+30)\n",
      "    .attr(\"height\", h+30)\n",
      "  .append(\"g\")\n",
      "    .attr(\"transform\", \"translate(.5,.5)\");\n",
      "    \n",
      "node = root = data;\n",
      "\n",
      "var nodes = treemap.nodes(root)\n",
      "    .sort(function(a,b) {\n",
      "        return a.depth - b.depth; });\n",
      "//    .filter(function(d) { return !d.children; });\n",
      "\n",
      "var cell = svg.selectAll(\"g\")\n",
      "    .data(nodes)\n",
      "  .enter().append(\"g\")\n",
      "    .attr(\"class\", \"cell\")\n",
      "    .attr(\"transform\", function(d) { return \"translate(\" + d.x + \",\" + d.y + \")\"; })\n",
      "    .on(\"click\", function(d) { return zoom(node == d.parent ? root : d.parent); });\n",
      "\n",
      "cell.append(\"rect\")\n",
      "    .attr(\"width\", function(d) { return d.dx; })\n",
      "    .attr(\"height\", function(d) { return d.dy; })\n",
      "    .attr(\"x\", function(d) { return 5*d.depth; })\n",
      "    .attr(\"y\", function(d) { return 5*d.depth; })\n",
      "    .style(\"fill\", \"white\")\n",
      "    .style(\"stroke\", \"black\");\n",
      "\n",
      "cell.append(\"text\")\n",
      "    .attr(\"x\", function(d) { return d.dx / 2 + 5*d.depth; })\n",
      "    .attr(\"y\", function(d) { return d.dy / 2 + 5*d.depth; })\n",
      "    .attr(\"dy\", \".35em\")\n",
      "    .attr(\"text-anchor\", \"middle\")\n",
      "    .text(function(d) { return d.name; })\n",
      "    .style(\"opacity\", function(d) {\n",
      "        d.w = this.getComputedTextLength();\n",
      "        return (d.dx > d.w) & !d.children ? 1 : 0; });\n",
      "\n",
      "d3.select(window).on(\"click\", function() { zoom(root); });\n",
      "\n",
      "d3.select(\"body\")\n",
      "  .append(\"div\").append(\"select\")\n",
      "    .selectAll(\"option\")\n",
      "    .data([\"size\", \"count\"])\n",
      "  .enter().append(\"option\")\n",
      "    .attr(\"value\", Object)\n",
      "    .text(Object)\n",
      "    \n",
      "d3.select(\"select\").on(\"change\", function() {\n",
      "    treemap.value(this.value == \"size\" ? size : count).nodes(root);\n",
      "    zoom(node);\n",
      "});\n",
      "\n",
      "function size(d) {\n",
      "  return d.size;\n",
      "}\n",
      "\n",
      "function count(d) {\n",
      "  return 1;\n",
      "}\n",
      "\n",
      "function zoom(d) {\n",
      "  var kx = w / d.dx, ky = h / d.dy;\n",
      "  x.domain([d.x, d.x + d.dx]);\n",
      "  y.domain([d.y, d.y + d.dy]);\n",
      "\n",
      "  var t = svg.selectAll(\"g.cell\").transition()\n",
      "      .duration(d3.event.altKey ? 7500 : 750)\n",
      "      .attr(\"transform\", function(d) { return \"translate(\" + x(d.x) + \",\" + y(d.y) + \")\"; });\n",
      "\n",
      "  t.select(\"rect\")\n",
      "      .attr(\"width\", function(d) { return kx * d.dx - 1; })\n",
      "      .attr(\"height\", function(d) { return ky * d.dy - 1; })\n",
      "\n",
      "  t.select(\"text\")\n",
      "      .attr(\"x\", function(d) { return kx * d.dx / 2 + 5*d.depth; })\n",
      "      .attr(\"y\", function(d) { return ky * d.dy / 2 + 5*d.depth; })\n",
      "      .style(\"opacity\", function(d) { return kx * d.dx > d.w ? 1 : 0; });\n",
      "\n",
      "  node = d;\n",
      "  d3.event.stopPropagation();\n",
      "}\n",
      "\n",
      "</script>\n"
     ],
     "language": "python",
     "metadata": {
      "slideshow": {
       "slide_type": "skip"
      }
     },
     "outputs": [
      {
       "output_type": "stream",
       "stream": "stdout",
       "text": [
        "Overwriting html/08_treemap/08_treemap_02.html\n"
       ]
      }
     ],
     "prompt_number": 15
    },
    {
     "cell_type": "markdown",
     "metadata": {
      "slideshow": {
       "slide_type": "slide"
      }
     },
     "source": [
      "## Now you know everything!"
     ]
    },
    {
     "cell_type": "code",
     "collapsed": false,
     "input": [
      "!cp /homes/abie/notebook/2013_07_06d_IDV4GH_Exercise_08_treemap.ipynb /homes/abie/nbconvert/E8.ipynb\n",
      "!cd /homes/abie/nbconvert/; ./nbconvert.py --format reveal E8.ipynb\n",
      "!cp /homes/abie/nbconvert/E8* /home/j/Project/Models/IDV4GH/exercises\n",
      "!cp -r /homes/abie/notebook/html/08_treemap/ /home/j/Project/Models/IDV4GH/exercises/html/"
     ],
     "language": "python",
     "metadata": {
      "slideshow": {
       "slide_type": "skip"
      }
     },
     "outputs": [
      {
       "output_type": "stream",
       "stream": "stdout",
       "text": [
        "\r\n",
        "======================================================\r\n",
        "Warning, we are deprecating this version of nbconvert,\r\n",
        "please consider using the new version.\r\n",
        "======================================================\r\n",
        "    \r\n"
       ]
      }
     ],
     "prompt_number": 11
    },
    {
     "cell_type": "code",
     "collapsed": false,
     "input": [
      "import ipynb_style\n",
      "ipynb_style.presentation()"
     ],
     "language": "python",
     "metadata": {
      "slideshow": {
       "slide_type": "skip"
      }
     },
     "outputs": [
      {
       "html": [
        "\n",
        "<style type=\"text/css\">\n",
        "div.input {\n",
        "width: 1024px; /* about 80 chars + buffer */\n",
        "}\n",
        "\n",
        "div.text_cell {\n",
        "width: 1024px /* instead of 100%, */\n",
        "}\n",
        "\n",
        "div.text_cell_render {\n",
        "/*font-family: \"Helvetica Neue\", Arial, Helvetica, Geneva, sans-serif;*/\n",
        "font-family: \"Charis SIL\", serif; /* Make non-code text serif. */\n",
        "line-height: 145%; /* added for some line spacing of text. */\n",
        "font-size: 28pt;\n",
        "}\n",
        "\n",
        "/* Set the size of the headers */\n",
        "div.text_cell_render h1 {\n",
        "font-size: 36pt;\n",
        "}\n",
        "\n",
        "div.text_cell_render h2 {\n",
        "font-size: 32pt;\n",
        "}\n",
        "\n",
        "div.text_cell_render li {\n",
        "line-height: 1.2em;\n",
        "}\n",
        "\n",
        "div.text_cell_render p {\n",
        "font-size: 14pt;\n",
        "line-height: 1em;\n",
        "}\n",
        "\n",
        ".CodeMirror {\n",
        "font-size: 14pt;\n",
        " font-family: Consolas, monospace;\n",
        " }\n",
        "\n",
        ".rendered_html ol {list-style:decimal; margin: 1em 2em;}\n",
        "\n",
        "</style>\n"
       ],
       "output_type": "pyout",
       "prompt_number": 36,
       "text": [
        "<IPython.core.display.HTML at 0x25b1710>"
       ]
      }
     ],
     "prompt_number": 36
    },
    {
     "cell_type": "markdown",
     "metadata": {},
     "source": [
      "Based on IDV4W, Chap 11 http://chimera.labs.oreilly.com/books/1230000000345/ch11.html#_stack_layout"
     ]
    },
    {
     "cell_type": "code",
     "collapsed": false,
     "input": [],
     "language": "python",
     "metadata": {},
     "outputs": []
    }
   ],
   "metadata": {}
  }
 ]
}