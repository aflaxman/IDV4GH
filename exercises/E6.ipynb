{
 "metadata": {
  "name": "2013_07_06b_IDV4GH_Exercise_06_maps"
 },
 "nbformat": 3,
 "nbformat_minor": 0,
 "worksheets": [
  {
   "cells": [
    {
     "cell_type": "markdown",
     "metadata": {
      "slideshow": {
       "slide_type": "slide"
      }
     },
     "source": [
      "# IDV4GH Exercise 6\n",
      "\n",
      "## Maps (and more)\n",
      "\n"
     ]
    },
    {
     "cell_type": "markdown",
     "metadata": {
      "slideshow": {
       "slide_type": "slide"
      }
     },
     "source": [
      "## Good old skeleton for IDV in d3js:\n",
      "\n",
      "    <!DOCTYPE html>\n",
      "    <meta charset=\"utf-8\">\n",
      "    \n",
      "    <style>\n",
      "    /* css goes here */\n",
      "    </style>\n",
      "    \n",
      "    <body>\n",
      "    <p>HTML goes here.</p>\n",
      "    \n",
      "    <script src=\"../d3.v3.js\"></script>\n",
      "    <script>\n",
      "    // javascript goes here\n",
      "    </script>\n",
      "\n",
      "[show results](/files/html/06_maps/06_maps_00.html)"
     ]
    },
    {
     "cell_type": "code",
     "collapsed": false,
     "input": [
      "%%file html/06_maps/06_maps_00.html\n",
      "\n",
      "<!DOCTYPE html>\n",
      "<meta charset=\"utf-8\">\n",
      "\n",
      "<style>\n",
      "/* css goes here */\n",
      "</style>\n",
      "\n",
      "<body>\n",
      "<p>Maps!</p>\n",
      "\n",
      "<script src=\"../d3.v3.js\"></script>\n",
      "<script>\n",
      "// javascript goes here\n",
      "</script>\n"
     ],
     "language": "python",
     "metadata": {
      "slideshow": {
       "slide_type": "skip"
      }
     },
     "outputs": [
      {
       "output_type": "stream",
       "stream": "stdout",
       "text": [
        "Writing html/06_maps/06_maps_00.html\n"
       ]
      }
     ],
     "prompt_number": 3
    },
    {
     "cell_type": "markdown",
     "metadata": {
      "slideshow": {
       "slide_type": "slide"
      }
     },
     "source": [
      "## Javascript exercise"
     ]
    },
    {
     "cell_type": "markdown",
     "metadata": {
      "slideshow": {
       "slide_type": "slide"
      }
     },
     "source": [
      "## \"Recall\" the following:\n",
      "\n",
      "    var a = [1,2,3]; // an array\n",
      "    var b = {1:1, 2:2, 3:3}; // a dict"
     ]
    },
    {
     "cell_type": "markdown",
     "metadata": {
      "slideshow": {
       "slide_type": "slide"
      }
     },
     "source": [
      "## What will this do?\n",
      "\n",
      "    console.log(a[0]);\n",
      "    \n",
      "## What about this?\n",
      "\n",
      "    console.log(b[0]);"
     ]
    },
    {
     "cell_type": "markdown",
     "metadata": {
      "slideshow": {
       "slide_type": "slide"
      }
     },
     "source": [
      "## What will this do?\n",
      "\n",
      "    a[1]*10;\n",
      "    \n",
      "## And this?\n",
      "\n",
      "    b[1]*10;"
     ]
    },
    {
     "cell_type": "markdown",
     "metadata": {
      "slideshow": {
       "slide_type": "slide"
      }
     },
     "source": [
      "## Javascript functions\n",
      "\n",
      "    var mult2 = function(d) {\n",
      "        return d*2;\n",
      "    }\n"
     ]
    },
    {
     "cell_type": "markdown",
     "metadata": {
      "slideshow": {
       "slide_type": "slide"
      }
     },
     "source": [
      "## What does this do?\n",
      "\n",
      "    mult2(17);"
     ]
    },
    {
     "cell_type": "markdown",
     "metadata": {
      "slideshow": {
       "slide_type": "slide"
      }
     },
     "source": [
      "## And can you guess what this does?\n",
      "\n",
      "    a.map(mult2);"
     ]
    },
    {
     "cell_type": "markdown",
     "metadata": {
      "slideshow": {
       "slide_type": "slide"
      }
     },
     "source": [
      "## This is \"functional programming\""
     ]
    },
    {
     "cell_type": "markdown",
     "metadata": {
      "slideshow": {
       "slide_type": "slide"
      }
     },
     "source": [
      "## Let's do some more:\n",
      "\n",
      "    var multX = function(x) {\n",
      "        return function(d) {\n",
      "            return x*d;\n",
      "        }\n",
      "    }"
     ]
    },
    {
     "cell_type": "markdown",
     "metadata": {
      "slideshow": {
       "slide_type": "slide"
      }
     },
     "source": [
      "## What do you think this does?\n",
      "\n",
      "    var m3 = multX(3);\n",
      "    m3(17);\n"
     ]
    },
    {
     "cell_type": "markdown",
     "metadata": {
      "slideshow": {
       "slide_type": "slide"
      }
     },
     "source": [
      "## Think of functions as *objects*\n",
      "## And think of *objects* as dicts\n",
      "\n",
      "    m3.description = \"Multiply by three\";\n",
      "    m3.description;\n",
      "    m3[\"description\"];"
     ]
    },
    {
     "cell_type": "markdown",
     "metadata": {
      "slideshow": {
       "slide_type": "slide"
      }
     },
     "source": [
      "## Back to our theoretical content"
     ]
    },
    {
     "cell_type": "markdown",
     "metadata": {
      "slideshow": {
       "slide_type": "slide"
      }
     },
     "source": [
      "## Loading a CSV with D3\n",
      "\n",
      "    d3.csv(url, function(data) {\n",
      "        // use data })"
     ]
    },
    {
     "cell_type": "markdown",
     "metadata": {
      "slideshow": {
       "slide_type": "slide"
      }
     },
     "source": [
      "## Simple, right?  But you need a webserver for it to work.\n",
      "\n",
      "    python -m SimpleHTTPServer 8000"
     ]
    },
    {
     "cell_type": "markdown",
     "metadata": {
      "slideshow": {
       "slide_type": "slide"
      }
     },
     "source": [
      "## Make a csv, store it as `data.csv` your project folder on the J drive"
     ]
    },
    {
     "cell_type": "code",
     "collapsed": false,
     "input": [
      "import pandas as pd\n",
      "pd.DataFrame([[3],[1],[4],[1],[5]], columns=['value'])"
     ],
     "language": "python",
     "metadata": {},
     "outputs": [
      {
       "html": [
        "<div style=\"max-height:1000px;max-width:1500px;overflow:auto;\">\n",
        "<table border=\"1\" class=\"dataframe\">\n",
        "  <thead>\n",
        "    <tr style=\"text-align: right;\">\n",
        "      <th></th>\n",
        "      <th>value</th>\n",
        "    </tr>\n",
        "  </thead>\n",
        "  <tbody>\n",
        "    <tr>\n",
        "      <th>0</th>\n",
        "      <td> 3</td>\n",
        "    </tr>\n",
        "    <tr>\n",
        "      <th>1</th>\n",
        "      <td> 1</td>\n",
        "    </tr>\n",
        "    <tr>\n",
        "      <th>2</th>\n",
        "      <td> 4</td>\n",
        "    </tr>\n",
        "    <tr>\n",
        "      <th>3</th>\n",
        "      <td> 1</td>\n",
        "    </tr>\n",
        "    <tr>\n",
        "      <th>4</th>\n",
        "      <td> 5</td>\n",
        "    </tr>\n",
        "  </tbody>\n",
        "</table>\n",
        "</div>"
       ],
       "output_type": "pyout",
       "prompt_number": 63,
       "text": [
        "   value\n",
        "0      3\n",
        "1      1\n",
        "2      4\n",
        "3      1\n",
        "4      5"
       ]
      }
     ],
     "prompt_number": 63
    },
    {
     "cell_type": "code",
     "collapsed": false,
     "input": [
      "pd.DataFrame([[3],[1],[4],[1],[5]], columns=['value']).to_csv(\"/home/j/Project/Models/IDV4GH/test.csv\")"
     ],
     "language": "python",
     "metadata": {
      "slideshow": {
       "slide_type": "skip"
      }
     },
     "outputs": [],
     "prompt_number": 64
    },
    {
     "cell_type": "markdown",
     "metadata": {
      "slideshow": {
       "slide_type": "slide"
      }
     },
     "source": [
      "## Make `csv_skeleton.html` in your project folder\n",
      "\n",
      "## Start with trusty old skeleton\n",
      "## Add to it:\n",
      "\n",
      "    d3.csv(\"data.csv\", function(data) {\n",
      "        console.log(data); })"
     ]
    },
    {
     "cell_type": "markdown",
     "metadata": {
      "slideshow": {
       "slide_type": "slide"
      }
     },
     "source": [
      "## Where is that data?"
     ]
    },
    {
     "cell_type": "markdown",
     "metadata": {
      "slideshow": {
       "slide_type": "slide"
      }
     },
     "source": [
      "## Copy it into a local for debugging and development\n",
      "\n",
      "    var dataset = [];\n",
      "    d3.csv(\"data.csv\", function(data) {\n",
      "        dataset = data; })"
     ]
    },
    {
     "cell_type": "markdown",
     "metadata": {
      "slideshow": {
       "slide_type": "slide"
      }
     },
     "source": [
      "## Was I right about that being annoying?  Maybe it doesn't matter if all examples follow the pattern.\n",
      "\n",
      "## In case I was, I have made a conversion script for you:\n",
      "\n",
      "    cd /home/j/Project/Models/IDV4GH/\n",
      "    ./csv_to_js.py test.csv\n",
      "    head test.js"
     ]
    },
    {
     "cell_type": "markdown",
     "metadata": {
      "slideshow": {
       "slide_type": "slide"
      }
     },
     "source": [
      "## Now, on to a geomapping example in d3"
     ]
    },
    {
     "cell_type": "markdown",
     "metadata": {
      "slideshow": {
       "slide_type": "skip"
      }
     },
     "source": [
      "Get some geojson data and stick it in a js file, to continue to avoid needing a webserver."
     ]
    },
    {
     "cell_type": "code",
     "collapsed": false,
     "input": [
      "import requests, json\n",
      "d = json.loads(\n",
      "        requests.get(\"https://github.com/alignedleft/d3-book/raw/master/chapter_12/us-states.json\")\\\n",
      "        .content)"
     ],
     "language": "python",
     "metadata": {
      "slideshow": {
       "slide_type": "skip"
      }
     },
     "outputs": [],
     "prompt_number": 6
    },
    {
     "cell_type": "code",
     "collapsed": false,
     "input": [
      "with file(\"html/06_maps/us_states.js\", \"w\") as f:\n",
      "    f.write(\"var json = %s;\"%json.dumps(d))"
     ],
     "language": "python",
     "metadata": {
      "slideshow": {
       "slide_type": "skip"
      }
     },
     "outputs": [],
     "prompt_number": 8
    },
    {
     "cell_type": "markdown",
     "metadata": {
      "slideshow": {
       "slide_type": "slide"
      }
     },
     "source": [
      "## I've prepared a map of US states, by moving IDV4W data into a .js file\n",
      "\n",
      "\n",
      "    <script src=\"us_states.js\"></script>\n",
      "\n",
      "[show results](/files/html/06_maps/06_maps_01.html)"
     ]
    },
    {
     "cell_type": "code",
     "collapsed": false,
     "input": [
      "%%file html/06_maps/06_maps_01.html\n",
      "\n",
      "<!DOCTYPE html>\n",
      "<meta charset=\"utf-8\">\n",
      "\n",
      "<style>\n",
      ".state {\n",
      "    stroke: white;\n",
      "    stroke-width: 2;\n",
      "    fill: grey;\n",
      "}\n",
      "</style>\n",
      "\n",
      "<body>\n",
      "<p>Maps!</p>\n",
      "\n",
      "<script src=\"../d3.v3.js\"></script>\n",
      "<script src=\"us_states.js\"></script>\n",
      "<script>\n",
      "// Width and height\n",
      "var width = 500,\n",
      "    height = 300;\n",
      "\n",
      "// Create SVG element\n",
      "var svg = d3.select(\"body\")\n",
      "            .append(\"svg\")\n",
      "            .attr(\"width\", width)\n",
      "            .attr(\"height\", height);\n",
      "</script>"
     ],
     "language": "python",
     "metadata": {
      "slideshow": {
       "slide_type": "skip"
      }
     },
     "outputs": [
      {
       "output_type": "stream",
       "stream": "stdout",
       "text": [
        "Overwriting html/06_maps/06_maps_01.html\n"
       ]
      }
     ],
     "prompt_number": 70
    },
    {
     "cell_type": "markdown",
     "metadata": {
      "slideshow": {
       "slide_type": "slide"
      }
     },
     "source": [
      "## Converting the GeoJson data to SVG is easy with D3:\n",
      "\n",
      "    // Define default path generator\n",
      "    var projection = d3.geo.albersUsa()\n",
      "        .translate([width/2, height/2])\n",
      "        .scale([200]);\n",
      "    var path = d3.geo.path()\n",
      "        .projection(projection);\n",
      "\n",
      "[show results](/files/html/06_maps/06_maps_02.html)"
     ]
    },
    {
     "cell_type": "code",
     "collapsed": false,
     "input": [
      "%%file html/06_maps/06_maps_02.html\n",
      "\n",
      "<!DOCTYPE html>\n",
      "<meta charset=\"utf-8\">\n",
      "\n",
      "<style>\n",
      ".state {\n",
      "    stroke: white;\n",
      "    stroke-width: 2;\n",
      "    fill: grey;\n",
      "}\n",
      "</style>\n",
      "\n",
      "<body>\n",
      "<p>Maps!</p>\n",
      "\n",
      "<script src=\"../d3.v3.js\"></script>\n",
      "<script src=\"us_states.js\"></script>\n",
      "<script>\n",
      "// Width and height\n",
      "var width = 500,\n",
      "    height = 300;\n",
      "\n",
      "// Create SVG element\n",
      "var svg = d3.select(\"body\")\n",
      "            .append(\"svg\")\n",
      "            .attr(\"width\", width)\n",
      "            .attr(\"height\", height);\n",
      "\n",
      "// Define default path generator\n",
      "var projection = d3.geo.albersUsa()\n",
      "    .translate([width/2, height/2])\n",
      "    .scale([200]);\n",
      "var path = d3.geo.path()\n",
      "    .projection(projection);\n",
      "// Draw map\n",
      "svg .selectAll(\"path\")\n",
      "    .data(json.features)\n",
      "    .enter()\n",
      "  .append(\"path\")\n",
      "    .attr(\"d\", path)\n",
      "    .attr(\"class\", \"state\");\n",
      "</script>"
     ],
     "language": "python",
     "metadata": {
      "slideshow": {
       "slide_type": "skip"
      }
     },
     "outputs": [
      {
       "output_type": "stream",
       "stream": "stdout",
       "text": [
        "Overwriting html/06_maps/06_maps_02.html\n"
       ]
      }
     ],
     "prompt_number": 69
    },
    {
     "cell_type": "markdown",
     "metadata": {
      "slideshow": {
       "slide_type": "slide"
      }
     },
     "source": [
      "## Add colors mapped from (random) data\n",
      "\n",
      "    // Add random colors\n",
      "    var color = d3.scale.quantize()\n",
      "        .range([\"rgb(237,248,233)\", \"rgb(186,228,179)\",\n",
      "            \"rgb(116,196,118)\", \"rgb(49,163,84)\",\"rgb(0,109,44)\"])\n",
      "        .domain([0,1]);\n",
      "        \n",
      "    json.features\n",
      "        .forEach(function (d) {\n",
      "            d.properties.value = Math.random(); })\n",
      "\n",
      "[show results](/files/html/06_maps/06_maps_03.html)"
     ]
    },
    {
     "cell_type": "code",
     "collapsed": false,
     "input": [
      "%%file html/06_maps/06_maps_03.html\n",
      "\n",
      "<!DOCTYPE html>\n",
      "<meta charset=\"utf-8\">\n",
      "\n",
      "<style>\n",
      ".state {\n",
      "    stroke: white;\n",
      "    stroke-width: 2;\n",
      "    fill: grey;\n",
      "}\n",
      "</style>\n",
      "\n",
      "<body>\n",
      "<p>Maps!</p>\n",
      "\n",
      "<script src=\"../d3.v3.js\"></script>\n",
      "<script src=\"us_states.js\"></script>\n",
      "<script>\n",
      "// Width and height\n",
      "var width = 500,\n",
      "    height = 300;\n",
      "\n",
      "// Create SVG element\n",
      "var svg = d3.select(\"body\")\n",
      "            .append(\"svg\")\n",
      "            .attr(\"width\", width)\n",
      "            .attr(\"height\", height);\n",
      "\n",
      "// Define default path generator\n",
      "var projection = d3.geo.albersUsa()\n",
      "    .translate([width/2, height/2])\n",
      "    .scale([200]);\n",
      "var path = d3.geo.path()\n",
      "    .projection(projection);\n",
      "\n",
      "// Add random colors\n",
      "var color = d3.scale.quantize()\n",
      "    .range([\"rgb(237,248,233)\", \"rgb(186,228,179)\",\n",
      "        \"rgb(116,196,118)\", \"rgb(49,163,84)\",\"rgb(0,109,44)\"])\n",
      "    .domain([0,1]);\n",
      "    \n",
      "json.features\n",
      "    .forEach(function (d) {\n",
      "        d.properties.value = Math.random(); })\n",
      "\n",
      "// Draw map\n",
      "svg .selectAll(\"path\")\n",
      "    .data(json.features)\n",
      "    .enter()\n",
      "  .append(\"path\")\n",
      "    .attr(\"d\", path)\n",
      "    .attr(\"class\", \"state\")\n",
      "    .style(\"fill\", function (d) {\n",
      "        return color(d.properties.value); });\n",
      "\n",
      "// Add zoom interaction\n",
      "var zoom = d3.behavior.zoom()\n",
      "        .translate(projection.translate())\n",
      "        .scale(projection.scale())\n",
      "        .on(\"zoom\", move);\n",
      "d3.select(\"svg\").call(zoom);\n",
      "\n",
      "function move() {\n",
      "    projection\n",
      "        .translate(d3.event.translate)\n",
      "        .scale(d3.event.scale);\n",
      "    svg.selectAll(\"path\").attr(\"d\", path);\n",
      "}\n",
      "\n",
      "</script>\n"
     ],
     "language": "python",
     "metadata": {
      "slideshow": {
       "slide_type": "skip"
      }
     },
     "outputs": [
      {
       "output_type": "stream",
       "stream": "stdout",
       "text": [
        "Writing html/06_maps/06_maps_03.html\n"
       ]
      }
     ],
     "prompt_number": 71
    },
    {
     "cell_type": "code",
     "collapsed": false,
     "input": [
      "%%file html/06_maps/06_maps_04.html\n",
      "\n",
      "<!DOCTYPE html>\n",
      "<meta charset=\"utf-8\">\n",
      "\n",
      "<style>\n",
      ".state {\n",
      "    stroke: #999;\n",
      "    stroke-width: 1;\n",
      "    fill: white;\n",
      "}\n",
      "</style>\n",
      "\n",
      "<body>\n",
      "<p>Maps!</p>\n",
      "\n",
      "<script src=\"../d3.v3.js\"></script>\n",
      "<script src=\"us_states.js\"></script>\n",
      "<script>\n",
      "// Width and height\n",
      "var width = 500,\n",
      "    height = 300;\n",
      "\n",
      "// Create SVG element\n",
      "var svg = d3.select(\"body\")\n",
      "            .append(\"svg\")\n",
      "            .attr(\"width\", width)\n",
      "            .attr(\"height\", height);\n",
      "\n",
      "// Define default path generator\n",
      "var projection = d3.geo.albersUsa()\n",
      "    .translate([width/2, height/2])\n",
      "    .scale([700]);\n",
      "var path = d3.geo.path()\n",
      "    .projection(projection);\n",
      "\n",
      "// Add random data\n",
      "json.features\n",
      "    .forEach(function (d) {\n",
      "        d.properties.value = Math.random(); })\n",
      "\n",
      "// Draw map  FIXME: get the selection grouped or something\n",
      "var t = svg.selectAll(\"path\")\n",
      "    .data(json.features)\n",
      "    .enter();\n",
      "t.append(\"path\")\n",
      "    .attr(\"d\", path)\n",
      "    .attr(\"class\", \"state\");\n",
      "t.append(\"circle\")\n",
      "    .attr(\"r\", 5)\n",
      "    .attr(\"cx\", function (d) { return path.centroid(d)[0]; })\n",
      "    .attr(\"cy\", function (d) { return path.centroid(d)[1]; });\n",
      "\n",
      "// Add zoom interaction\n",
      "var zoom = d3.behavior.zoom()\n",
      "        .translate(projection.translate())\n",
      "        .scale(projection.scale())\n",
      "        .on(\"zoom\", move);\n",
      "d3.select(\"svg\").call(zoom);\n",
      "\n",
      "function move() {\n",
      "    projection\n",
      "        .translate(d3.event.translate)\n",
      "        .scale(d3.event.scale);\n",
      "    svg.selectAll(\"path\").attr(\"d\", path);\n",
      "    svg.selectAll(\"circle\")\n",
      "        .attr(\"r\", 5)\n",
      "        .attr(\"cx\", function (d) { return path.centroid(d)[0]; })\n",
      "        .attr(\"cy\", function (d) { return path.centroid(d)[1]; });\n",
      "}\n",
      "\n",
      "</script>\n"
     ],
     "language": "python",
     "metadata": {
      "slideshow": {
       "slide_type": "skip"
      }
     },
     "outputs": [
      {
       "output_type": "stream",
       "stream": "stdout",
       "text": [
        "Writing html/06_maps/06_maps_04.html\n"
       ]
      }
     ],
     "prompt_number": 72
    },
    {
     "cell_type": "markdown",
     "metadata": {
      "slideshow": {
       "slide_type": "slide"
      }
     },
     "source": [
      "## Tomorrow: stacked bar charts and other `d3.layout` classes"
     ]
    },
    {
     "cell_type": "code",
     "collapsed": false,
     "input": [
      "!cp /homes/abie/notebook/2013_07_06b_IDV4GH_Exercise_06_maps.ipynb /homes/abie/nbconvert/E6.ipynb\n",
      "!cd /homes/abie/nbconvert/; ./nbconvert.py --format reveal E6.ipynb\n",
      "!cp /homes/abie/nbconvert/E6* /home/j/Project/Models/IDV4GH/exercises\n",
      "!cp -r /homes/abie/notebook/html/06_maps/ /home/j/Project/Models/IDV4GH/exercises/html/"
     ],
     "language": "python",
     "metadata": {
      "slideshow": {
       "slide_type": "skip"
      }
     },
     "outputs": [
      {
       "output_type": "stream",
       "stream": "stdout",
       "text": [
        "\r\n",
        "======================================================\r\n",
        "Warning, we are deprecating this version of nbconvert,\r\n",
        "please consider using the new version.\r\n",
        "======================================================\r\n",
        "    \r\n"
       ]
      }
     ],
     "prompt_number": 74
    },
    {
     "cell_type": "code",
     "collapsed": false,
     "input": [
      "import ipynb_style\n",
      "ipynb_style.presentation()"
     ],
     "language": "python",
     "metadata": {
      "slideshow": {
       "slide_type": "skip"
      }
     },
     "outputs": [
      {
       "html": [
        "\n",
        "<style type=\"text/css\">\n",
        "div.input {\n",
        "width: 1024px; /* about 80 chars + buffer */\n",
        "}\n",
        "\n",
        "div.text_cell {\n",
        "width: 1024px /* instead of 100%, */\n",
        "}\n",
        "\n",
        "div.text_cell_render {\n",
        "/*font-family: \"Helvetica Neue\", Arial, Helvetica, Geneva, sans-serif;*/\n",
        "font-family: \"Charis SIL\", serif; /* Make non-code text serif. */\n",
        "line-height: 145%; /* added for some line spacing of text. */\n",
        "font-size: 28pt;\n",
        "}\n",
        "\n",
        "/* Set the size of the headers */\n",
        "div.text_cell_render h1 {\n",
        "font-size: 36pt;\n",
        "}\n",
        "\n",
        "div.text_cell_render h2 {\n",
        "font-size: 32pt;\n",
        "}\n",
        "\n",
        "div.text_cell_render li {\n",
        "line-height: 1.2em;\n",
        "}\n",
        "\n",
        "div.text_cell_render p {\n",
        "font-size: 14pt;\n",
        "line-height: 1em;\n",
        "}\n",
        "\n",
        ".CodeMirror {\n",
        "font-size: 14pt;\n",
        " font-family: Consolas, monospace;\n",
        " }\n",
        "\n",
        ".rendered_html ol {list-style:decimal; margin: 1em 2em;}\n",
        "\n",
        "</style>\n"
       ],
       "output_type": "pyout",
       "prompt_number": 36,
       "text": [
        "<IPython.core.display.HTML at 0x25b1710>"
       ]
      }
     ],
     "prompt_number": 36
    },
    {
     "cell_type": "code",
     "collapsed": false,
     "input": [],
     "language": "python",
     "metadata": {},
     "outputs": []
    }
   ],
   "metadata": {}
  }
 ]
}