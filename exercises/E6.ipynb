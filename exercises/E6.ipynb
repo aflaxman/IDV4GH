{
 "metadata": {
  "name": "2013_07_06b_IDV4GH_Exercise_06_maps"
 },
 "nbformat": 3,
 "nbformat_minor": 0,
 "worksheets": [
  {
   "cells": [
    {
     "cell_type": "markdown",
     "metadata": {
      "slideshow": {
       "slide_type": "slide"
      }
     },
     "source": [
      "# IDV4GH Exercise 6\n",
      "\n",
      "## Maps\n",
      "\n"
     ]
    },
    {
     "cell_type": "markdown",
     "metadata": {
      "slideshow": {
       "slide_type": "slide"
      }
     },
     "source": [
      "## Good old skeleton for IDV in d3js:\n",
      "\n",
      "    <!DOCTYPE html>\n",
      "    <meta charset=\"utf-8\">\n",
      "    \n",
      "    <style>\n",
      "    /* css goes here */\n",
      "    </style>\n",
      "    \n",
      "    <body>\n",
      "    <p>HTML goes here.</p>\n",
      "    \n",
      "    <script src=\"../d3.v3.js\"></script>\n",
      "    <script>\n",
      "    // javascript goes here\n",
      "    </script>\n",
      "\n",
      "[show results](/files/html/06_maps/06_maps_00.html)"
     ]
    },
    {
     "cell_type": "code",
     "collapsed": false,
     "input": [
      "%%file html/06_maps/06_maps_00.html\n",
      "\n",
      "<!DOCTYPE html>\n",
      "<meta charset=\"utf-8\">\n",
      "\n",
      "<style>\n",
      "/* css goes here */\n",
      "</style>\n",
      "\n",
      "<body>\n",
      "<p>Maps!</p>\n",
      "\n",
      "<script src=\"../d3.v3.js\"></script>\n",
      "<script>\n",
      "// javascript goes here\n",
      "</script>\n"
     ],
     "language": "python",
     "metadata": {
      "slideshow": {
       "slide_type": "skip"
      }
     },
     "outputs": [
      {
       "output_type": "stream",
       "stream": "stdout",
       "text": [
        "Writing html/06_maps/06_maps_00.html\n"
       ]
      }
     ],
     "prompt_number": 3
    },
    {
     "cell_type": "markdown",
     "metadata": {
      "slideshow": {
       "slide_type": "skip"
      }
     },
     "source": [
      "Get some geojson data and stick it in a js file, to continue to avoid needing a webserver."
     ]
    },
    {
     "cell_type": "code",
     "collapsed": false,
     "input": [
      "import requests, json\n",
      "d = json.loads(\n",
      "        requests.get(\"https://github.com/alignedleft/d3-book/raw/master/chapter_12/us-states.json\")\\\n",
      "        .content)"
     ],
     "language": "python",
     "metadata": {},
     "outputs": [],
     "prompt_number": 6
    },
    {
     "cell_type": "code",
     "collapsed": false,
     "input": [
      "with file(\"html/06_maps/us_states.js\", \"w\") as f:\n",
      "    f.write(\"var json = %s;\"%json.dumps(d))"
     ],
     "language": "python",
     "metadata": {
      "slideshow": {
       "slide_type": "skip"
      }
     },
     "outputs": [],
     "prompt_number": 8
    },
    {
     "cell_type": "code",
     "collapsed": false,
     "input": [
      "%%file html/06_maps/06_maps_01.html\n",
      "\n",
      "<!DOCTYPE html>\n",
      "<meta charset=\"utf-8\">\n",
      "\n",
      "<style>\n",
      ".state {\n",
      "    stroke: white;\n",
      "    stroke-width: 2;\n",
      "    fill: grey;\n",
      "}\n",
      "</style>\n",
      "\n",
      "<body>\n",
      "<p>Maps!</p>\n",
      "\n",
      "<script src=\"../d3.v3.js\"></script>\n",
      "<script src=\"us_states.js\"></script>\n",
      "<script>\n",
      "// Width and height\n",
      "var width = 500,\n",
      "    height = 300;\n",
      "\n",
      "// Create SVG element\n",
      "var svg = d3.select(\"body\")\n",
      "            .append(\"svg\")\n",
      "            .attr(\"width\", width)\n",
      "            .attr(\"height\", height);\n",
      "\n",
      "// Define default path generator\n",
      "var projection = d3.geo.albersUsa()\n",
      "    .translate([width/2, height/2])\n",
      "    .scale([200]);\n",
      "var path = d3.geo.path()\n",
      "    .projection(projection);\n",
      "\n",
      "// Add random colors\n",
      "var color = d3.scale.quantize()\n",
      "    .range([\"rgb(237,248,233)\", \"rgb(186,228,179)\",\n",
      "        \"rgb(116,196,118)\", \"rgb(49,163,84)\",\"rgb(0,109,44)\"])\n",
      "    .domain([0,1]);\n",
      "    \n",
      "json.features\n",
      "    .forEach(function (d) {\n",
      "        d.properties.value = Math.random(); })\n",
      "\n",
      "// Draw map\n",
      "svg .selectAll(\"path\")\n",
      "    .data(json.features)\n",
      "    .enter()\n",
      "  .append(\"path\")\n",
      "    .attr(\"d\", path)\n",
      "    .attr(\"class\", \"state\")\n",
      "    .style(\"fill\", function (d) {\n",
      "        return color(d.properties.value); });\n",
      "\n",
      "// Add zoom interaction\n",
      "var zoom = d3.behavior.zoom()\n",
      "        .translate(projection.translate())\n",
      "        .scale(projection.scale())\n",
      "        .on(\"zoom\", move);\n",
      "d3.select(\"svg\").call(zoom);\n",
      "\n",
      "function move() {\n",
      "    projection\n",
      "        .translate(d3.event.translate)\n",
      "        .scale(d3.event.scale);\n",
      "    svg.selectAll(\"path\").attr(\"d\", path);\n",
      "}\n",
      "\n",
      "</script>\n"
     ],
     "language": "python",
     "metadata": {
      "slideshow": {
       "slide_type": "skip"
      }
     },
     "outputs": [
      {
       "output_type": "stream",
       "stream": "stdout",
       "text": [
        "Overwriting html/06_maps/06_maps_01.html\n"
       ]
      }
     ],
     "prompt_number": 38
    },
    {
     "cell_type": "code",
     "collapsed": false,
     "input": [
      "%%file html/06_maps/06_maps_02.html\n",
      "\n",
      "<!DOCTYPE html>\n",
      "<meta charset=\"utf-8\">\n",
      "\n",
      "<style>\n",
      ".state {\n",
      "    stroke: #999;\n",
      "    stroke-width: 1;\n",
      "    fill: white;\n",
      "}\n",
      "</style>\n",
      "\n",
      "<body>\n",
      "<p>Maps!</p>\n",
      "\n",
      "<script src=\"../d3.v3.js\"></script>\n",
      "<script src=\"us_states.js\"></script>\n",
      "<script>\n",
      "// Width and height\n",
      "var width = 500,\n",
      "    height = 300;\n",
      "\n",
      "// Create SVG element\n",
      "var svg = d3.select(\"body\")\n",
      "            .append(\"svg\")\n",
      "            .attr(\"width\", width)\n",
      "            .attr(\"height\", height);\n",
      "\n",
      "// Define default path generator\n",
      "var projection = d3.geo.albersUsa()\n",
      "    .translate([width/2, height/2])\n",
      "    .scale([700]);\n",
      "var path = d3.geo.path()\n",
      "    .projection(projection);\n",
      "\n",
      "// Add random data\n",
      "json.features\n",
      "    .forEach(function (d) {\n",
      "        d.properties.value = Math.random(); })\n",
      "\n",
      "// Draw map  FIXME: get the selection grouped or something\n",
      "var t = svg.selectAll(\"path\")\n",
      "    .data(json.features)\n",
      "    .enter();\n",
      "t.append(\"path\")\n",
      "    .attr(\"d\", path)\n",
      "    .attr(\"class\", \"state\");\n",
      "t.append(\"circle\")\n",
      "    .attr(\"r\", 5)\n",
      "    .attr(\"cx\", function (d) { return path.centroid(d)[0]; })\n",
      "    .attr(\"cy\", function (d) { return path.centroid(d)[1]; });\n",
      "\n",
      "// Add zoom interaction\n",
      "var zoom = d3.behavior.zoom()\n",
      "        .translate(projection.translate())\n",
      "        .scale(projection.scale())\n",
      "        .on(\"zoom\", move);\n",
      "d3.select(\"svg\").call(zoom);\n",
      "\n",
      "function move() {\n",
      "    projection\n",
      "        .translate(d3.event.translate)\n",
      "        .scale(d3.event.scale);\n",
      "    svg.selectAll(\"path\").attr(\"d\", path);\n",
      "    svg.selectAll(\"circle\")\n",
      "        .attr(\"r\", 5)\n",
      "        .attr(\"cx\", function (d) { return path.centroid(d)[0]; })\n",
      "        .attr(\"cy\", function (d) { return path.centroid(d)[1]; });\n",
      "}\n",
      "\n",
      "</script>\n"
     ],
     "language": "python",
     "metadata": {},
     "outputs": [
      {
       "output_type": "stream",
       "stream": "stdout",
       "text": [
        "Overwriting html/06_maps/06_maps_02.html\n"
       ]
      }
     ],
     "prompt_number": 56
    },
    {
     "cell_type": "markdown",
     "metadata": {
      "slideshow": {
       "slide_type": "slide"
      }
     },
     "source": [
      "## Tomorrow: stacked bar charts and other `d3.layout` classes"
     ]
    },
    {
     "cell_type": "code",
     "collapsed": false,
     "input": [
      "!cp /homes/abie/notebook/2013_07_06b_IDV4GH_Exercise_06_maps.ipynb /homes/abie/nbconvert/E6.ipynb\n",
      "!cd /homes/abie/nbconvert/; ./nbconvert.py --format reveal E6.ipynb\n",
      "!cp /homes/abie/nbconvert/E6* /home/j/Project/Models/IDV4GH/exercises\n",
      "!cp -r /homes/abie/notebook/html/06_maps/ /home/j/Project/Models/IDV4GH/exercises/html/"
     ],
     "language": "python",
     "metadata": {
      "slideshow": {
       "slide_type": "skip"
      }
     },
     "outputs": [
      {
       "output_type": "stream",
       "stream": "stdout",
       "text": [
        "\r\n",
        "======================================================\r\n",
        "Warning, we are deprecating this version of nbconvert,\r\n",
        "please consider using the new version.\r\n",
        "======================================================\r\n",
        "    \r\n"
       ]
      }
     ],
     "prompt_number": 5
    },
    {
     "cell_type": "code",
     "collapsed": false,
     "input": [
      "import ipynb_style\n",
      "ipynb_style.presentation()"
     ],
     "language": "python",
     "metadata": {
      "slideshow": {
       "slide_type": "skip"
      }
     },
     "outputs": [
      {
       "html": [
        "\n",
        "<style type=\"text/css\">\n",
        "div.input {\n",
        "width: 1024px; /* about 80 chars + buffer */\n",
        "}\n",
        "\n",
        "div.text_cell {\n",
        "width: 1024px /* instead of 100%, */\n",
        "}\n",
        "\n",
        "div.text_cell_render {\n",
        "/*font-family: \"Helvetica Neue\", Arial, Helvetica, Geneva, sans-serif;*/\n",
        "font-family: \"Charis SIL\", serif; /* Make non-code text serif. */\n",
        "line-height: 145%; /* added for some line spacing of text. */\n",
        "font-size: 28pt;\n",
        "}\n",
        "\n",
        "/* Set the size of the headers */\n",
        "div.text_cell_render h1 {\n",
        "font-size: 36pt;\n",
        "}\n",
        "\n",
        "div.text_cell_render h2 {\n",
        "font-size: 32pt;\n",
        "}\n",
        "\n",
        "div.text_cell_render li {\n",
        "line-height: 1.2em;\n",
        "}\n",
        "\n",
        "div.text_cell_render p {\n",
        "font-size: 14pt;\n",
        "line-height: 1em;\n",
        "}\n",
        "\n",
        ".CodeMirror {\n",
        "font-size: 14pt;\n",
        " font-family: Consolas, monospace;\n",
        " }\n",
        "\n",
        ".rendered_html ol {list-style:decimal; margin: 1em 2em;}\n",
        "\n",
        "</style>\n"
       ],
       "output_type": "pyout",
       "prompt_number": 36,
       "text": [
        "<IPython.core.display.HTML at 0x25b1710>"
       ]
      }
     ],
     "prompt_number": 36
    },
    {
     "cell_type": "code",
     "collapsed": false,
     "input": [],
     "language": "python",
     "metadata": {},
     "outputs": []
    }
   ],
   "metadata": {}
  }
 ]
}