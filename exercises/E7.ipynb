{
 "metadata": {
  "name": "2013_07_06c_IDV4GH_Exercise_07_stacks"
 },
 "nbformat": 3,
 "nbformat_minor": 0,
 "worksheets": [
  {
   "cells": [
    {
     "cell_type": "markdown",
     "metadata": {
      "slideshow": {
       "slide_type": "slide"
      }
     },
     "source": [
      "# IDV4GH Exercise 7\n",
      "\n",
      "## Stacks\n",
      "\n"
     ]
    },
    {
     "cell_type": "markdown",
     "metadata": {
      "slideshow": {
       "slide_type": "slide"
      }
     },
     "source": [
      "## Starting with a D3 skeleton, as always\n",
      "\n",
      "    <!DOCTYPE html>\n",
      "    <meta charset=\"utf-8\">\n",
      "    \n",
      "    <style>\n",
      "    /* css goes here */\n",
      "    </style>\n",
      "    \n",
      "    <body>\n",
      "    <p>SVG:</p>\n",
      "    <svg width=800 height=200></svg>    \n",
      "    \n",
      "    <script src=\"../d3.v3.js\"></script>\n",
      "    <script src=\"../colorbrewer.js\"></script>\n",
      "    <script>\n",
      "    // javascript goes here\n",
      "    </script>\n",
      "\n",
      "\n",
      "[show results](/files/html/07_stacks/07_stacks_00.html)"
     ]
    },
    {
     "cell_type": "code",
     "collapsed": false,
     "input": [
      "%%file html/07_stacks/07_stacks_00.html\n",
      "\n",
      "<!DOCTYPE html>\n",
      "<meta charset=\"utf-8\">\n",
      "\n",
      "<style>\n",
      "/* css goes here */\n",
      "</style>\n",
      "\n",
      "<body>\n",
      "<p>SVG:</p>\n",
      "<svg width=800 height=200></svg>\n",
      "\n",
      "<script src=\"../d3.v3.js\"></script>\n",
      "<script src=\"../colorbrewer.js\"></script>\n",
      "<script>\n",
      "// javascript goes here\n",
      "</script>\n"
     ],
     "language": "python",
     "metadata": {
      "slideshow": {
       "slide_type": "skip"
      }
     },
     "outputs": [
      {
       "output_type": "stream",
       "stream": "stdout",
       "text": [
        "Overwriting html/07_stacks/07_stacks_00.html\n"
       ]
      }
     ],
     "prompt_number": 51
    },
    {
     "cell_type": "markdown",
     "metadata": {
      "slideshow": {
       "slide_type": "slide"
      }
     },
     "source": [
      "## Let's see if we finally understand `d3.scale`.  What does this return?\n",
      "\n",
      "    d3.scale.linear()\n"
     ]
    },
    {
     "cell_type": "markdown",
     "metadata": {
      "slideshow": {
       "slide_type": "slide"
      }
     },
     "source": [
      "## What do you think this will do?\n",
      "\n",
      "    var x = d3.scale.linear();\n",
      "    x(.5);"
     ]
    },
    {
     "cell_type": "markdown",
     "metadata": {
      "slideshow": {
       "slide_type": "slide"
      }
     },
     "source": [
      "## That is because the default domain and range for a linear scale are both $[0,1]$.  What will this do?\n",
      "\n",
      "    var x = d3.scale.linear()\n",
      "        .range([0,100]);\n",
      "    x(.5);"
     ]
    },
    {
     "cell_type": "markdown",
     "metadata": {
      "slideshow": {
       "slide_type": "slide"
      }
     },
     "source": [
      "## And, once that makes sense, you should also be able to tell me what this will do:\n",
      "\n",
      "    var x = d3.scale.linear()\n",
      "        .domain([0,100]);\n",
      "    x(.5);"
     ]
    },
    {
     "cell_type": "markdown",
     "metadata": {
      "slideshow": {
       "slide_type": "slide"
      }
     },
     "source": [
      "## Pretty simple, really.  How about this?\n",
      "\n",
      "    var x = d3.scale.log()\n",
      "        .domain([0,100]);\n",
      "    x(.5);"
     ]
    },
    {
     "cell_type": "markdown",
     "metadata": {
      "slideshow": {
       "slide_type": "slide"
      }
     },
     "source": [
      "## Trick question.  That was mean.  How about this?\n",
      "\n",
      "    var x = d3.scale.log()\n",
      "        .domain([1,100]);\n",
      "    x(1);"
     ]
    },
    {
     "cell_type": "markdown",
     "metadata": {
      "slideshow": {
       "slide_type": "slide"
      }
     },
     "source": [
      "## Some of you have needed non-numeric scales. For example:\n",
      "\n",
      "    var x = d3.scale.ordinal()\n",
      "        .rangeRoundBands([0,100], .1, .05)\n",
      "        .domain([\"Neonate\", \"Child\", \"Adult\"]);\n",
      "    x(\"Child\");\n",
      "    x.rangeBand();\n",
      "    \n",
      "## See [d3 wiki](https://github.com/mbostock/d3/wiki/Ordinal-Scales) for more detail."
     ]
    },
    {
     "cell_type": "markdown",
     "metadata": {
      "slideshow": {
       "slide_type": "slide"
      }
     },
     "source": [
      "## Ordinal scales for color\n"
     ]
    },
    {
     "cell_type": "markdown",
     "metadata": {
      "slideshow": {
       "slide_type": "slide"
      }
     },
     "source": [
      "## Built-in to D3\n",
      "\n",
      "    var a = d3.scale.category10();\n",
      "    var b = d3.scale.category20();\n",
      "    var c = d3.scale.category20b();\n",
      "    var d = d3.scale.category20c();"
     ]
    },
    {
     "cell_type": "markdown",
     "metadata": {
      "slideshow": {
       "slide_type": "slide"
      }
     },
     "source": [
      "## Or from ColorBrewer\n",
      "\n",
      "    \n",
      "    var z = d3.scale.ordinal()\n",
      "        .domain([\"foo\", \"bar\", \"baz\"])\n",
      "        .range(colorbrewer.RdBu[9]);"
     ]
    },
    {
     "cell_type": "markdown",
     "metadata": {
      "slideshow": {
       "slide_type": "slide"
      }
     },
     "source": [
      "## How to see them?\n",
      "\n",
      "    d3.select(\"svg\")\n",
      "        .selectAll(\"rect\")\n",
      "        .data(a.range()).enter()\n",
      "      .append(\"rect\")\n",
      "        .attr({height: 25, width: 25, y: 10})\n",
      "        .attr(\"x\", function (d,i) { \n",
      "            return i*30; })\n",
      "        .style(\"fill\", function (d) {\n",
      "            return d; });"
     ]
    },
    {
     "cell_type": "markdown",
     "metadata": {
      "slideshow": {
       "slide_type": "slide"
      }
     },
     "source": [
      "## Or another bunch:\n",
      "\n",
      "    var r = d3.select(\"svg\").selectAll(\"rect\")\n",
      "        .data(z.range());\n",
      "    r.enter()\n",
      "        .append(\"rect\")\n",
      "        .attr({height: 25, width: 25, y: 10});\n",
      "    r.transition().duration(2000)\n",
      "        .attr(\"x\", function (d,i) { \n",
      "            return i*30; })\n",
      "        .style(\"fill\", function (d) {\n",
      "            return d; });\n",
      "    r.exit().remove()"
     ]
    },
    {
     "cell_type": "markdown",
     "metadata": {
      "slideshow": {
       "slide_type": "slide"
      }
     },
     "source": [
      "## Stacked bar chart example\n",
      "* A festival of scales\n",
      "\n",
      "[show results](/files/html/07_stacks/07_stacks_01.html)"
     ]
    },
    {
     "cell_type": "code",
     "collapsed": false,
     "input": [
      "%%file html/07_stacks/07_stacks_01.html\n",
      "\n",
      "<!DOCTYPE html>\n",
      "<meta charset=\"utf-8\">\n",
      "\n",
      "<style>\n",
      "/* css goes here */\n",
      "</style>\n",
      "\n",
      "<body>\n",
      "<p>Stacked charts</p>\n",
      "\n",
      "<script src=\"../d3.v3.js\"></script>\n",
      "<script>\n",
      "\n",
      "//Original data\n",
      "var dataset = [\n",
      "    [\n",
      "        { x: 0, y: 5 },\n",
      "        { x: 1, y: 4 },\n",
      "        { x: 2, y: 2 },\n",
      "        { x: 3, y: 7 },\n",
      "        { x: 4, y: 23 }\n",
      "    ],\n",
      "    [\n",
      "        { x: 0, y: 10 },\n",
      "        { x: 1, y: 12 },\n",
      "        { x: 2, y: 19 },\n",
      "        { x: 3, y: 23 },\n",
      "        { x: 4, y: 17 }\n",
      "    ],\n",
      "    [\n",
      "        { x: 0, y: 22 },\n",
      "        { x: 1, y: 28 },\n",
      "        { x: 2, y: 32 },\n",
      "        { x: 3, y: 35 },\n",
      "        { x: 4, y: 43 }\n",
      "    ]\n",
      "];\n",
      "\n",
      "// Width and height\n",
      "var width = 500,\n",
      "    height = 300;\n",
      "\n",
      "// Set up stack method\n",
      "var stack = d3.layout.stack();\n",
      "\n",
      "// Data, stacked\n",
      "stack(dataset);\n",
      "\n",
      "// Set up scales\n",
      "var xScale = d3.scale.ordinal()\n",
      "    .domain(d3.range(dataset[0].length))\n",
      "    .rangeRoundBands([0, width], 0.05);\n",
      "\n",
      "var yScale = d3.scale.linear()\n",
      "    .domain([0,\t\t\t\t\n",
      "        d3.max(dataset, function(d) {\n",
      "            return d3.max(d, function(d) {\n",
      "                return d.y0 + d.y;\n",
      "            });\n",
      "        })\n",
      "    ])\n",
      "    .range([0, height]);\n",
      "    \n",
      "// Easy colors accessible via a 10-step ordinal scale\n",
      "var colors = d3.scale.category10();\n",
      "\n",
      "// Create SVG element\n",
      "var svg = d3.select(\"body\")\n",
      "            .append(\"svg\")\n",
      "            .attr(\"width\", width)\n",
      "            .attr(\"height\", height);\n",
      "\n",
      "// Add a group for each row of data\n",
      "var groups = svg.selectAll(\"g\")\n",
      "    .data(dataset)\n",
      "  .enter()\n",
      "    .append(\"g\")\n",
      "    .style(\"fill\", function(d, i) {\n",
      "        return colors(i);\n",
      "    });\n",
      "\n",
      "// Add a rect for each data value\n",
      "var rects = groups.selectAll(\"rect\")\n",
      "    .data(function(d) { return d; })\n",
      "  .enter()\n",
      "    .append(\"rect\")\n",
      "    .attr(\"x\", function(d, i) {\n",
      "        return xScale(i);\n",
      "    })\n",
      "    .attr(\"y\", function(d) {\n",
      "        return yScale(d.y0);\n",
      "    })\n",
      "    .attr(\"height\", function(d) {\n",
      "        return yScale(d.y);\n",
      "    })\n",
      "    .attr(\"width\", xScale.rangeBand());\n",
      "</script>"
     ],
     "language": "python",
     "metadata": {
      "slideshow": {
       "slide_type": "skip"
      }
     },
     "outputs": [
      {
       "output_type": "stream",
       "stream": "stdout",
       "text": [
        "Overwriting html/07_stacks/07_stacks_01.html\n"
       ]
      }
     ],
     "prompt_number": 32
    },
    {
     "cell_type": "markdown",
     "metadata": {
      "slideshow": {
       "slide_type": "slide"
      }
     },
     "source": [
      "## Get the baseline right\n",
      "* Scales are hard sometimes\n",
      "\n",
      "[show results](/files/html/07_stacks/07_stacks_02.html)"
     ]
    },
    {
     "cell_type": "code",
     "collapsed": false,
     "input": [
      "%%file html/07_stacks/07_stacks_02.html\n",
      "\n",
      "<!DOCTYPE html>\n",
      "<meta charset=\"utf-8\">\n",
      "\n",
      "<style>\n",
      "/* css goes here */\n",
      "</style>\n",
      "\n",
      "<body>\n",
      "<p>Stacked charts</p>\n",
      "\n",
      "<script src=\"../d3.v3.js\"></script>\n",
      "<script>\n",
      "\n",
      "//Original data\n",
      "var dataset = [\n",
      "    [\n",
      "        { x: 0, y: 5 },\n",
      "        { x: 1, y: 4 },\n",
      "        { x: 2, y: 2 },\n",
      "        { x: 3, y: 7 },\n",
      "        { x: 4, y: 23 }\n",
      "    ],\n",
      "    [\n",
      "        { x: 0, y: 10 },\n",
      "        { x: 1, y: 12 },\n",
      "        { x: 2, y: 19 },\n",
      "        { x: 3, y: 23 },\n",
      "        { x: 4, y: 17 }\n",
      "    ],\n",
      "    [\n",
      "        { x: 0, y: 22 },\n",
      "        { x: 1, y: 28 },\n",
      "        { x: 2, y: 32 },\n",
      "        { x: 3, y: 35 },\n",
      "        { x: 4, y: 43 }\n",
      "    ]\n",
      "];\n",
      "\n",
      "// Width and height\n",
      "var width = 500,\n",
      "    height = 300;\n",
      "\n",
      "// Set up stack method\n",
      "var stack = d3.layout.stack();\n",
      "\n",
      "// Data, stacked\n",
      "stack(dataset);\n",
      "\n",
      "// Set up scales\n",
      "var xScale = d3.scale.ordinal()\n",
      "    .domain(d3.range(dataset[0].length))\n",
      "    .rangeRoundBands([0, width], 0.05);\n",
      "\n",
      "var yScale = d3.scale.linear()\n",
      "    .domain([0,\t\t\t\t\n",
      "        d3.max(dataset, function(d) {\n",
      "            return d3.max(d, function(d) {\n",
      "                return d.y0 + d.y;\n",
      "            });\n",
      "        })\n",
      "    ])\n",
      "    .range([height, 0]);\n",
      "    \n",
      "// Easy colors accessible via a 10-step ordinal scale\n",
      "var colors = d3.scale.category10();\n",
      "\n",
      "// Create SVG element\n",
      "var svg = d3.select(\"body\")\n",
      "            .append(\"svg\")\n",
      "            .attr(\"width\", width)\n",
      "            .attr(\"height\", height);\n",
      "\n",
      "// Add a group for each row of data\n",
      "var groups = svg.selectAll(\"g\")\n",
      "    .data(dataset)\n",
      "  .enter()\n",
      "    .append(\"g\")\n",
      "    .style(\"fill\", function(d, i) {\n",
      "        return colors(i);\n",
      "    });\n",
      "\n",
      "// Add a rect for each data value\n",
      "var rects = groups.selectAll(\"rect\")\n",
      "    .data(function(d) { return d; })\n",
      "  .enter()\n",
      "    .append(\"rect\")\n",
      "    .attr(\"x\", function(d, i) {\n",
      "        return xScale(i);\n",
      "    })\n",
      "    .attr(\"y\", function(d) {\n",
      "        console.log(d.y0);\n",
      "        return yScale(d.y0 + d.y);\n",
      "    })\n",
      "    .attr(\"height\", function(d) {\n",
      "        return yScale(d.y0) - yScale(d.y0 + d.y);\n",
      "    })\n",
      "    .attr(\"width\", xScale.rangeBand());\n",
      "</script>"
     ],
     "language": "python",
     "metadata": {
      "slideshow": {
       "slide_type": "skip"
      }
     },
     "outputs": [
      {
       "output_type": "stream",
       "stream": "stdout",
       "text": [
        "Overwriting html/07_stacks/07_stacks_02.html\n"
       ]
      }
     ],
     "prompt_number": 33
    },
    {
     "cell_type": "markdown",
     "metadata": {
      "slideshow": {
       "slide_type": "slide"
      }
     },
     "source": [
      "## If it is just right, should be able to change to sqrt scale\n",
      "* What about log scale?\n",
      "\n",
      "[show results](/files/html/07_stacks/07_stacks_03.html)"
     ]
    },
    {
     "cell_type": "code",
     "collapsed": false,
     "input": [
      "%%file html/07_stacks/07_stacks_03.html\n",
      "\n",
      "<!DOCTYPE html>\n",
      "<meta charset=\"utf-8\">\n",
      "\n",
      "<style>\n",
      "/* css goes here */\n",
      "</style>\n",
      "\n",
      "<body>\n",
      "<p>Stacked charts</p>\n",
      "\n",
      "<script src=\"../d3.v3.js\"></script>\n",
      "<script>\n",
      "\n",
      "//Original data\n",
      "var dataset = [\n",
      "    [\n",
      "        { x: 0, y: 5 },\n",
      "        { x: 1, y: 4 },\n",
      "        { x: 2, y: 2 },\n",
      "        { x: 3, y: 7 },\n",
      "        { x: 4, y: 23 }\n",
      "    ],\n",
      "    [\n",
      "        { x: 0, y: 10 },\n",
      "        { x: 1, y: 12 },\n",
      "        { x: 2, y: 19 },\n",
      "        { x: 3, y: 23 },\n",
      "        { x: 4, y: 17 }\n",
      "    ],\n",
      "    [\n",
      "        { x: 0, y: 22 },\n",
      "        { x: 1, y: 28 },\n",
      "        { x: 2, y: 32 },\n",
      "        { x: 3, y: 35 },\n",
      "        { x: 4, y: 43 }\n",
      "    ]\n",
      "];\n",
      "\n",
      "// Width and height\n",
      "var width = 500,\n",
      "    height = 300;\n",
      "\n",
      "// Set up stack method\n",
      "var stack = d3.layout.stack();\n",
      "\n",
      "// Data, stacked\n",
      "stack(dataset);\n",
      "\n",
      "// Set up scales\n",
      "var xScale = d3.scale.ordinal()\n",
      "    .domain(d3.range(dataset[0].length))\n",
      "    .rangeRoundBands([0, width], 0.05);\n",
      "\n",
      "var yScale = d3.scale.sqrt()\n",
      "    .domain([0,\t\t\t\t\n",
      "        d3.max(dataset, function(d) {\n",
      "            return d3.max(d, function(d) {\n",
      "                return d.y0 + d.y;\n",
      "            });\n",
      "        })\n",
      "    ])\n",
      "    .range([height, 0]);\n",
      "    \n",
      "// Easy colors accessible via a 10-step ordinal scale\n",
      "var colors = d3.scale.category10();\n",
      "\n",
      "// Create SVG element\n",
      "var svg = d3.select(\"body\")\n",
      "            .append(\"svg\")\n",
      "            .attr(\"width\", width)\n",
      "            .attr(\"height\", height);\n",
      "\n",
      "// Add a group for each row of data\n",
      "var groups = svg.selectAll(\"g\")\n",
      "    .data(dataset)\n",
      "  .enter()\n",
      "    .append(\"g\")\n",
      "    .style(\"fill\", function(d, i) {\n",
      "        return colors(i);\n",
      "    });\n",
      "\n",
      "// Add a rect for each data value\n",
      "var rects = groups.selectAll(\"rect\")\n",
      "    .data(function(d) { return d; })\n",
      "  .enter()\n",
      "    .append(\"rect\")\n",
      "    .attr(\"x\", function(d, i) {\n",
      "        return xScale(i);\n",
      "    })\n",
      "    .attr(\"y\", function(d) {\n",
      "        console.log(d.y0);\n",
      "        return yScale(d.y0 + d.y);\n",
      "    })\n",
      "    .attr(\"height\", function(d) {\n",
      "        return yScale(d.y0) - yScale(d.y0 + d.y);\n",
      "    })\n",
      "    .attr(\"width\", xScale.rangeBand());\n",
      "</script>"
     ],
     "language": "python",
     "metadata": {
      "slideshow": {
       "slide_type": "skip"
      }
     },
     "outputs": [
      {
       "output_type": "stream",
       "stream": "stdout",
       "text": [
        "Overwriting html/07_stacks/07_stacks_03.html\n"
       ]
      }
     ],
     "prompt_number": 40
    },
    {
     "cell_type": "markdown",
     "metadata": {
      "slideshow": {
       "slide_type": "slide"
      }
     },
     "source": [
      "## Bells and whistles\n",
      "\n",
      "## And axes, interaction\n",
      "\n",
      "* Zoom\n",
      "* Filter\n",
      "* Details-on-demand"
     ]
    },
    {
     "cell_type": "markdown",
     "metadata": {
      "slideshow": {
       "slide_type": "subslide"
      }
     },
     "source": [
      "## For inspiration, see [Bostock's Block](http://bl.ocks.org/mbostock/4679202)."
     ]
    },
    {
     "cell_type": "markdown",
     "metadata": {
      "slideshow": {
       "slide_type": "slide"
      }
     },
     "source": [
      "## Tomorrow: Tree Maps"
     ]
    },
    {
     "cell_type": "code",
     "collapsed": false,
     "input": [
      "!cp /homes/abie/notebook/2013_07_06c_IDV4GH_Exercise_07_stacks.ipynb /homes/abie/nbconvert/E7.ipynb\n",
      "!cd /homes/abie/nbconvert/; ./nbconvert.py --format reveal E7.ipynb\n",
      "!cp /homes/abie/nbconvert/E7* /home/j/Project/Models/IDV4GH/exercises\n",
      "!cp -r /homes/abie/notebook/html/07_stacks/ /home/j/Project/Models/IDV4GH/exercises/html/"
     ],
     "language": "python",
     "metadata": {
      "slideshow": {
       "slide_type": "skip"
      }
     },
     "outputs": [
      {
       "output_type": "stream",
       "stream": "stdout",
       "text": [
        "\r\n",
        "======================================================\r\n",
        "Warning, we are deprecating this version of nbconvert,\r\n",
        "please consider using the new version.\r\n",
        "======================================================\r\n",
        "    \r\n"
       ]
      }
     ],
     "prompt_number": 53
    },
    {
     "cell_type": "code",
     "collapsed": false,
     "input": [
      "import ipynb_style\n",
      "ipynb_style.presentation()"
     ],
     "language": "python",
     "metadata": {
      "slideshow": {
       "slide_type": "skip"
      }
     },
     "outputs": [
      {
       "html": [
        "\n",
        "<style type=\"text/css\">\n",
        "div.input {\n",
        "width: 1024px; /* about 80 chars + buffer */\n",
        "}\n",
        "\n",
        "div.text_cell {\n",
        "width: 1024px /* instead of 100%, */\n",
        "}\n",
        "\n",
        "div.text_cell_render {\n",
        "/*font-family: \"Helvetica Neue\", Arial, Helvetica, Geneva, sans-serif;*/\n",
        "font-family: \"Charis SIL\", serif; /* Make non-code text serif. */\n",
        "line-height: 145%; /* added for some line spacing of text. */\n",
        "font-size: 28pt;\n",
        "}\n",
        "\n",
        "/* Set the size of the headers */\n",
        "div.text_cell_render h1 {\n",
        "font-size: 36pt;\n",
        "}\n",
        "\n",
        "div.text_cell_render h2 {\n",
        "font-size: 32pt;\n",
        "}\n",
        "\n",
        "div.text_cell_render li {\n",
        "line-height: 1.2em;\n",
        "}\n",
        "\n",
        "div.text_cell_render p {\n",
        "font-size: 14pt;\n",
        "line-height: 1em;\n",
        "}\n",
        "\n",
        ".CodeMirror {\n",
        "font-size: 14pt;\n",
        " font-family: Consolas, monospace;\n",
        " }\n",
        "\n",
        ".rendered_html ol {list-style:decimal; margin: 1em 2em;}\n",
        "\n",
        "</style>\n"
       ],
       "output_type": "pyout",
       "prompt_number": 36,
       "text": [
        "<IPython.core.display.HTML at 0x25b1710>"
       ]
      }
     ],
     "prompt_number": 36
    },
    {
     "cell_type": "markdown",
     "metadata": {},
     "source": [
      "Based on IDV4W, Chap 11 http://chimera.labs.oreilly.com/books/1230000000345/ch11.html#_stack_layout"
     ]
    },
    {
     "cell_type": "code",
     "collapsed": false,
     "input": [],
     "language": "python",
     "metadata": {},
     "outputs": []
    }
   ],
   "metadata": {}
  }
 ]
}