{
 "metadata": {
  "name": "2013_07_04_IDV4GH_Exercise_01_Bubble_chart"
 },
 "nbformat": 3,
 "nbformat_minor": 0,
 "worksheets": [
  {
   "cells": [
    {
     "cell_type": "markdown",
     "metadata": {
      "slideshow": {
       "slide_type": "slide"
      }
     },
     "source": [
      "# IDV4GH Exercise 1\n",
      "\n",
      "## Bubble Chart (like Gap Minder)"
     ]
    },
    {
     "cell_type": "markdown",
     "metadata": {
      "slideshow": {
       "slide_type": "slide"
      }
     },
     "source": [
      "## Skeleton for IDV in d3js:\n",
      "\n",
      "    <!DOCTYPE html>\n",
      "    <meta charset=\"utf-8\">\n",
      "    \n",
      "    <style>\n",
      "    /* css goes here */\n",
      "    </style>\n",
      "    \n",
      "    <body>\n",
      "    <p>HTML goes here.</p>\n",
      "    \n",
      "    <script src=\"../d3.v3.js\"></script>\n",
      "    <script>\n",
      "    // javascript goes here\n",
      "    </script>\n",
      "\n",
      "[show results](/files/html/01_bubble/01_bubble_00.html)"
     ]
    },
    {
     "cell_type": "code",
     "collapsed": false,
     "input": [
      "%%file html/01_bubble/01_bubble_00.html\n",
      "\n",
      "<!DOCTYPE html>\n",
      "<meta charset=\"utf-8\">\n",
      "\n",
      "<style>\n",
      "/* css goes here */\n",
      "</style>\n",
      "\n",
      "<body>\n",
      "<p>HTML goes here.</p>\n",
      "\n",
      "<script src=\"../d3.v3.js\"></script>\n",
      "<script>\n",
      "// javascript goes here\n",
      "</script>\n"
     ],
     "language": "python",
     "metadata": {
      "slideshow": {
       "slide_type": "skip"
      }
     },
     "outputs": [
      {
       "output_type": "stream",
       "stream": "stdout",
       "text": [
        "Overwriting html/01_bubble/01_bubble_00.html"
       ]
      },
      {
       "output_type": "stream",
       "stream": "stdout",
       "text": [
        "\n"
       ]
      }
     ],
     "prompt_number": 225
    },
    {
     "cell_type": "markdown",
     "metadata": {
      "slideshow": {
       "slide_type": "notes"
      }
     },
     "source": [
      "The astute student will note that this includes HTML, CSS, and Javascript, but no SVG.  I said that there are 4 pieces to the d3js way, and we will now add the missing fourth piece using the third."
     ]
    },
    {
     "cell_type": "markdown",
     "metadata": {
      "slideshow": {
       "slide_type": "slide"
      }
     },
     "source": [
      "## Use d3 to add SVG\n",
      "\n",
      "    // javascript goes here\n",
      "    var svg = d3.select(\"body\").append(\"svg\")\n",
      "        .attr(\"width\", 910)\n",
      "        .attr(\"height\", 470);\n",
      "\n",
      "[show results](/files/html/01_bubble/01_bubble_01a.html)"
     ]
    },
    {
     "cell_type": "code",
     "collapsed": false,
     "input": [
      "%%file html/01_bubble/01_bubble_01a.html\n",
      "\n",
      "<!DOCTYPE html>\n",
      "<meta charset=\"utf-8\">\n",
      "\n",
      "<style>\n",
      "/* css goes here */\n",
      "</style>\n",
      "\n",
      "<body>\n",
      "\n",
      "<p>HTML goes here.</p>\n",
      "\n",
      "<script src=\"../d3.v3.js\"></script>\n",
      "<script>\n",
      "// javascript goes here\n",
      "var svg = d3.select(\"body\").append(\"svg\")\n",
      "    .attr(\"width\", 910)\n",
      "    .attr(\"height\", 470);\n",
      "</script>\n"
     ],
     "language": "python",
     "metadata": {
      "slideshow": {
       "slide_type": "skip"
      }
     },
     "outputs": [
      {
       "output_type": "stream",
       "stream": "stdout",
       "text": [
        "Overwriting html/01_bubble/01_bubble_01a.html\n"
       ]
      }
     ],
     "prompt_number": 226
    },
    {
     "cell_type": "markdown",
     "metadata": {
      "slideshow": {
       "slide_type": "notes"
      }
     },
     "source": [
      "That's not much to look at, but if you use the Chrome developer tools to inspect the HTML elements, you can confirm that there is an SVG taking up space on the page now."
     ]
    },
    {
     "cell_type": "markdown",
     "metadata": {
      "slideshow": {
       "slide_type": "subslide"
      }
     },
     "source": [
      "## Hard-coding the constants is uncool\n",
      "    // javascript goes here\n",
      "    var margin = {top: 10, right: 10,\n",
      "                  bottom: 20, left: 40},\n",
      "        width = 960 - margin.left\n",
      "                - margin.right,\n",
      "        height = 500 - margin.top\n",
      "                - margin.bottom;\n",
      "    \n",
      "    var svg = d3.select(\"body\").append(\"svg\")\n",
      "        .attr(\"width\", width\n",
      "              + margin.left + margin.right)\n",
      "        .attr(\"height\", height\n",
      "              + margin.top + margin.bottom);\n",
      "\n",
      "[show results](/files/html/01_bubble/01_bubble_01b.html)    "
     ]
    },
    {
     "cell_type": "code",
     "collapsed": false,
     "input": [
      "%%file html/01_bubble/01_bubble_01b.html\n",
      "\n",
      "<!DOCTYPE html>\n",
      "<meta charset=\"utf-8\">\n",
      "\n",
      "<style>\n",
      "/* css goes here */\n",
      "</style>\n",
      "\n",
      "<body>\n",
      "\n",
      "<p>HTML goes here.</p>\n",
      "\n",
      "<script src=\"../d3.v3.js\"></script>\n",
      "<script>\n",
      "// javascript goes here\n",
      "var margin = {top: 10, right: 10,\n",
      "              bottom: 20, left: 40},\n",
      "    width = 960 - margin.left\n",
      "            - margin.right,\n",
      "    height = 500 - margin.top\n",
      "            - margin.bottom;\n",
      "\n",
      "var svg = d3.select(\"body\").append(\"svg\")\n",
      "    .attr(\"width\", width\n",
      "          + margin.left + margin.right)\n",
      "    .attr(\"height\", height\n",
      "          + margin.top + margin.bottom);\n",
      "</script>\n"
     ],
     "language": "python",
     "metadata": {
      "slideshow": {
       "slide_type": "skip"
      }
     },
     "outputs": [
      {
       "output_type": "stream",
       "stream": "stdout",
       "text": [
        "Overwriting html/01_bubble/01_bubble_01b.html\n"
       ]
      }
     ],
     "prompt_number": 227
    },
    {
     "cell_type": "markdown",
     "metadata": {
      "slideshow": {
       "slide_type": "notes"
      }
     },
     "source": [
      "Let's put something in the SVG, so that we can see it really is there."
     ]
    },
    {
     "cell_type": "markdown",
     "metadata": {
      "slideshow": {
       "slide_type": "subslide"
      }
     },
     "source": [
      "## Add a dot:\n",
      "\n",
      "    var dot = svg.append(\"circle\")\n",
      "        .attr(\"r\", 10)\n",
      "        .attr(\"cx\", 50)\n",
      "        .attr(\"cy\", 50);\n",
      "\n",
      "## Can you make it red?  With a dashed, blue outline?\n",
      "\n",
      "[show results](/files/html/01_bubble/01_bubble_02.html)    "
     ]
    },
    {
     "cell_type": "code",
     "collapsed": false,
     "input": [
      "%%file html/01_bubble/01_bubble_02.html\n",
      "\n",
      "<!DOCTYPE html>\n",
      "<meta charset=\"utf-8\">\n",
      "\n",
      "<style>\n",
      "/* css goes here */\n",
      "</style>\n",
      "\n",
      "<body>\n",
      "\n",
      "<p>HTML goes here.</p>\n",
      "\n",
      "<script src=\"../d3.v3.js\"></script>\n",
      "<script>\n",
      "// javascript goes here\n",
      "var margin = {top: 10, right: 10,\n",
      "              bottom: 20, left: 40},\n",
      "    width = 960 - margin.left\n",
      "            - margin.right,\n",
      "    height = 500 - margin.top\n",
      "            - margin.bottom;\n",
      "\n",
      "var svg = d3.select(\"body\").append(\"svg\")\n",
      "    .attr(\"width\", width\n",
      "          + margin.left + margin.right)\n",
      "    .attr(\"height\", height\n",
      "          + margin.top + margin.bottom);\n",
      "    \n",
      "var dot = svg.append(\"circle\")\n",
      "    .attr(\"r\", 10)\n",
      "    .attr(\"cx\", 50)\n",
      "    .attr(\"cy\", 50);\n",
      "</script>\n"
     ],
     "language": "python",
     "metadata": {
      "slideshow": {
       "slide_type": "skip"
      }
     },
     "outputs": [
      {
       "output_type": "stream",
       "stream": "stdout",
       "text": [
        "Overwriting html/01_bubble/01_bubble_02.html\n"
       ]
      }
     ],
     "prompt_number": 228
    },
    {
     "cell_type": "markdown",
     "metadata": {
      "slideshow": {
       "slide_type": "subslide"
      }
     },
     "source": [
      "## Starting to see how detailed the control can be:\n",
      "\n",
      "    var dot = svg.append(\"circle\")\n",
      "        .attr(\"r\", 100)\n",
      "        .attr(\"cx\", 150)\n",
      "        .attr(\"cy\", 150)\n",
      "        .style(\"fill\", \"red\")\n",
      "        .style(\"stroke\", \"blue\")\n",
      "        .style(\"stroke-width\", 2)\n",
      "        .style(\"stroke-dasharray\", \"5,5\");\n",
      "        \n",
      "[show results](/files/html/01_bubble/01_bubble_02b.html)    "
     ]
    },
    {
     "cell_type": "code",
     "collapsed": false,
     "input": [
      "%%file html/01_bubble/01_bubble_02b.html\n",
      "\n",
      "<!DOCTYPE html>\n",
      "<meta charset=\"utf-8\">\n",
      "\n",
      "<style>\n",
      "/* css goes here */\n",
      "</style>\n",
      "\n",
      "<body>\n",
      "\n",
      "<p>HTML goes here.</p>\n",
      "\n",
      "<script src=\"../d3.v3.js\"></script>\n",
      "<script>\n",
      "// javascript goes here\n",
      "var margin = {top: 10, right: 10,\n",
      "              bottom: 20, left: 40},\n",
      "    width = 960 - margin.left\n",
      "            - margin.right,\n",
      "    height = 500 - margin.top\n",
      "            - margin.bottom;\n",
      "\n",
      "var svg = d3.select(\"body\").append(\"svg\")\n",
      "    .attr(\"width\", width\n",
      "          + margin.left + margin.right)\n",
      "    .attr(\"height\", height\n",
      "          + margin.top + margin.bottom);\n",
      "    \n",
      "var dot = svg.append(\"circle\")\n",
      "    .attr(\"r\", 100)\n",
      "    .attr(\"cx\", 150)\n",
      "    .attr(\"cy\", 150)\n",
      "    .style(\"fill\", \"red\")\n",
      "    .style(\"stroke\", \"blue\")\n",
      "    .style(\"stroke-width\", 2)\n",
      "    .style(\"stroke-dasharray\", \"5,5\");\n",
      "</script>\n"
     ],
     "language": "python",
     "metadata": {
      "slideshow": {
       "slide_type": "skip"
      }
     },
     "outputs": [
      {
       "output_type": "stream",
       "stream": "stdout",
       "text": [
        "Overwriting html/01_bubble/01_bubble_02b.html\n"
       ]
      }
     ],
     "prompt_number": 230
    },
    {
     "cell_type": "markdown",
     "metadata": {
      "slideshow": {
       "slide_type": "notes"
      }
     },
     "source": [
      "It is common to do the aesthetic styling of the figure in CSS, and the semantic styling with d3.  This distinction is not always clear-cut, however."
     ]
    },
    {
     "cell_type": "markdown",
     "metadata": {
      "slideshow": {
       "slide_type": "subslide"
      }
     },
     "source": [
      "## CSS version\n",
      "\n",
      "    /* css goes here */\n",
      "    .dot {\n",
      "      fill: red;\n",
      "      stroke: blue;\n",
      "      stroke-width: 2;\n",
      "      stroke-dasharray: 5,5;\n",
      "    }\n",
      "    \n",
      "    ...\n",
      "    \n",
      "    var dot = svg.append(\"circle\")\n",
      "        .attr(\"class\", \"dot\")\n",
      "        .attr(\"r\", 100)\n",
      "        .attr(\"cx\", 150)\n",
      "        .attr(\"cy\", 150);\n",
      "    \n",
      "[show results](/files/html/01_bubble/01_bubble_02c.html)    "
     ]
    },
    {
     "cell_type": "code",
     "collapsed": false,
     "input": [
      "%%file html/01_bubble/01_bubble_02c.html\n",
      "\n",
      "<!DOCTYPE html>\n",
      "<meta charset=\"utf-8\">\n",
      "\n",
      "<style>\n",
      "/* css goes here */\n",
      ".dot {\n",
      "  fill: red;\n",
      "  stroke: blue;\n",
      "  stroke-width: 2;\n",
      "  stroke-dasharray: 5,5;\n",
      "}\n",
      "</style>\n",
      "\n",
      "<body>\n",
      "\n",
      "<p>HTML goes here.</p>\n",
      "\n",
      "<script src=\"../d3.v3.js\"></script>\n",
      "<script>\n",
      "// javascript goes here\n",
      "var margin = {top: 10, right: 10,\n",
      "              bottom: 20, left: 40},\n",
      "    width = 960 - margin.left\n",
      "            - margin.right,\n",
      "    height = 500 - margin.top\n",
      "            - margin.bottom;\n",
      "\n",
      "var svg = d3.select(\"body\").append(\"svg\")\n",
      "    .attr(\"width\", width\n",
      "          + margin.left + margin.right)\n",
      "    .attr(\"height\", height\n",
      "          + margin.top + margin.bottom);\n",
      "    \n",
      "var dot = svg.append(\"circle\")\n",
      "    .attr(\"class\", \"dot\")\n",
      "    .attr(\"r\", 100)\n",
      "    .attr(\"cx\", 150)\n",
      "    .attr(\"cy\", 150);\n",
      "</script>\n"
     ],
     "language": "python",
     "metadata": {
      "slideshow": {
       "slide_type": "skip"
      }
     },
     "outputs": [
      {
       "output_type": "stream",
       "stream": "stdout",
       "text": [
        "Overwriting html/01_bubble/01_bubble_02c.html\n"
       ]
      }
     ],
     "prompt_number": 231
    },
    {
     "cell_type": "markdown",
     "metadata": {
      "slideshow": {
       "slide_type": "notes"
      }
     },
     "source": [
      "This is all good fun, but it is now time to get *data* into the data-driven document!"
     ]
    },
    {
     "cell_type": "markdown",
     "metadata": {
      "slideshow": {
       "slide_type": "slide"
      }
     },
     "source": [
      "## The (first) \"d\" in d3:\n",
      "    \n",
      "    var dot = svg.selectAll(\".dot\")\n",
      "        .data([[100,300],[200,100],\n",
      "               [300,400],[400,100],[500,500]])\n",
      "        .enter()\n",
      "        .append(\"circle\")\n",
      "        .attr(\"class\", \"dot\")\n",
      "        .attr(\"r\", 20)\n",
      "        .attr(\"cx\",\n",
      "              function(d) { return d[0]; })\n",
      "        .attr(\"cy\",\n",
      "              function(d) { return d[1]; });\n",
      "    \n",
      "[show results](/files/html/01_bubble/01_bubble_03.html)    "
     ]
    },
    {
     "cell_type": "code",
     "collapsed": false,
     "input": [
      "%%file html/01_bubble/01_bubble_03.html\n",
      "\n",
      "<!DOCTYPE html>\n",
      "<meta charset=\"utf-8\">\n",
      "\n",
      "<style>\n",
      "/* css goes here */\n",
      ".dot {\n",
      "  fill: red;\n",
      "  stroke: blue;\n",
      "  stroke-width: 2;\n",
      "  stroke-dasharray: 5,5;\n",
      "}\n",
      "</style>\n",
      "\n",
      "<body>\n",
      "\n",
      "<p>HTML goes here.</p>\n",
      "\n",
      "<script src=\"../d3.v3.js\"></script>\n",
      "<script>\n",
      "// javascript goes here\n",
      "var margin = {top: 10, right: 10,\n",
      "              bottom: 20, left: 40},\n",
      "    width = 960 - margin.left\n",
      "            - margin.right,\n",
      "    height = 500 - margin.top\n",
      "            - margin.bottom;\n",
      "\n",
      "var svg = d3.select(\"body\").append(\"svg\")\n",
      "    .attr(\"width\", width\n",
      "          + margin.left + margin.right)\n",
      "    .attr(\"height\", height\n",
      "          + margin.top + margin.bottom);\n",
      "    \n",
      "var dot = svg.selectAll(\".dot\")\n",
      "    .data([[100,300],[200,100],\n",
      "           [300,400],[400,100],[500,500]])\n",
      "    .enter()\n",
      "    .append(\"circle\")\n",
      "    .attr(\"class\", \"dot\")\n",
      "    .attr(\"r\", 20)\n",
      "    .attr(\"cx\",\n",
      "          function(d) { return d[0]; })\n",
      "    .attr(\"cy\",\n",
      "          function(d) { return d[1]; });\n",
      "</script>\n"
     ],
     "language": "python",
     "metadata": {
      "slideshow": {
       "slide_type": "skip"
      }
     },
     "outputs": [
      {
       "output_type": "stream",
       "stream": "stdout",
       "text": [
        "Overwriting html/01_bubble/01_bubble_03.html\n"
       ]
      }
     ],
     "prompt_number": 232
    },
    {
     "cell_type": "markdown",
     "metadata": {
      "slideshow": {
       "slide_type": "notes"
      }
     },
     "source": [
      "This way of including data is not feasible for large projects.  However, all of the really cool ways of including data in d3 visualizations (e.g. d3.json, d3.csv, d3.xml) require setting up yet another piece of technology (either a webserver or a special web browser).\n",
      "\n",
      "To have a simple and slightly scalable approach, we will try using special .js files to hold all of our data.  Let's see how that goes."
     ]
    },
    {
     "cell_type": "markdown",
     "metadata": {
      "slideshow": {
       "slide_type": "slide"
      }
     },
     "source": [
      "## Now with real data\n",
      "\n",
      "    <script src=\"nations.js\"></script>\n",
      "\n",
      "    ...\n",
      "    \n",
      "    var dot = svg.selectAll(\".dot\")\n",
      "        .data(nations)\n",
      "        .enter()\n",
      "        .append(\"circle\")\n",
      "        .attr(\"class\", \"dot\")\n",
      "        .attr(\"r\", 20)\n",
      "        .attr(\"cx\", function(d) {\n",
      "          return d.income[2000]; })\n",
      "        .attr(\"cy\", function(d) {\n",
      "          return d.lifeExpectancy[2000]; });\n",
      "\n",
      "## Can you find the data?\n",
      "    \n",
      "[show results](/files/html/01_bubble/01_bubble_03b.html)"
     ]
    },
    {
     "cell_type": "code",
     "collapsed": false,
     "input": [
      "%%file html/01_bubble/01_bubble_03b.html\n",
      "\n",
      "<!DOCTYPE html>\n",
      "<meta charset=\"utf-8\">\n",
      "\n",
      "<style>\n",
      "/* css goes here */\n",
      ".dot {\n",
      "  fill: red;\n",
      "  stroke: blue;\n",
      "  stroke-width: 2;\n",
      "  stroke-dasharray: 5,5;\n",
      "}\n",
      "</style>\n",
      "\n",
      "<body>\n",
      "\n",
      "<p>HTML goes here.</p>\n",
      "\n",
      "<script src=\"../d3.v3.js\"></script>\n",
      "<script src=\"nations.js\"></script>\n",
      "\n",
      "<script>\n",
      "// javascript goes here\n",
      "var margin = {top: 10, right: 10,\n",
      "              bottom: 20, left: 40},\n",
      "    width = 960 - margin.left\n",
      "            - margin.right,\n",
      "    height = 500 - margin.top\n",
      "            - margin.bottom;\n",
      "\n",
      "var svg = d3.select(\"body\").append(\"svg\")\n",
      "    .attr(\"width\", width\n",
      "          + margin.left + margin.right)\n",
      "    .attr(\"height\", height\n",
      "          + margin.top + margin.bottom);\n",
      "    \n",
      "var dot = svg.selectAll(\".dot\")\n",
      "    .data(nations)\n",
      "    .enter()\n",
      "    .append(\"circle\")\n",
      "    .attr(\"class\", \"dot\")\n",
      "    .attr(\"r\", 20)\n",
      "    .attr(\"cx\", function(d) {\n",
      "      return d.income[2000]; })\n",
      "    .attr(\"cy\", function(d) {\n",
      "      return d.lifeExpectancy[2000]; });\n",
      "</script>\n"
     ],
     "language": "python",
     "metadata": {
      "slideshow": {
       "slide_type": "skip"
      }
     },
     "outputs": [
      {
       "output_type": "stream",
       "stream": "stdout",
       "text": [
        "Overwriting html/01_bubble/01_bubble_03b.html\n"
       ]
      }
     ],
     "prompt_number": 233
    },
    {
     "cell_type": "markdown",
     "metadata": {
      "slideshow": {
       "slide_type": "slide"
      }
     },
     "source": [
      "## A little cooler: call a function to position the bubble\n",
      "\n",
      "    var year = 2000;\n",
      "    var dot = svg.selectAll(\".dot\")\n",
      "        .data(nations)\n",
      "        .enter()\n",
      "        .append(\"circle\")\n",
      "        .attr(\"class\", \"dot\")\n",
      "        .call(position);\n",
      "        \n",
      "    function position(dot) {\n",
      "        dot .attr(\"r\", 20)\n",
      "            .attr(\"cx\", function(d) {\n",
      "              return d.income[year]; })\n",
      "            .attr(\"cy\", function(d) {\n",
      "              return d.lifeExpectancy[year]; });\n",
      "\n",
      "[show results](/files/html/01_bubble/01_bubble_03c.html)"
     ]
    },
    {
     "cell_type": "code",
     "collapsed": false,
     "input": [
      "%%file html/01_bubble/01_bubble_03c.html\n",
      "\n",
      "<!DOCTYPE html>\n",
      "<meta charset=\"utf-8\">\n",
      "\n",
      "<style>\n",
      "/* css goes here */\n",
      ".dot {\n",
      "  fill: red;\n",
      "  stroke: blue;\n",
      "  stroke-width: 2;\n",
      "  stroke-dasharray: 5,5;\n",
      "}\n",
      "</style>\n",
      "\n",
      "<body>\n",
      "\n",
      "<p>HTML goes here.</p>\n",
      "\n",
      "<script src=\"../d3.v3.js\"></script>\n",
      "<script src=\"nations.js\"></script>\n",
      "\n",
      "<script>\n",
      "// javascript goes here\n",
      "var margin = {top: 10, right: 10,\n",
      "              bottom: 20, left: 40},\n",
      "    width = 960 - margin.left\n",
      "            - margin.right,\n",
      "    height = 500 - margin.top\n",
      "            - margin.bottom;\n",
      "\n",
      "var svg = d3.select(\"body\").append(\"svg\")\n",
      "    .attr(\"width\", width\n",
      "          + margin.left + margin.right)\n",
      "    .attr(\"height\", height\n",
      "          + margin.top + margin.bottom);\n",
      "    \n",
      "var year = 2000;\n",
      "var dot = svg.selectAll(\".dot\")\n",
      "    .data(nations)\n",
      "    .enter()\n",
      "    .append(\"circle\")\n",
      "    .attr(\"class\", \"dot\")\n",
      "    .call(position);\n",
      "    \n",
      "function position(dot) {\n",
      "    dot .attr(\"r\", 20)\n",
      "        .attr(\"cx\", function(d) {\n",
      "          return d.income[year]; })\n",
      "        .attr(\"cy\", function(d) {\n",
      "          return d.lifeExpectancy[year]; });\n",
      "}\n",
      "</script>\n"
     ],
     "language": "python",
     "metadata": {
      "slideshow": {
       "slide_type": "skip"
      }
     },
     "outputs": [
      {
       "output_type": "stream",
       "stream": "stdout",
       "text": [
        "Overwriting html/01_bubble/01_bubble_03c.html\n"
       ]
      }
     ],
     "prompt_number": 234
    },
    {
     "cell_type": "markdown",
     "metadata": {
      "slideshow": {
       "slide_type": "subslide"
      }
     },
     "source": [
      "## Actually, a lot cooler\n",
      "## What do you think this does?\n",
      "\n",
      "    year -= 5;\n",
      "    dot.transition().call(position)\n"
     ]
    },
    {
     "cell_type": "code",
     "collapsed": false,
     "input": [
      "new_data = []\n",
      "for d_i in d:\n",
      "    df = pd.DataFrame(dict(income=dict(d_i['income']), \n",
      "          lifeExpectancy=dict(d_i['lifeExpectancy']),\n",
      "          population=dict(d_i['population'])))\n",
      "    df = df[df.index.isin(range(1970,2009,5))]\n",
      "    if not any(isnan(df)):\n",
      "    \n",
      "        new_data.append(df.to_dict())\n",
      "        new_data[-1]['name'] = d_i['name']\n",
      "        new_data[-1]['region'] = d_i['region']"
     ],
     "language": "python",
     "metadata": {
      "slideshow": {
       "slide_type": "skip"
      }
     },
     "outputs": [],
     "prompt_number": 249
    },
    {
     "cell_type": "code",
     "collapsed": false,
     "input": [
      "len(new_data)"
     ],
     "language": "python",
     "metadata": {},
     "outputs": [
      {
       "output_type": "pyout",
       "prompt_number": 250,
       "text": [
        "158"
       ]
      }
     ],
     "prompt_number": 250
    },
    {
     "cell_type": "code",
     "collapsed": false,
     "input": [
      "new_data = json.dumps(new_data)"
     ],
     "language": "python",
     "metadata": {
      "slideshow": {
       "slide_type": "skip"
      }
     },
     "outputs": [],
     "prompt_number": 251
    },
    {
     "cell_type": "code",
     "collapsed": false,
     "input": [
      "with file('html/01_bubble/nations.js', 'w') as f:\n",
      "    f.write(\"var nations = %s;\"%new_data)"
     ],
     "language": "python",
     "metadata": {
      "slideshow": {
       "slide_type": "skip"
      }
     },
     "outputs": [],
     "prompt_number": 252
    },
    {
     "cell_type": "markdown",
     "metadata": {
      "slideshow": {
       "slide_type": "slide"
      }
     },
     "source": [
      "## To make position more meaningful, need scales.\n",
      "    \n",
      "    var xScale = d3.scale.log()\n",
      "                   .domain([300, 1e5])\n",
      "                   .range([0, width]),\n",
      "        yScale = d3.scale.linear()\n",
      "                   .domain([10, 85])\n",
      "                   .range([height, 0]),\n",
      "        radiusScale = d3.scale.sqrt()\n",
      "                        .domain([0, 5e8])\n",
      "                        .range([0, 40]),\n",
      "        colorScale = d3.scale.category10();\n",
      "    \n",
      "    var dot = svg.selectAll(\".dot\")\n",
      "        .data(nations)\n",
      "        .enter()\n",
      "        .append(\"circle\")\n",
      "        .attr(\"class\", \"dot\")\n",
      "        .style(\"fill\", function(d) {\n",
      "          return colorScale(d.region); })\n",
      "        .call(position);\n",
      "        \n",
      "    function position(dot) {\n",
      "        dot .attr(\"r\", function(d) {\n",
      "              return radiusScale(\n",
      "                d.population[year]); })\n",
      "            .attr(\"cx\", function(d) {\n",
      "              return xScale(\n",
      "                d.income[year]); })\n",
      "            .attr(\"cy\", function(d) {\n",
      "              return yScale(\n",
      "                d.lifeExpectancy[year]); });\n",
      "    }\n",
      "    </script>\n",
      "\n",
      "[show results](/files/html/01_bubble/01_bubble_04.html) "
     ]
    },
    {
     "cell_type": "code",
     "collapsed": false,
     "input": [
      "%%file html/01_bubble/01_bubble_04.html\n",
      "\n",
      "<!DOCTYPE html>\n",
      "<meta charset=\"utf-8\">\n",
      "\n",
      "<style>\n",
      "/* css goes here */\n",
      ".dot {\n",
      "  stroke: black;\n",
      "  stroke-width: 1;\n",
      "  opacity: .5;\n",
      "}\n",
      "</style>\n",
      "\n",
      "<body>\n",
      "\n",
      "<p>HTML goes here.</p>\n",
      "\n",
      "<script src=\"../d3.v3.js\"></script>\n",
      "<script src=\"nations.js\"></script>\n",
      "\n",
      "<script>\n",
      "// javascript goes here\n",
      "var margin = {top: 10, right: 10,\n",
      "              bottom: 20, left: 40},\n",
      "    width = 960 - margin.left\n",
      "            - margin.right,\n",
      "    height = 500 - margin.top\n",
      "            - margin.bottom;\n",
      "\n",
      "var svg = d3.select(\"body\").append(\"svg\")\n",
      "    .attr(\"width\", width\n",
      "          + margin.left + margin.right)\n",
      "    .attr(\"height\", height\n",
      "          + margin.top + margin.bottom);\n",
      "    \n",
      "var year = 2000;\n",
      "\n",
      "var xScale = d3.scale.log()\n",
      "               .domain([300, 1e5])\n",
      "               .range([0, width]),\n",
      "    yScale = d3.scale.linear()\n",
      "               .domain([10, 85])\n",
      "               .range([height, 0]),\n",
      "    radiusScale = d3.scale.sqrt()\n",
      "                    .domain([0, 5e8])\n",
      "                    .range([0, 40]),\n",
      "    colorScale = d3.scale.category10();\n",
      "\n",
      "var dot = svg.selectAll(\".dot\")\n",
      "    .data(nations)\n",
      "    .enter()\n",
      "    .append(\"circle\")\n",
      "    .attr(\"class\", \"dot\")\n",
      "    .style(\"fill\", function(d) {\n",
      "      return colorScale(d.region); })\n",
      "    .call(position);\n",
      "    \n",
      "function position(dot) {\n",
      "    dot .attr(\"r\", function(d) {\n",
      "          return radiusScale(\n",
      "            d.population[year]); })\n",
      "        .attr(\"cx\", function(d) {\n",
      "          return xScale(\n",
      "            d.income[year]); })\n",
      "        .attr(\"cy\", function(d) {\n",
      "          return yScale(\n",
      "            d.lifeExpectancy[year]); });\n",
      "}\n",
      "</script>\n"
     ],
     "language": "python",
     "metadata": {
      "slideshow": {
       "slide_type": "skip"
      }
     },
     "outputs": [
      {
       "output_type": "stream",
       "stream": "stdout",
       "text": [
        "Overwriting html/01_bubble/01_bubble_04.html\n"
       ]
      }
     ],
     "prompt_number": 239
    },
    {
     "cell_type": "markdown",
     "metadata": {
      "slideshow": {
       "slide_type": "slide"
      }
     },
     "source": [
      "## Axes would be good, too, but first need to shift everything to have room\n",
      "\n",
      "    var svg = d3.select(\"body\").append(\"svg\")\n",
      "        .attr(\"width\", width\n",
      "              + margin.left + margin.right)\n",
      "        .attr(\"height\", height\n",
      "              + margin.top + margin.bottom)\n",
      "        .append(\"g\")\n",
      "        .attr(\"transform\",\n",
      "          \"translate(\" + margin.left + \",\"\n",
      "             + margin.top + \")\");\n",
      "\n",
      "\n",
      "[show results](/files/html/01_bubble/01_bubble_05.html) "
     ]
    },
    {
     "cell_type": "code",
     "collapsed": false,
     "input": [
      "%%file html/01_bubble/01_bubble_05.html\n",
      "\n",
      "<!DOCTYPE html>\n",
      "<meta charset=\"utf-8\">\n",
      "\n",
      "<style>\n",
      "/* css goes here */\n",
      ".dot {\n",
      "  stroke: black;\n",
      "  stroke-width: 1;\n",
      "  opacity: .5;\n",
      "}\n",
      "\n",
      "</style>\n",
      "\n",
      "<body>\n",
      "\n",
      "<p>HTML goes here.</p>\n",
      "\n",
      "<script src=\"../d3.v3.js\"></script>\n",
      "<script src=\"nations.js\"></script>\n",
      "\n",
      "<script>\n",
      "// javascript goes here\n",
      "var margin = {top: 10, right: 10,\n",
      "              bottom: 20, left: 40},\n",
      "    width = 960 - margin.left\n",
      "            - margin.right,\n",
      "    height = 500 - margin.top\n",
      "            - margin.bottom;\n",
      "\n",
      "var svg = d3.select(\"body\").append(\"svg\")\n",
      "    .attr(\"width\", width\n",
      "          + margin.left + margin.right)\n",
      "    .attr(\"height\", height\n",
      "          + margin.top + margin.bottom)\n",
      "    .append(\"g\")\n",
      "    .attr(\"transform\",\n",
      "      \"translate(\" + margin.left + \",\"\n",
      "         + margin.top + \")\");\n",
      "\n",
      "var year = 2000;\n",
      "\n",
      "var xScale = d3.scale.log()\n",
      "               .domain([300, 1e5])\n",
      "               .range([0, width]),\n",
      "    yScale = d3.scale.linear()\n",
      "               .domain([10, 85])\n",
      "               .range([height, 0]),\n",
      "    radiusScale = d3.scale.sqrt()\n",
      "                    .domain([0, 5e8])\n",
      "                    .range([0, 40]),\n",
      "    colorScale = d3.scale.category10();\n",
      "\n",
      "var dot = svg.selectAll(\".dot\")\n",
      "    .data(nations)\n",
      "    .enter()\n",
      "    .append(\"circle\")\n",
      "    .attr(\"class\", \"dot\")\n",
      "    .style(\"fill\", function(d) {\n",
      "      return colorScale(d.region); })\n",
      "    .call(position);\n",
      "    \n",
      "function position(dot) {\n",
      "    dot .attr(\"r\", function(d) {\n",
      "          return radiusScale(\n",
      "            d.population[year]); })\n",
      "        .attr(\"cx\", function(d) {\n",
      "          return xScale(\n",
      "            d.income[year]); })\n",
      "        .attr(\"cy\", function(d) {\n",
      "          return yScale(\n",
      "            d.lifeExpectancy[year]); });\n",
      "}\n",
      "\n",
      "</script>\n"
     ],
     "language": "python",
     "metadata": {
      "slideshow": {
       "slide_type": "skip"
      }
     },
     "outputs": [
      {
       "output_type": "stream",
       "stream": "stdout",
       "text": [
        "Overwriting html/01_bubble/01_bubble_05.html\n"
       ]
      }
     ],
     "prompt_number": 240
    },
    {
     "cell_type": "markdown",
     "metadata": {
      "slideshow": {
       "slide_type": "slide"
      }
     },
     "source": [
      "## Now add axes\n",
      "\n",
      "    \n",
      "    .axis path, .axis line {\n",
      "      fill: none;\n",
      "      stroke: #000;\n",
      "      shape-rendering: crispEdges;\n",
      "    }\n",
      "    \n",
      "    ...\n",
      "    \n",
      "    \n",
      "    // The x & y axes.\n",
      "    var xAxis = d3.svg.axis()\n",
      "                  .orient(\"bottom\").scale(xScale)\n",
      "                  .ticks(12, d3.format(\",d\")),\n",
      "        yAxis = d3.svg.axis()\n",
      "                  .scale(yScale).orient(\"left\");\n",
      "    \n",
      "    // Add the x-axis.\n",
      "    svg.append(\"g\")\n",
      "        .attr(\"class\", \"x axis\")\n",
      "        .attr(\"transform\", \"translate(0,\" + height + \")\")\n",
      "        .call(xAxis);\n",
      "    \n",
      "    // Add the y-axis.\n",
      "    svg.append(\"g\")\n",
      "        .attr(\"class\", \"y axis\")\n",
      "        .call(yAxis);\n",
      "\n",
      "        \n",
      "[show results](/files/html/01_bubble/01_bubble_06.html) "
     ]
    },
    {
     "cell_type": "code",
     "collapsed": false,
     "input": [
      "%%file html/01_bubble/01_bubble_06.html\n",
      "\n",
      "<!DOCTYPE html>\n",
      "<meta charset=\"utf-8\">\n",
      "\n",
      "<style>\n",
      "/* css goes here */\n",
      ".dot {\n",
      "  stroke: black;\n",
      "  stroke-width: 1;\n",
      "  opacity: .5;\n",
      "}\n",
      "\n",
      ".axis path, .axis line {\n",
      "  fill: none;\n",
      "  stroke: #000;\n",
      "  shape-rendering: crispEdges;\n",
      "}\n",
      "\n",
      "</style>\n",
      "\n",
      "<body>\n",
      "\n",
      "<p>HTML goes here.</p>\n",
      "\n",
      "<script src=\"../d3.v3.js\"></script>\n",
      "<script src=\"nations.js\"></script>\n",
      "\n",
      "<script>\n",
      "// javascript goes here\n",
      "var margin = {top: 10, right: 10,\n",
      "              bottom: 20, left: 40},\n",
      "    width = 960 - margin.left\n",
      "            - margin.right,\n",
      "    height = 500 - margin.top\n",
      "            - margin.bottom;\n",
      "\n",
      "var svg = d3.select(\"body\").append(\"svg\")\n",
      "    .attr(\"width\", width\n",
      "          + margin.left + margin.right)\n",
      "    .attr(\"height\", height\n",
      "          + margin.top + margin.bottom)\n",
      "    .append(\"g\")\n",
      "    .attr(\"transform\",\n",
      "      \"translate(\" + margin.left + \",\"\n",
      "         + margin.top + \")\");\n",
      "\n",
      "var year = 2000;\n",
      "\n",
      "var xScale = d3.scale.log()\n",
      "               .domain([300, 1e5])\n",
      "               .range([0, width]),\n",
      "    yScale = d3.scale.linear()\n",
      "               .domain([10, 85])\n",
      "               .range([height, 0]),\n",
      "    radiusScale = d3.scale.sqrt()\n",
      "                    .domain([0, 5e8])\n",
      "                    .range([0, 40]),\n",
      "    colorScale = d3.scale.category10();\n",
      "\n",
      "var dot = svg.selectAll(\".dot\")\n",
      "    .data(nations)\n",
      "    .enter()\n",
      "    .append(\"circle\")\n",
      "    .attr(\"class\", \"dot\")\n",
      "    .style(\"fill\", function(d) {\n",
      "      return colorScale(d.region); })\n",
      "    .call(position);\n",
      "    \n",
      "function position(dot) {\n",
      "    dot .attr(\"r\", function(d) {\n",
      "          return radiusScale(\n",
      "            d.population[year]); })\n",
      "        .attr(\"cx\", function(d) {\n",
      "          return xScale(\n",
      "            d.income[year]); })\n",
      "        .attr(\"cy\", function(d) {\n",
      "          return yScale(\n",
      "            d.lifeExpectancy[year]); });\n",
      "}\n",
      "\n",
      "// The x & y axes.\n",
      "var xAxis = d3.svg.axis()\n",
      "              .orient(\"bottom\").scale(xScale)\n",
      "              .ticks(12, d3.format(\",d\")),\n",
      "    yAxis = d3.svg.axis()\n",
      "              .scale(yScale).orient(\"left\");\n",
      "\n",
      "// Add the x-axis.\n",
      "svg.append(\"g\")\n",
      "    .attr(\"class\", \"x axis\")\n",
      "    .attr(\"transform\", \"translate(0,\" + height + \")\")\n",
      "    .call(xAxis);\n",
      "\n",
      "// Add the y-axis.\n",
      "svg.append(\"g\")\n",
      "    .attr(\"class\", \"y axis\")\n",
      "    .call(yAxis);\n",
      "\n",
      "</script>\n"
     ],
     "language": "python",
     "metadata": {
      "slideshow": {
       "slide_type": "skip"
      }
     },
     "outputs": [
      {
       "output_type": "stream",
       "stream": "stdout",
       "text": [
        "Overwriting html/01_bubble/01_bubble_06.html\n"
       ]
      }
     ],
     "prompt_number": 241
    },
    {
     "cell_type": "markdown",
     "metadata": {
      "slideshow": {
       "slide_type": "slide"
      }
     },
     "source": [
      "## And axes labels...\n",
      "\n",
      "    // Add an x-axis label.\n",
      "    svg.append(\"text\")\n",
      "        .attr(\"class\", \"x label\")\n",
      "        .attr(\"text-anchor\", \"end\")\n",
      "        .attr(\"x\", width)\n",
      "        .attr(\"y\", height - 6)\n",
      "        .text(\"income per capita, inflation-adjusted (dollars)\");\n",
      "    \n",
      "    // Add a y-axis label.\n",
      "    svg.append(\"text\")\n",
      "        .attr(\"class\", \"y label\")\n",
      "        .attr(\"text-anchor\", \"end\")\n",
      "        .attr(\"y\", 6)\n",
      "        .attr(\"dy\", \".75em\")\n",
      "        .attr(\"transform\", \"rotate(-90)\")\n",
      "        .text(\"life expectancy (years)\");\n",
      "        \n",
      "    // Add the year label; the value is set on transition.\n",
      "    var label = svg.append(\"text\")\n",
      "        .attr(\"class\", \"year label\")\n",
      "        .attr(\"text-anchor\", \"end\")\n",
      "        .attr(\"y\", height - 24)\n",
      "        .attr(\"x\", width)\n",
      "        .text(year);\n",
      "\n",
      "[show results](/files/html/01_bubble/01_bubble_07.html) "
     ]
    },
    {
     "cell_type": "code",
     "collapsed": false,
     "input": [
      "%%file html/01_bubble/01_bubble_07.html\n",
      "\n",
      "<!DOCTYPE html>\n",
      "<meta charset=\"utf-8\">\n",
      "\n",
      "<style>\n",
      "/* css goes here */\n",
      ".dot {\n",
      "  stroke: black;\n",
      "  stroke-width: 1;\n",
      "  opacity: .5;\n",
      "}\n",
      "\n",
      ".axis path, .axis line {\n",
      "  fill: none;\n",
      "  stroke: #000;\n",
      "  shape-rendering: crispEdges;\n",
      "}\n",
      "\n",
      "</style>\n",
      "\n",
      "<body>\n",
      "\n",
      "<p>HTML goes here.</p>\n",
      "\n",
      "<script src=\"../d3.v3.js\"></script>\n",
      "<script src=\"nations.js\"></script>\n",
      "\n",
      "<script>\n",
      "// javascript goes here\n",
      "var margin = {top: 10, right: 10,\n",
      "              bottom: 20, left: 40},\n",
      "    width = 960 - margin.left\n",
      "            - margin.right,\n",
      "    height = 500 - margin.top\n",
      "            - margin.bottom;\n",
      "\n",
      "var svg = d3.select(\"body\").append(\"svg\")\n",
      "    .attr(\"width\", width\n",
      "          + margin.left + margin.right)\n",
      "    .attr(\"height\", height\n",
      "          + margin.top + margin.bottom)\n",
      "    .append(\"g\")\n",
      "    .attr(\"transform\",\n",
      "      \"translate(\" + margin.left + \",\"\n",
      "         + margin.top + \")\");\n",
      "\n",
      "var year = 2000;\n",
      "\n",
      "var xScale = d3.scale.log()\n",
      "               .domain([300, 1e5])\n",
      "               .range([0, width]),\n",
      "    yScale = d3.scale.linear()\n",
      "               .domain([10, 85])\n",
      "               .range([height, 0]),\n",
      "    radiusScale = d3.scale.sqrt()\n",
      "                    .domain([0, 5e8])\n",
      "                    .range([0, 40]),\n",
      "    colorScale = d3.scale.category10();\n",
      "\n",
      "var dot = svg.selectAll(\".dot\")\n",
      "    .data(nations)\n",
      "    .enter()\n",
      "    .append(\"circle\")\n",
      "    .attr(\"class\", \"dot\")\n",
      "    .style(\"fill\", function(d) {\n",
      "      return colorScale(d.region); })\n",
      "    .call(position);\n",
      "    \n",
      "function position(dot) {\n",
      "    dot .attr(\"r\", function(d) {\n",
      "          return radiusScale(\n",
      "            d.population[year]); })\n",
      "        .attr(\"cx\", function(d) {\n",
      "          return xScale(\n",
      "            d.income[year]); })\n",
      "        .attr(\"cy\", function(d) {\n",
      "          return yScale(\n",
      "            d.lifeExpectancy[year]); });\n",
      "}\n",
      "\n",
      "// The x & y axes.\n",
      "var xAxis = d3.svg.axis()\n",
      "              .orient(\"bottom\").scale(xScale)\n",
      "              .ticks(12, d3.format(\",d\")),\n",
      "    yAxis = d3.svg.axis()\n",
      "              .scale(yScale).orient(\"left\");\n",
      "\n",
      "// Add the x-axis.\n",
      "svg.append(\"g\")\n",
      "    .attr(\"class\", \"x axis\")\n",
      "    .attr(\"transform\", \"translate(0,\" + height + \")\")\n",
      "    .call(xAxis);\n",
      "\n",
      "// Add the y-axis.\n",
      "svg.append(\"g\")\n",
      "    .attr(\"class\", \"y axis\")\n",
      "    .call(yAxis);\n",
      "\n",
      "// Add an x-axis label.\n",
      "svg.append(\"text\")\n",
      "    .attr(\"class\", \"x label\")\n",
      "    .attr(\"text-anchor\", \"end\")\n",
      "    .attr(\"x\", width)\n",
      "    .attr(\"y\", height - 6)\n",
      "    .text(\"income per capita, inflation-adjusted (dollars)\");\n",
      "\n",
      "// Add a y-axis label.\n",
      "svg.append(\"text\")\n",
      "    .attr(\"class\", \"y label\")\n",
      "    .attr(\"text-anchor\", \"end\")\n",
      "    .attr(\"y\", 6)\n",
      "    .attr(\"dy\", \".75em\")\n",
      "    .attr(\"transform\", \"rotate(-90)\")\n",
      "    .text(\"life expectancy (years)\");\n",
      "\n",
      "// Add the year label; the value is set on transition.\n",
      "var label = svg.append(\"text\")\n",
      "    .attr(\"class\", \"year label\")\n",
      "    .attr(\"text-anchor\", \"end\")\n",
      "    .attr(\"y\", height - 24)\n",
      "    .attr(\"x\", width)\n",
      "    .text(year);\n",
      "\n",
      "</script>\n"
     ],
     "language": "python",
     "metadata": {
      "slideshow": {
       "slide_type": "skip"
      }
     },
     "outputs": [
      {
       "output_type": "stream",
       "stream": "stdout",
       "text": [
        "Overwriting html/01_bubble/01_bubble_07.html\n"
       ]
      }
     ],
     "prompt_number": 242
    },
    {
     "cell_type": "markdown",
     "metadata": {
      "slideshow": {
       "slide_type": "slide"
      }
     },
     "source": [
      "## And that has been quite a lot, but we really should put in some interaction... This is *interactive* data viz for global health, after all.\n",
      "\n",
      "    <script src=\"keybinding.js\"></script>\n",
      "    ...\n",
      "    d3.select('body').call(d3.keybinding()\n",
      "        .on('\u2190', change_year(-5))\n",
      "        .on('\u2192', change_year(5)));\n",
      "    \n",
      "    function change_year(delta) {\n",
      "        return function(event) {        \n",
      "            year = Math.max(1990,\n",
      "                    Math.min(2005,\n",
      "                      year+delta));\n",
      "            dot.transition().call(position);\n",
      "            label.text(year);\n",
      "        };\n",
      "    }\n",
      "\n",
      "[show results](/files/html/01_bubble/01_bubble_08.html) "
     ]
    },
    {
     "cell_type": "code",
     "collapsed": false,
     "input": [
      "%%file html/01_bubble/01_bubble_08.html\n",
      "\n",
      "<!DOCTYPE html>\n",
      "<meta charset=\"utf-8\">\n",
      "\n",
      "<style>\n",
      "/* css goes here */\n",
      ".dot {\n",
      "  stroke: black;\n",
      "  stroke-width: 1;\n",
      "  opacity: .5;\n",
      "}\n",
      "\n",
      ".axis path, .axis line {\n",
      "  fill: none;\n",
      "  stroke: #000;\n",
      "  shape-rendering: crispEdges;\n",
      "}\n",
      "\n",
      "</style>\n",
      "\n",
      "<body>\n",
      "\n",
      "<p>HTML goes here.</p>\n",
      "\n",
      "<script src=\"../d3.v3.js\"></script>\n",
      "<script src=\"nations.js\"></script>\n",
      "<script src=\"keybinding.js\"></script>\n",
      "\n",
      "\n",
      "<script>\n",
      "// javascript goes here\n",
      "var margin = {top: 10, right: 10,\n",
      "              bottom: 20, left: 40},\n",
      "    width = 960 - margin.left\n",
      "            - margin.right,\n",
      "    height = 500 - margin.top\n",
      "            - margin.bottom;\n",
      "\n",
      "var svg = d3.select(\"body\").append(\"svg\")\n",
      "    .attr(\"width\", width\n",
      "          + margin.left + margin.right)\n",
      "    .attr(\"height\", height\n",
      "          + margin.top + margin.bottom)\n",
      "    .append(\"g\")\n",
      "    .attr(\"transform\",\n",
      "      \"translate(\" + margin.left + \",\"\n",
      "         + margin.top + \")\");\n",
      "\n",
      "var year = 2000;\n",
      "\n",
      "var xScale = d3.scale.log()\n",
      "               .domain([300, 1e5])\n",
      "               .range([0, width]),\n",
      "    yScale = d3.scale.linear()\n",
      "               .domain([10, 85])\n",
      "               .range([height, 0]),\n",
      "    radiusScale = d3.scale.sqrt()\n",
      "                    .domain([0, 5e8])\n",
      "                    .range([0, 40]),\n",
      "    colorScale = d3.scale.category10();\n",
      "\n",
      "var dot = svg.selectAll(\".dot\")\n",
      "    .data(nations)\n",
      "    .enter()\n",
      "    .append(\"circle\")\n",
      "    .attr(\"class\", \"dot\")\n",
      "    .style(\"fill\", function(d) {\n",
      "      return colorScale(d.region); })\n",
      "    .call(position);\n",
      "    \n",
      "function position(dot) {\n",
      "    dot .attr(\"r\", function(d) {\n",
      "          return radiusScale(\n",
      "            d.population[year]); })\n",
      "        .attr(\"cx\", function(d) {\n",
      "          return xScale(\n",
      "            d.income[year]); })\n",
      "        .attr(\"cy\", function(d) {\n",
      "          return yScale(\n",
      "            d.lifeExpectancy[year]); });\n",
      "}\n",
      "\n",
      "// The x & y axes.\n",
      "var xAxis = d3.svg.axis()\n",
      "              .orient(\"bottom\").scale(xScale)\n",
      "              .ticks(12, d3.format(\",d\")),\n",
      "    yAxis = d3.svg.axis()\n",
      "              .scale(yScale).orient(\"left\");\n",
      "\n",
      "// Add the x-axis.\n",
      "svg.append(\"g\")\n",
      "    .attr(\"class\", \"x axis\")\n",
      "    .attr(\"transform\", \"translate(0,\" + height + \")\")\n",
      "    .call(xAxis);\n",
      "\n",
      "// Add the y-axis.\n",
      "svg.append(\"g\")\n",
      "    .attr(\"class\", \"y axis\")\n",
      "    .call(yAxis);\n",
      "\n",
      "// Add an x-axis label.\n",
      "svg.append(\"text\")\n",
      "    .attr(\"class\", \"x label\")\n",
      "    .attr(\"text-anchor\", \"end\")\n",
      "    .attr(\"x\", width)\n",
      "    .attr(\"y\", height - 6)\n",
      "    .text(\"income per capita, inflation-adjusted (dollars)\");\n",
      "\n",
      "// Add a y-axis label.\n",
      "svg.append(\"text\")\n",
      "    .attr(\"class\", \"y label\")\n",
      "    .attr(\"text-anchor\", \"end\")\n",
      "    .attr(\"y\", 6)\n",
      "    .attr(\"dy\", \".75em\")\n",
      "    .attr(\"transform\", \"rotate(-90)\")\n",
      "    .text(\"life expectancy (years)\");\n",
      "\n",
      "// Add the year label; the value is set on transition.\n",
      "var label = svg.append(\"text\")\n",
      "    .attr(\"class\", \"year label\")\n",
      "    .attr(\"text-anchor\", \"end\")\n",
      "    .attr(\"y\", height - 24)\n",
      "    .attr(\"x\", width)\n",
      "    .text(year);\n",
      "\n",
      "d3.select('body').call(d3.keybinding()\n",
      "    .on('\u2190', change_year(-5))\n",
      "    .on('\u2192', change_year(5)));\n",
      "\n",
      "function change_year(delta) {\n",
      "    return function(event) {        \n",
      "        year = Math.max(1990, Math.min(2005, year+delta));\n",
      "        dot.transition().call(position);\n",
      "        label.text(year);\n",
      "    };\n",
      "}\n",
      "</script>\n"
     ],
     "language": "python",
     "metadata": {
      "slideshow": {
       "slide_type": "skip"
      }
     },
     "outputs": [
      {
       "output_type": "stream",
       "stream": "stdout",
       "text": [
        "Overwriting html/01_bubble/01_bubble_08.html\n"
       ]
      }
     ],
     "prompt_number": 243
    },
    {
     "cell_type": "markdown",
     "metadata": {
      "slideshow": {
       "slide_type": "skip"
      }
     },
     "source": [
      "## Change order of elements\n",
      "\n",
      "\n",
      "    var dot = svg.selectAll(\".dot\")\n",
      "    ... \n",
      "\n",
      "\n",
      "[show results](/files/html/01_bubble/01_bubble_08b.html) "
     ]
    },
    {
     "cell_type": "code",
     "collapsed": false,
     "input": [
      "%%file html/01_bubble/01_bubble_08b.html\n",
      "\n",
      "<!DOCTYPE html>\n",
      "<meta charset=\"utf-8\">\n",
      "\n",
      "<style>\n",
      "/* css goes here */\n",
      ".dot {\n",
      "  stroke: black;\n",
      "  stroke-width: 1;\n",
      "  opacity: .5;\n",
      "}\n",
      "\n",
      ".axis path, .axis line {\n",
      "  fill: none;\n",
      "  stroke: #000;\n",
      "  shape-rendering: crispEdges;\n",
      "}\n",
      "\n",
      "</style>\n",
      "\n",
      "<body>\n",
      "\n",
      "<p>HTML goes here.</p>\n",
      "\n",
      "<script src=\"../d3.v3.js\"></script>\n",
      "<script src=\"nations.js\"></script>\n",
      "<script src=\"keybinding.js\"></script>\n",
      "\n",
      "\n",
      "<script>\n",
      "// javascript goes here\n",
      "var margin = {top: 10, right: 10,\n",
      "              bottom: 20, left: 40},\n",
      "    width = 960 - margin.left\n",
      "            - margin.right,\n",
      "    height = 500 - margin.top\n",
      "            - margin.bottom;\n",
      "\n",
      "var svg = d3.select(\"body\").append(\"svg\")\n",
      "    .attr(\"width\", width\n",
      "          + margin.left + margin.right)\n",
      "    .attr(\"height\", height\n",
      "          + margin.top + margin.bottom)\n",
      "    .append(\"g\")\n",
      "    .attr(\"transform\",\n",
      "      \"translate(\" + margin.left + \",\"\n",
      "         + margin.top + \")\");\n",
      "\n",
      "var year = 2000;\n",
      "\n",
      "var xScale = d3.scale.log()\n",
      "               .domain([300, 1e5])\n",
      "               .range([0, width]),\n",
      "    yScale = d3.scale.linear()\n",
      "               .domain([10, 85])\n",
      "               .range([height, 0]),\n",
      "    radiusScale = d3.scale.sqrt()\n",
      "                    .domain([0, 5e8])\n",
      "                    .range([0, 40]),\n",
      "    colorScale = d3.scale.category10();\n",
      "    \n",
      "function position(dot) {\n",
      "    dot .attr(\"r\", function(d) {\n",
      "          return radiusScale(\n",
      "            d.population[year]); })\n",
      "        .attr(\"cx\", function(d) {\n",
      "          return xScale(\n",
      "            d.income[year]); })\n",
      "        .attr(\"cy\", function(d) {\n",
      "          return yScale(\n",
      "            d.lifeExpectancy[year]); });\n",
      "}\n",
      "\n",
      "// The x & y axes.\n",
      "var xAxis = d3.svg.axis()\n",
      "              .orient(\"bottom\").scale(xScale)\n",
      "              .ticks(12, d3.format(\",d\")),\n",
      "    yAxis = d3.svg.axis()\n",
      "              .scale(yScale).orient(\"left\");\n",
      "\n",
      "// Add the x-axis.\n",
      "svg.append(\"g\")\n",
      "    .attr(\"class\", \"x axis\")\n",
      "    .attr(\"transform\", \"translate(0,\" + height + \")\")\n",
      "    .call(xAxis);\n",
      "\n",
      "// Add the y-axis.\n",
      "svg.append(\"g\")\n",
      "    .attr(\"class\", \"y axis\")\n",
      "    .call(yAxis);\n",
      "\n",
      "// Add an x-axis label.\n",
      "svg.append(\"text\")\n",
      "    .attr(\"class\", \"x label\")\n",
      "    .attr(\"text-anchor\", \"end\")\n",
      "    .attr(\"x\", width)\n",
      "    .attr(\"y\", height - 6)\n",
      "    .text(\"income per capita, inflation-adjusted (dollars)\");\n",
      "\n",
      "// Add a y-axis label.\n",
      "svg.append(\"text\")\n",
      "    .attr(\"class\", \"y label\")\n",
      "    .attr(\"text-anchor\", \"end\")\n",
      "    .attr(\"y\", 6)\n",
      "    .attr(\"dy\", \".75em\")\n",
      "    .attr(\"transform\", \"rotate(-90)\")\n",
      "    .text(\"life expectancy (years)\");\n",
      "\n",
      "// Add the year label; the value is set on transition.\n",
      "var label = svg.append(\"text\")\n",
      "    .attr(\"class\", \"year label\")\n",
      "    .attr(\"text-anchor\", \"end\")\n",
      "    .attr(\"y\", height - 24)\n",
      "    .attr(\"x\", width)\n",
      "    .text(year);\n",
      "\n",
      "d3.select('body').call(d3.keybinding()\n",
      "    .on('\u2190', change_year(-5))\n",
      "    .on('\u2192', change_year(5)));\n",
      "\n",
      "function change_year(delta) {\n",
      "    return function(event) {        \n",
      "        year = Math.max(1990, Math.min(2005, year+delta));\n",
      "        dot.transition().call(position);\n",
      "        label.text(year);\n",
      "    };\n",
      "}\n",
      "\n",
      "var dot = svg.selectAll(\".dot\")\n",
      "    .data(nations)\n",
      "    .enter()\n",
      "    .append(\"circle\")\n",
      "    .attr(\"class\", \"dot\")\n",
      "    .style(\"fill\", function(d) {\n",
      "      return colorScale(d.region); })\n",
      "    .call(position);\n",
      "\n",
      "</script>\n"
     ],
     "language": "python",
     "metadata": {
      "slideshow": {
       "slide_type": "skip"
      }
     },
     "outputs": [
      {
       "output_type": "stream",
       "stream": "stdout",
       "text": [
        "Overwriting html/01_bubble/01_bubble_08b.html\n"
       ]
      }
     ],
     "prompt_number": 244
    },
    {
     "cell_type": "markdown",
     "metadata": {
      "slideshow": {
       "slide_type": "slide"
      }
     },
     "source": [
      "## What country is that?\n",
      "\n",
      "    dot .append(\"title\")\n",
      "        .text(function(d) { return d.name; });\n",
      "\n",
      "\n",
      "[show results](/files/html/01_bubble/01_bubble_09.html) "
     ]
    },
    {
     "cell_type": "code",
     "collapsed": false,
     "input": [
      "%%file html/01_bubble/01_bubble_09.html\n",
      "\n",
      "<!DOCTYPE html>\n",
      "<meta charset=\"utf-8\">\n",
      "\n",
      "<style>\n",
      "/* css goes here */\n",
      ".dot {\n",
      "  stroke: black;\n",
      "  stroke-width: 1;\n",
      "  opacity: .5;\n",
      "}\n",
      "\n",
      ".axis path, .axis line {\n",
      "  fill: none;\n",
      "  stroke: #000;\n",
      "  shape-rendering: crispEdges;\n",
      "}\n",
      "\n",
      "</style>\n",
      "\n",
      "<body>\n",
      "\n",
      "<p>HTML goes here.</p>\n",
      "\n",
      "<script src=\"../d3.v3.js\"></script>\n",
      "<script src=\"nations.js\"></script>\n",
      "<script src=\"keybinding.js\"></script>\n",
      "\n",
      "\n",
      "<script>\n",
      "// javascript goes here\n",
      "var margin = {top: 10, right: 10,\n",
      "              bottom: 20, left: 40},\n",
      "    width = 960 - margin.left\n",
      "            - margin.right,\n",
      "    height = 500 - margin.top\n",
      "            - margin.bottom;\n",
      "\n",
      "var svg = d3.select(\"body\").append(\"svg\")\n",
      "    .attr(\"width\", width\n",
      "          + margin.left + margin.right)\n",
      "    .attr(\"height\", height\n",
      "          + margin.top + margin.bottom)\n",
      "    .append(\"g\")\n",
      "    .attr(\"transform\",\n",
      "      \"translate(\" + margin.left + \",\"\n",
      "         + margin.top + \")\");\n",
      "\n",
      "var year = 2000;\n",
      "\n",
      "var xScale = d3.scale.log()\n",
      "               .domain([300, 1e5])\n",
      "               .range([0, width]),\n",
      "    yScale = d3.scale.linear()\n",
      "               .domain([10, 85])\n",
      "               .range([height, 0]),\n",
      "    radiusScale = d3.scale.sqrt()\n",
      "                    .domain([0, 5e8])\n",
      "                    .range([0, 40]),\n",
      "    colorScale = d3.scale.category10();\n",
      "    \n",
      "function position(dot) {\n",
      "    dot .attr(\"r\", function(d) {\n",
      "          return radiusScale(\n",
      "            d.population[year]); })\n",
      "        .attr(\"cx\", function(d) {\n",
      "          return xScale(\n",
      "            d.income[year]); })\n",
      "        .attr(\"cy\", function(d) {\n",
      "          return yScale(\n",
      "            d.lifeExpectancy[year]); });\n",
      "}\n",
      "\n",
      "// The x & y axes.\n",
      "var xAxis = d3.svg.axis()\n",
      "              .orient(\"bottom\").scale(xScale)\n",
      "              .ticks(12, d3.format(\",d\")),\n",
      "    yAxis = d3.svg.axis()\n",
      "              .scale(yScale).orient(\"left\");\n",
      "\n",
      "// Add the x-axis.\n",
      "svg.append(\"g\")\n",
      "    .attr(\"class\", \"x axis\")\n",
      "    .attr(\"transform\", \"translate(0,\" + height + \")\")\n",
      "    .call(xAxis);\n",
      "\n",
      "// Add the y-axis.\n",
      "svg.append(\"g\")\n",
      "    .attr(\"class\", \"y axis\")\n",
      "    .call(yAxis);\n",
      "\n",
      "// Add an x-axis label.\n",
      "svg.append(\"text\")\n",
      "    .attr(\"class\", \"x label\")\n",
      "    .attr(\"text-anchor\", \"end\")\n",
      "    .attr(\"x\", width)\n",
      "    .attr(\"y\", height - 6)\n",
      "    .text(\"income per capita, inflation-adjusted (dollars)\");\n",
      "\n",
      "// Add a y-axis label.\n",
      "svg.append(\"text\")\n",
      "    .attr(\"class\", \"y label\")\n",
      "    .attr(\"text-anchor\", \"end\")\n",
      "    .attr(\"y\", 6)\n",
      "    .attr(\"dy\", \".75em\")\n",
      "    .attr(\"transform\", \"rotate(-90)\")\n",
      "    .text(\"life expectancy (years)\");\n",
      "\n",
      "// Add the year label; the value is set on transition.\n",
      "var label = svg.append(\"text\")\n",
      "    .attr(\"class\", \"year label\")\n",
      "    .attr(\"text-anchor\", \"end\")\n",
      "    .attr(\"y\", height - 24)\n",
      "    .attr(\"x\", width)\n",
      "    .text(year);\n",
      "\n",
      "d3.select('body').call(d3.keybinding()\n",
      "    .on('\u2190', change_year(-5))\n",
      "    .on('\u2192', change_year(5)));\n",
      "\n",
      "function change_year(delta) {\n",
      "    return function(event) {        \n",
      "        year = Math.max(1990, Math.min(2005, year+delta));\n",
      "        dot.transition().call(position);\n",
      "        label.text(year);\n",
      "    };\n",
      "}\n",
      "\n",
      "var dot = svg.selectAll(\".dot\")\n",
      "    .data(nations)\n",
      "    .enter()\n",
      "    .append(\"circle\")\n",
      "    .attr(\"class\", \"dot\")\n",
      "    .style(\"fill\", function(d) {\n",
      "      return colorScale(d.region); })\n",
      "    .call(position);\n",
      "\n",
      "// Add a title.\n",
      "dot .append(\"title\")\n",
      "   .text(function(d) { return d.name; });\n",
      "\n",
      "</script>\n"
     ],
     "language": "python",
     "metadata": {
      "slideshow": {
       "slide_type": "skip"
      }
     },
     "outputs": [
      {
       "output_type": "stream",
       "stream": "stdout",
       "text": [
        "Overwriting html/01_bubble/01_bubble_09.html\n"
       ]
      }
     ],
     "prompt_number": 247
    },
    {
     "cell_type": "markdown",
     "metadata": {
      "slideshow": {
       "slide_type": "slide"
      }
     },
     "source": [
      "## Tomorrow, less and more slowly\n",
      "\n",
      "## But you'll get to do it"
     ]
    },
    {
     "cell_type": "code",
     "collapsed": false,
     "input": [
      "!cp /homes/abie/notebook/2013_07_04_IDV4GH_Exercise_01_Bubble_chart.ipynb /homes/abie/nbconvert/E1.ipynb\n",
      "!cd /homes/abie/nbconvert/; ./nbconvert.py --format reveal E1.ipynb\n",
      "!cp /homes/abie/nbconvert/E1* /home/j/Project/Models/IDV4GH/exercises\n",
      "!cp -r /homes/abie/notebook/html/01_bubble/ /home/j/Project/Models/IDV4GH/exercises/html/01_bubble"
     ],
     "language": "python",
     "metadata": {
      "slideshow": {
       "slide_type": "skip"
      }
     },
     "outputs": [
      {
       "output_type": "stream",
       "stream": "stdout",
       "text": [
        "\r\n",
        "======================================================\r\n",
        "Warning, we are deprecating this version of nbconvert,\r\n",
        "please consider using the new version.\r\n",
        "======================================================\r\n",
        "    \r\n"
       ]
      }
     ],
     "prompt_number": 253
    },
    {
     "cell_type": "code",
     "collapsed": false,
     "input": [
      "import ipynb_style\n",
      "ipynb_style.presentation()"
     ],
     "language": "python",
     "metadata": {
      "slideshow": {
       "slide_type": "skip"
      }
     },
     "outputs": [
      {
       "html": [
        "\n",
        "<style type=\"text/css\">\n",
        "div.input {\n",
        "width: 1024px; /* about 80 chars + buffer */\n",
        "}\n",
        "\n",
        "div.text_cell {\n",
        "width: 1024px /* instead of 100%, */\n",
        "}\n",
        "\n",
        "div.text_cell_render {\n",
        "/*font-family: \"Helvetica Neue\", Arial, Helvetica, Geneva, sans-serif;*/\n",
        "font-family: \"Charis SIL\", serif; /* Make non-code text serif. */\n",
        "line-height: 145%; /* added for some line spacing of text. */\n",
        "font-size: 28pt;\n",
        "}\n",
        "\n",
        "/* Set the size of the headers */\n",
        "div.text_cell_render h1 {\n",
        "font-size: 36pt;\n",
        "}\n",
        "\n",
        "div.text_cell_render h2 {\n",
        "font-size: 32pt;\n",
        "}\n",
        "\n",
        "div.text_cell_render li {\n",
        "line-height: 1.2em;\n",
        "}\n",
        "\n",
        "div.text_cell_render p {\n",
        "font-size: 14pt;\n",
        "line-height: 1em;\n",
        "}\n",
        "\n",
        ".CodeMirror {\n",
        "font-size: 14pt;\n",
        " font-family: Consolas, monospace;\n",
        " }\n",
        "\n",
        ".rendered_html ol {list-style:decimal; margin: 1em 2em;}\n",
        "\n",
        "</style>\n"
       ],
       "output_type": "pyout",
       "prompt_number": 203,
       "text": [
        "<IPython.core.display.HTML at 0x4939450>"
       ]
      }
     ],
     "prompt_number": 203
    },
    {
     "cell_type": "markdown",
     "metadata": {},
     "source": [
      "Much of this approach is based on Mike Bostock's [replication of Gap Minder](http://bost.ocks.org/mike/nations/)"
     ]
    },
    {
     "cell_type": "code",
     "collapsed": false,
     "input": [],
     "language": "python",
     "metadata": {},
     "outputs": []
    }
   ],
   "metadata": {}
  }
 ]
}