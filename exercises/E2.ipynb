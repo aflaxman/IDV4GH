{
 "metadata": {
  "name": "2013_07_04b_IDV4GH_Exercise_02_hello_world"
 },
 "nbformat": 3,
 "nbformat_minor": 0,
 "worksheets": [
  {
   "cells": [
    {
     "cell_type": "markdown",
     "metadata": {
      "slideshow": {
       "slide_type": "slide"
      }
     },
     "source": [
      "# IDV4GH Exercise 2\n",
      "\n",
      "## Hello, World of Statistical Graphics\n",
      "\n",
      "Based on [this Stack Exchange Thread](http://stats.stackexchange.com/questions/46897/is-there-a-hello-world-for-statistical-graphics)"
     ]
    },
    {
     "cell_type": "markdown",
     "metadata": {
      "slideshow": {
       "slide_type": "notes"
      }
     },
     "source": [
      "In computer programming, there is a classic first program for learning/teaching a new language or system, called [\"hello, world\"](http://en.wikipedia.org/wiki/Hello_world_program).\n",
      "\n",
      "For example, in IPython it might look like this:"
     ]
    },
    {
     "cell_type": "code",
     "collapsed": false,
     "input": [
      "print \"hello, world.\""
     ],
     "language": "python",
     "metadata": {
      "slideshow": {
       "slide_type": "notes"
      }
     },
     "outputs": [
      {
       "output_type": "stream",
       "stream": "stdout",
       "text": [
        "hello, world.\n"
       ]
      }
     ],
     "prompt_number": 31
    },
    {
     "cell_type": "markdown",
     "metadata": {
      "slideshow": {
       "slide_type": "notes"
      }
     },
     "source": [
      "This notebook will guide the student through the creation of the \"hello, world\" of statistical graphics using d3js."
     ]
    },
    {
     "cell_type": "code",
     "collapsed": false,
     "input": [
      "# In IPython, the following two lines suffice\n",
      "plot([3, 1, 4, 1, 5, 9], 'ko-', markersize=20, markeredgecolor='w')\n",
      "axis([-.15, 5.15, -.5, 9.5]);"
     ],
     "language": "python",
     "metadata": {
      "slideshow": {
       "slide_type": "slide"
      }
     },
     "outputs": [
      {
       "output_type": "display_data",
       "png": "[encoded data removed]",
       "text": [
        "<matplotlib.figure.Figure at 0x25a2050>"
       ]
      }
     ],
     "prompt_number": 32
    },
    {
     "cell_type": "markdown",
     "metadata": {
      "slideshow": {
       "slide_type": "slide"
      }
     },
     "source": [
      "## In d3, it will take more work"
     ]
    },
    {
     "cell_type": "markdown",
     "metadata": {
      "slideshow": {
       "slide_type": "subslide"
      }
     },
     "source": [
      "## But this work will make you strong"
     ]
    },
    {
     "cell_type": "markdown",
     "metadata": {
      "slideshow": {
       "slide_type": "subslide"
      }
     },
     "source": [
      "## That's why it's called *exercise*"
     ]
    },
    {
     "cell_type": "markdown",
     "metadata": {
      "slideshow": {
       "slide_type": "slide"
      }
     },
     "source": [
      "## Skeleton for IDV in d3js:\n",
      "\n",
      "    <!DOCTYPE html>\n",
      "    <meta charset=\"utf-8\">\n",
      "    \n",
      "    <style>\n",
      "    /* css goes here */\n",
      "    </style>\n",
      "    \n",
      "    <body>\n",
      "    <p>HTML goes here.</p>\n",
      "    \n",
      "    <script src=\"../d3.v3.js\"></script>\n",
      "    <script>\n",
      "    // javascript goes here\n",
      "    </script>\n",
      "\n",
      "[show results](/files/html/02_hello_world/02_hello_00.html)"
     ]
    },
    {
     "cell_type": "code",
     "collapsed": false,
     "input": [
      "%%file html/02_hello_world/02_hello_00.html\n",
      "\n",
      "<!DOCTYPE html>\n",
      "<meta charset=\"utf-8\">\n",
      "\n",
      "<style>\n",
      "/* css goes here */\n",
      "</style>\n",
      "\n",
      "<body>\n",
      "<p>hello, world (of statistical graphics).</p>\n",
      "\n",
      "<script src=\"../d3.v3.js\"></script>\n",
      "<script>\n",
      "// javascript goes here\n",
      "</script>\n"
     ],
     "language": "python",
     "metadata": {
      "slideshow": {
       "slide_type": "skip"
      }
     },
     "outputs": [
      {
       "output_type": "stream",
       "stream": "stdout",
       "text": [
        "Overwriting html/02_hello_world/02_hello_00.html\n"
       ]
      }
     ],
     "prompt_number": 50
    },
    {
     "cell_type": "markdown",
     "metadata": {
      "slideshow": {
       "slide_type": "slide"
      }
     },
     "source": [
      "## Where we are headed\n",
      "\n",
      "    // Resist the urge to peek...\n",
      "\n",
      "[show results](/files/html/02_hello_world/02_hello_01.html)"
     ]
    },
    {
     "cell_type": "code",
     "collapsed": false,
     "input": [
      "%%file html/02_hello_world/02_hello_01.html\n",
      "\n",
      "<!DOCTYPE html>\n",
      "<meta charset=\"utf-8\">\n",
      "\n",
      "<style>\n",
      ".axis path,\n",
      ".axis line {\n",
      "    fill: none;\n",
      "    stroke: black;\n",
      "    shape-rendering: crispEdges;\n",
      "}\n",
      "\n",
      ".axis text {\n",
      "    font-family: sans-serif;\n",
      "    font-size: 22px;\n",
      "}\n",
      "\n",
      ".line {\n",
      "    stroke-width: 2px;\n",
      "}\n",
      "\n",
      ".dot {\n",
      "  stroke: white;\n",
      "  stroke-width: 2;\n",
      "}\n",
      "</style>\n",
      "\n",
      "<body>\n",
      "<p>hello, world (of statistical graphics).</p>\n",
      "\n",
      "<script src=\"../d3.v3.js\"></script>\n",
      "<script>\n",
      "\n",
      "// Initialize data array\n",
      "var dataset = [3,1,4,1,5,9];\n",
      "\n",
      "// Add SVG that will hold figure\n",
      "var margin = {top: 20, right: 20,\n",
      "              bottom: 30, left: 50},\n",
      "    width = 960 - margin.left\n",
      "            - margin.right,\n",
      "    height = 500 - margin.top\n",
      "            - margin.bottom;\n",
      "\n",
      "var svg = d3.select(\"body\").append(\"svg\")\n",
      "    .attr(\"width\", width\n",
      "          + margin.left + margin.right)\n",
      "    .attr(\"height\", height\n",
      "          + margin.top + margin.bottom)\n",
      "    .append(\"g\")\n",
      "    .attr(\"transform\",\n",
      "      \"translate(\" + margin.left + \",\"\n",
      "         + margin.top + \")\");\n",
      "\n",
      "//Create scale functions\n",
      "var xScale = d3.scale.linear()\n",
      "                     .domain([0, d3.max(dataset, function(d,i) { return i; })])\n",
      "                     .range([20, width]);\n",
      "\n",
      "var yScale = d3.scale.linear()\n",
      "                     .domain([0, d3.max(dataset, function(d) { return d; })])\n",
      "                     .range([height-20, 0]);\n",
      "\n",
      "//Define X axis\n",
      "var xAxis = d3.svg.axis()\n",
      "                  .scale(xScale)\n",
      "                  .orient(\"bottom\")\n",
      "                  .ticks(5);\n",
      "svg.append(\"g\")\n",
      "    .attr(\"class\", \"axis\")\n",
      "    .attr(\"transform\", \"translate(0,\" + height + \")\")\n",
      "    .call(xAxis);\n",
      "\n",
      "//Define Y axis\n",
      "var yAxis = d3.svg.axis()\n",
      "                  .scale(yScale)\n",
      "                  .orient(\"left\")\n",
      "                  .ticks(10);\n",
      "svg.append(\"g\")\n",
      "    .attr(\"class\", \"axis\")\n",
      "    .call(yAxis);\n",
      "\n",
      "//Create line\n",
      "\n",
      "var line = d3.svg.line()\n",
      "\u00a0\u00a0\u00a0\u00a0.x(function(d,i) { return xScale(i); })\n",
      "\u00a0\u00a0\u00a0\u00a0.y(function(d) { return yScale(d); });\n",
      "\n",
      "svg .append(\"svg:path\")\n",
      "    .attr(\"class\", \"line\")\n",
      "    .attr(\"d\", line(dataset))\n",
      "    .attr(\"fill\", \"none\")\n",
      "    .attr(\"stroke\", \"black\");\n",
      "\n",
      "    \n",
      "//Create circles\n",
      "svg.selectAll(\"circle\")\n",
      "   .data(dataset)\n",
      "   .enter()\n",
      "   .append(\"circle\")\n",
      "   .attr(\"class\", \"dot\")\n",
      "   .attr(\"cx\", function(d,i) {\n",
      "        return xScale(i);\n",
      "   })\n",
      "   .attr(\"cy\", function(d) {\n",
      "        return yScale(d);\n",
      "   })\n",
      "   .attr(\"r\", 15);\n",
      "</script>"
     ],
     "language": "python",
     "metadata": {
      "slideshow": {
       "slide_type": "skip"
      }
     },
     "outputs": [
      {
       "output_type": "stream",
       "stream": "stdout",
       "text": [
        "Overwriting html/02_hello_world/02_hello_01.html\n"
       ]
      }
     ],
     "prompt_number": 51
    },
    {
     "cell_type": "markdown",
     "metadata": {
      "slideshow": {
       "slide_type": "slide"
      }
     },
     "source": [
      "## What first?"
     ]
    },
    {
     "cell_type": "markdown",
     "metadata": {
      "slideshow": {
       "slide_type": "subslide"
      }
     },
     "source": [
      "## Getting the data into the document, and making some dots\n"
     ]
    },
    {
     "cell_type": "markdown",
     "metadata": {
      "slideshow": {
       "slide_type": "subslide"
      }
     },
     "source": [
      "## First, the data\n",
      "\n",
      "    <script>\n",
      "    // Initialize data array\n",
      "    var dataset = [3,1,4,1,5,9];\n",
      "    </script>\n",
      "\n",
      "[show results](/files/html/02_hello_world/02_hello_02.html)"
     ]
    },
    {
     "cell_type": "code",
     "collapsed": false,
     "input": [
      "%%file html/02_hello_world/02_hello_02.html\n",
      "\n",
      "<!DOCTYPE html>\n",
      "<meta charset=\"utf-8\">\n",
      "\n",
      "<style>\n",
      "/* css goes here */\n",
      "</style>\n",
      "\n",
      "<body>\n",
      "<p>hello, world (of statistical graphics).</p>\n",
      "\n",
      "<script src=\"../d3.v3.js\"></script>\n",
      "<script>\n",
      "// Initialize data array\n",
      "var dataset = [3,1,4,1,5,9];\n",
      "</script>\n"
     ],
     "language": "python",
     "metadata": {
      "slideshow": {
       "slide_type": "skip"
      }
     },
     "outputs": [
      {
       "output_type": "stream",
       "stream": "stdout",
       "text": [
        "Overwriting html/02_hello_world/02_hello_02.html"
       ]
      },
      {
       "output_type": "stream",
       "stream": "stdout",
       "text": [
        "\n"
       ]
      }
     ],
     "prompt_number": 55
    },
    {
     "cell_type": "markdown",
     "metadata": {
      "slideshow": {
       "slide_type": "subslide"
      }
     },
     "source": [
      "## Then the dots:\n",
      "\n",
      "* Add an SVG element\n",
      "* Then add the circles"
     ]
    },
    {
     "cell_type": "markdown",
     "metadata": {
      "slideshow": {
       "slide_type": "subslide"
      }
     },
     "source": [
      "## An SVG\n",
      "\n",
      "    var svg = d3.select(\"body\").append(\"svg\")\n",
      "        .attr(\"width\", 960)\n",
      "        .attr(\"height\", 500)\n"
     ]
    },
    {
     "cell_type": "markdown",
     "metadata": {
      "slideshow": {
       "slide_type": "subslide"
      }
     },
     "source": [
      "## The circles\n",
      "\n",
      "    svg.selectAll(\"circle\")\n",
      "       .data(dataset)\n",
      "       .enter()\n",
      "       .append(\"circle\")\n",
      "       .attr(\"class\", \"dot\")\n",
      "       .attr(\"cx\", function(d,i) {\n",
      "            return i;\n",
      "       })\n",
      "       .attr(\"cy\", function(d) {\n",
      "            return d;\n",
      "       })\n",
      "       .attr(\"r\", 15);\n",
      "\n",
      "[show results](/files/html/02_hello_world/02_hello_03.html)"
     ]
    },
    {
     "cell_type": "code",
     "collapsed": false,
     "input": [
      "%%file html/02_hello_world/02_hello_03.html\n",
      "\n",
      "<!DOCTYPE html>\n",
      "<meta charset=\"utf-8\">\n",
      "\n",
      "<style>\n",
      "/* css goes here */\n",
      "</style>\n",
      "\n",
      "<body>\n",
      "<p>hello, world (of statistical graphics).</p>\n",
      "\n",
      "<script src=\"../d3.v3.js\"></script>\n",
      "<script>\n",
      "// Initialize data array\n",
      "var dataset = [3,1,4,1,5,9];\n",
      "\n",
      "// Add SVG element\n",
      "var svg = d3.select(\"body\").append(\"svg\")\n",
      "    .attr(\"width\", 960)\n",
      "    .attr(\"height\", 500)\n",
      "\n",
      "// Create circles\n",
      "svg.selectAll(\"circle\")\n",
      "   .data(dataset)\n",
      "   .enter()\n",
      "   .append(\"circle\")\n",
      "   .attr(\"class\", \"dot\")\n",
      "   .attr(\"cx\", function(d,i) {\n",
      "        return i;\n",
      "   })\n",
      "   .attr(\"cy\", function(d) {\n",
      "        return d;\n",
      "   })\n",
      "   .attr(\"r\", 15);\n",
      "</script>\n"
     ],
     "language": "python",
     "metadata": {
      "slideshow": {
       "slide_type": "skip"
      }
     },
     "outputs": [
      {
       "output_type": "stream",
       "stream": "stdout",
       "text": [
        "Writing html/02_hello_world/02_hello_03.html"
       ]
      },
      {
       "output_type": "stream",
       "stream": "stdout",
       "text": [
        "\n"
       ]
      }
     ],
     "prompt_number": 58
    },
    {
     "cell_type": "markdown",
     "metadata": {
      "slideshow": {
       "slide_type": "subslide"
      }
     },
     "source": [
      "## Not pretty, but the data is there\n",
      "\n",
      "* Use the Developer Tools to check"
     ]
    },
    {
     "cell_type": "markdown",
     "metadata": {
      "slideshow": {
       "slide_type": "subslide"
      }
     },
     "source": [
      "## So make it pretty"
     ]
    },
    {
     "cell_type": "markdown",
     "metadata": {
      "slideshow": {
       "slide_type": "subslide"
      }
     },
     "source": [
      "## The cool way: scales"
     ]
    },
    {
     "cell_type": "markdown",
     "metadata": {
      "slideshow": {
       "slide_type": "subslide"
      }
     },
     "source": [
      "## Scales (might as well get rid of hard-coded sizes as well)\n",
      "\n",
      "    var margin = {top: 20, right: 20,\n",
      "                  bottom: 30, left: 50},\n",
      "        width = 960 - margin.left\n",
      "                - margin.right,\n",
      "        height = 500 - margin.top\n",
      "                - margin.bottom;\n",
      "    \n",
      "    var svg = d3.select(\"body\").append(\"svg\")\n",
      "        .attr(\"width\", width\n",
      "              + margin.left + margin.right)\n",
      "        .attr(\"height\", height\n",
      "              + margin.top + margin.bottom)\n",
      "    \n",
      "\n",
      "    // Create scale functions\n",
      "    var xScale = d3.scale.linear()\n",
      "       .domain([0, d3.max(dataset,\n",
      "            function(d,i) { return i; })])\n",
      "       .range([20, width]);\n",
      "    \n",
      "    var yScale = d3.scale.linear()\n",
      "        .domain([0, d3.max(dataset,\n",
      "            function(d) { return d; })])\n",
      "        .range([height-20, 0]);\n",
      "\n",
      "    ...\n",
      "    \n",
      "       .attr(\"cx\", function(d,i) {\n",
      "            return xScale(i);\n",
      "       })\n",
      "       .attr(\"cy\", function(d) {\n",
      "            return yScale(d);\n",
      "       })\n",
      "\n",
      "[show results](/files/html/02_hello_world/02_hello_03b.html)"
     ]
    },
    {
     "cell_type": "code",
     "collapsed": false,
     "input": [
      "%%file html/02_hello_world/02_hello_03b.html\n",
      "\n",
      "<!DOCTYPE html>\n",
      "<meta charset=\"utf-8\">\n",
      "\n",
      "<style>\n",
      "/* css goes here */\n",
      "</style>\n",
      "\n",
      "<body>\n",
      "<p>hello, world (of statistical graphics).</p>\n",
      "\n",
      "<script src=\"../d3.v3.js\"></script>\n",
      "<script>\n",
      "// Initialize data array\n",
      "var dataset = [3,1,4,1,5,9];\n",
      "\n",
      "// Add SVG element\n",
      "var margin = {top: 20, right: 20,\n",
      "              bottom: 30, left: 50},\n",
      "    width = 960 - margin.left\n",
      "            - margin.right,\n",
      "    height = 500 - margin.top\n",
      "            - margin.bottom;\n",
      "\n",
      "var svg = d3.select(\"body\").append(\"svg\")\n",
      "    .attr(\"width\", width\n",
      "          + margin.left + margin.right)\n",
      "    .attr(\"height\", height\n",
      "          + margin.top + margin.bottom)\n",
      "\n",
      "// Create scale functions\n",
      "var xScale = d3.scale.linear()\n",
      "   .domain([0, d3.max(dataset,\n",
      "        function(d,i) { return i; })])\n",
      "   .range([20, width]);\n",
      "\n",
      "var yScale = d3.scale.linear()\n",
      "    .domain([0, d3.max(dataset,\n",
      "        function(d) { return d; })])\n",
      "    .range([height-20, 0]);\n",
      "\n",
      "// Create circles\n",
      "svg.selectAll(\"circle\")\n",
      "   .data(dataset)\n",
      "   .enter()\n",
      "   .append(\"circle\")\n",
      "   .attr(\"class\", \"dot\")\n",
      "   .attr(\"cx\", function(d,i) {\n",
      "        return xScale(i);\n",
      "   })\n",
      "   .attr(\"cy\", function(d) {\n",
      "        return yScale(d);\n",
      "   })\n",
      "   .attr(\"r\", 15);\n",
      "</script>\n"
     ],
     "language": "python",
     "metadata": {
      "slideshow": {
       "slide_type": "skip"
      }
     },
     "outputs": [
      {
       "output_type": "stream",
       "stream": "stdout",
       "text": [
        "Overwriting html/02_hello_world/02_hello_03b.html"
       ]
      },
      {
       "output_type": "stream",
       "stream": "stdout",
       "text": [
        "\n"
       ]
      }
     ],
     "prompt_number": 62
    },
    {
     "cell_type": "markdown",
     "metadata": {
      "slideshow": {
       "slide_type": "slide"
      }
     },
     "source": [
      "## Now the new thing, a line\n",
      "\n",
      "https://github.com/mbostock/d3/wiki/SVG-Shapes#wiki-line"
     ]
    },
    {
     "cell_type": "markdown",
     "metadata": {
      "slideshow": {
       "slide_type": "subslide"
      }
     },
     "source": [
      "## I have no idea how I figured this out\n",
      "\n",
      "    var line = d3.svg.line()\n",
      "        .x(function(d,i) { return xScale(i); })\n",
      "        .y(function(d) { return yScale(d); });\n",
      "    \n",
      "    svg .append(\"svg:path\")\n",
      "        .attr(\"class\", \"line\")\n",
      "        .attr(\"d\", line(dataset))\n",
      "        .attr(\"fill\", \"none\")\n",
      "        .attr(\"stroke\", \"black\");\n",
      "\n",
      "[show results](/files/html/02_hello_world/02_hello_04.html)"
     ]
    },
    {
     "cell_type": "code",
     "collapsed": false,
     "input": [
      "%%file html/02_hello_world/02_hello_04.html\n",
      "\n",
      "<!DOCTYPE html>\n",
      "<meta charset=\"utf-8\">\n",
      "\n",
      "<style>\n",
      "/* css goes here */\n",
      "</style>\n",
      "\n",
      "<body>\n",
      "<p>hello, world (of statistical graphics).</p>\n",
      "\n",
      "<script src=\"../d3.v3.js\"></script>\n",
      "<script>\n",
      "// Initialize data array\n",
      "var dataset = [3,1,4,1,5,9];\n",
      "\n",
      "// Add SVG element\n",
      "var margin = {top: 20, right: 20,\n",
      "              bottom: 30, left: 50},\n",
      "    width = 960 - margin.left\n",
      "            - margin.right,\n",
      "    height = 500 - margin.top\n",
      "            - margin.bottom;\n",
      "\n",
      "var svg = d3.select(\"body\").append(\"svg\")\n",
      "    .attr(\"width\", width\n",
      "          + margin.left + margin.right)\n",
      "    .attr(\"height\", height\n",
      "          + margin.top + margin.bottom)\n",
      "\n",
      "// Create scale functions\n",
      "var xScale = d3.scale.linear()\n",
      "   .domain([0, d3.max(dataset,\n",
      "        function(d,i) { return i; })])\n",
      "   .range([20, width]);\n",
      "\n",
      "var yScale = d3.scale.linear()\n",
      "    .domain([0, d3.max(dataset,\n",
      "        function(d) { return d; })])\n",
      "    .range([height-20, 0]);\n",
      "\n",
      "// Create circles\n",
      "svg.selectAll(\"circle\")\n",
      "   .data(dataset)\n",
      "   .enter()\n",
      "   .append(\"circle\")\n",
      "   .attr(\"class\", \"dot\")\n",
      "   .attr(\"cx\", function(d,i) {\n",
      "        return xScale(i);\n",
      "   })\n",
      "   .attr(\"cy\", function(d) {\n",
      "        return yScale(d);\n",
      "   })\n",
      "   .attr(\"r\", 15);\n",
      "\n",
      "    \n",
      "// Create line\n",
      "var line = d3.svg.line()\n",
      "\u00a0\u00a0\u00a0\u00a0.x(function(d,i) { return xScale(i); })\n",
      "\u00a0\u00a0\u00a0\u00a0.y(function(d) { return yScale(d); });\n",
      "\n",
      "svg .append(\"svg:path\")\n",
      "    .attr(\"class\", \"line\")\n",
      "    .attr(\"d\", line(dataset))\n",
      "    .attr(\"fill\", \"none\")\n",
      "    .attr(\"stroke\", \"black\");\n",
      "</script>\n"
     ],
     "language": "python",
     "metadata": {},
     "outputs": [
      {
       "output_type": "stream",
       "stream": "stdout",
       "text": [
        "Writing html/02_hello_world/02_hello_04.html"
       ]
      },
      {
       "output_type": "stream",
       "stream": "stdout",
       "text": [
        "\n"
       ]
      }
     ],
     "prompt_number": 65
    },
    {
     "cell_type": "markdown",
     "metadata": {
      "slideshow": {
       "slide_type": "slide"
      }
     },
     "source": [
      "## Then the axes\n",
      "\n",
      "* We were going pretty quickly yesterday when we reached this part... it is tricky.  Here is a tutorial that goes through it slowly: http://alignedleft.com/tutorials/d3/axes/"
     ]
    },
    {
     "cell_type": "markdown",
     "metadata": {
      "slideshow": {
       "slide_type": "subslide"
      }
     },
     "source": [
      "## Definitely a challenge\n",
      "\n",
      "    // Define X axis\n",
      "    var xAxis = d3.svg.axis()\n",
      "                      .scale(xScale)\n",
      "                      .orient(\"bottom\")\n",
      "                      .ticks(5);\n",
      "    \n",
      "    // Define Y axis\n",
      "    var yAxis = d3.svg.axis()\n",
      "                      .scale(yScale)\n",
      "                      .orient(\"left\")\n",
      "                      .ticks(10);\n",
      "    // Create X axis\n",
      "    svg.append(\"g\")\n",
      "        .attr(\"class\", \"axis\")\n",
      "        .attr(\"transform\", \"translate(0,\" + height + \")\")\n",
      "        .call(xAxis);\n",
      "    \n",
      "    // Create Y axis\n",
      "    svg.append(\"g\")\n",
      "        .attr(\"class\", \"axis\")\n",
      "        .call(yAxis);\n",
      "\n",
      "[show results](/files/html/02_hello_world/02_hello_05.html)"
     ]
    },
    {
     "cell_type": "code",
     "collapsed": false,
     "input": [
      "%%file html/02_hello_world/02_hello_05.html\n",
      "\n",
      "<!DOCTYPE html>\n",
      "<meta charset=\"utf-8\">\n",
      "\n",
      "<style>\n",
      "/* css goes here */\n",
      "</style>\n",
      "\n",
      "<body>\n",
      "<p>hello, world (of statistical graphics).</p>\n",
      "\n",
      "<script src=\"../d3.v3.js\"></script>\n",
      "<script>\n",
      "// Initialize data array\n",
      "var dataset = [3,1,4,1,5,9];\n",
      "\n",
      "// Add SVG element\n",
      "var margin = {top: 20, right: 20,\n",
      "              bottom: 30, left: 50},\n",
      "    width = 960 - margin.left\n",
      "            - margin.right,\n",
      "    height = 500 - margin.top\n",
      "            - margin.bottom;\n",
      "\n",
      "var svg = d3.select(\"body\").append(\"svg\")\n",
      "    .attr(\"width\", width\n",
      "          + margin.left + margin.right)\n",
      "    .attr(\"height\", height\n",
      "          + margin.top + margin.bottom)\n",
      "\n",
      "// Create scale functions\n",
      "var xScale = d3.scale.linear()\n",
      "   .domain([0, d3.max(dataset,\n",
      "        function(d,i) { return i; })])\n",
      "   .range([20, width]);\n",
      "\n",
      "var yScale = d3.scale.linear()\n",
      "    .domain([0, d3.max(dataset,\n",
      "        function(d) { return d; })])\n",
      "    .range([height-20, 0]);\n",
      "\n",
      "// Create circles\n",
      "svg.selectAll(\"circle\")\n",
      "   .data(dataset)\n",
      "   .enter()\n",
      "   .append(\"circle\")\n",
      "   .attr(\"class\", \"dot\")\n",
      "   .attr(\"cx\", function(d,i) {\n",
      "        return xScale(i);\n",
      "   })\n",
      "   .attr(\"cy\", function(d) {\n",
      "        return yScale(d);\n",
      "   })\n",
      "   .attr(\"r\", 15);\n",
      "\n",
      "    \n",
      "// Create line\n",
      "var line = d3.svg.line()\n",
      "\u00a0\u00a0\u00a0\u00a0.x(function(d,i) { return xScale(i); })\n",
      "\u00a0\u00a0\u00a0\u00a0.y(function(d) { return yScale(d); });\n",
      "\n",
      "svg .append(\"svg:path\")\n",
      "    .attr(\"class\", \"line\")\n",
      "    .attr(\"d\", line(dataset))\n",
      "    .attr(\"fill\", \"none\")\n",
      "    .attr(\"stroke\", \"black\");\n",
      "\n",
      "// Define X axis\n",
      "var xAxis = d3.svg.axis()\n",
      "                  .scale(xScale)\n",
      "                  .orient(\"bottom\")\n",
      "                  .ticks(5);\n",
      "\n",
      "// Define Y axis\n",
      "var yAxis = d3.svg.axis()\n",
      "                  .scale(yScale)\n",
      "                  .orient(\"left\")\n",
      "                  .ticks(10);\n",
      "// Create X axis\n",
      "svg.append(\"g\")\n",
      "    .attr(\"class\", \"axis\")\n",
      "    .attr(\"transform\", \"translate(0,\" + height + \")\")\n",
      "    .call(xAxis);\n",
      "\n",
      "// Create Y axis\n",
      "svg.append(\"g\")\n",
      "    .attr(\"class\", \"axis\")\n",
      "    .call(yAxis);\n",
      "\n",
      "    \n",
      "</script>\n"
     ],
     "language": "python",
     "metadata": {
      "slideshow": {
       "slide_type": "skip"
      }
     },
     "outputs": [
      {
       "output_type": "stream",
       "stream": "stdout",
       "text": [
        "Writing html/02_hello_world/02_hello_05.html\n"
       ]
      }
     ],
     "prompt_number": 66
    },
    {
     "cell_type": "markdown",
     "metadata": {
      "slideshow": {
       "slide_type": "subslide"
      }
     },
     "source": [
      "## Need room for the axes\n",
      "\n",
      "    var svg = d3.select(\"body\").append(\"svg\")\n",
      "        .attr(\"width\", width\n",
      "              + margin.left + margin.right)\n",
      "        .attr(\"height\", height\n",
      "              + margin.top + margin.bottom)\n",
      "        .append(\"g\")\n",
      "        .attr(\"transform\",\n",
      "          \"translate(\" + margin.left + \",\"\n",
      "             + margin.top + \")\"); \n",
      "\n",
      "\n",
      "[show results](/files/html/02_hello_world/02_hello_05b.html)"
     ]
    },
    {
     "cell_type": "code",
     "collapsed": false,
     "input": [
      "%%file html/02_hello_world/02_hello_05b.html\n",
      "\n",
      "<!DOCTYPE html>\n",
      "<meta charset=\"utf-8\">\n",
      "\n",
      "<style>\n",
      "/* css goes here */\n",
      "</style>\n",
      "\n",
      "<body>\n",
      "<p>hello, world (of statistical graphics).</p>\n",
      "\n",
      "<script src=\"../d3.v3.js\"></script>\n",
      "<script>\n",
      "// Initialize data array\n",
      "var dataset = [3,1,4,1,5,9];\n",
      "\n",
      "// Add SVG element\n",
      "var margin = {top: 20, right: 20,\n",
      "              bottom: 30, left: 50},\n",
      "    width = 960 - margin.left\n",
      "            - margin.right,\n",
      "    height = 500 - margin.top\n",
      "            - margin.bottom;\n",
      "\n",
      "    \n",
      "// SVG with room for axes    \n",
      "var svg = d3.select(\"body\").append(\"svg\")\n",
      "    .attr(\"width\", width\n",
      "          + margin.left + margin.right)\n",
      "    .attr(\"height\", height\n",
      "          + margin.top + margin.bottom)\n",
      "    .append(\"g\")\n",
      "    .attr(\"transform\",\n",
      "      \"translate(\" + margin.left + \",\"\n",
      "         + margin.top + \")\"); \n",
      "    \n",
      "// Create scale functions\n",
      "var xScale = d3.scale.linear()\n",
      "   .domain([0, d3.max(dataset,\n",
      "        function(d,i) { return i; })])\n",
      "   .range([20, width]);\n",
      "\n",
      "var yScale = d3.scale.linear()\n",
      "    .domain([0, d3.max(dataset,\n",
      "        function(d) { return d; })])\n",
      "    .range([height-20, 0]);\n",
      "\n",
      "// Create circles\n",
      "svg.selectAll(\"circle\")\n",
      "   .data(dataset)\n",
      "   .enter()\n",
      "   .append(\"circle\")\n",
      "   .attr(\"class\", \"dot\")\n",
      "   .attr(\"cx\", function(d,i) {\n",
      "        return xScale(i);\n",
      "   })\n",
      "   .attr(\"cy\", function(d) {\n",
      "        return yScale(d);\n",
      "   })\n",
      "   .attr(\"r\", 15);\n",
      "\n",
      "    \n",
      "// Create line\n",
      "var line = d3.svg.line()\n",
      "\u00a0\u00a0\u00a0\u00a0.x(function(d,i) { return xScale(i); })\n",
      "\u00a0\u00a0\u00a0\u00a0.y(function(d) { return yScale(d); });\n",
      "\n",
      "svg .append(\"svg:path\")\n",
      "    .attr(\"class\", \"line\")\n",
      "    .attr(\"d\", line(dataset))\n",
      "    .attr(\"fill\", \"none\")\n",
      "    .attr(\"stroke\", \"black\");\n",
      "\n",
      "// Define X axis\n",
      "var xAxis = d3.svg.axis()\n",
      "                  .scale(xScale)\n",
      "                  .orient(\"bottom\")\n",
      "                  .ticks(5);\n",
      "\n",
      "// Define Y axis\n",
      "var yAxis = d3.svg.axis()\n",
      "                  .scale(yScale)\n",
      "                  .orient(\"left\")\n",
      "                  .ticks(10);\n",
      "// Create X axis\n",
      "svg.append(\"g\")\n",
      "    .attr(\"class\", \"axis\")\n",
      "    .attr(\"transform\", \"translate(0,\" + height + \")\")\n",
      "    .call(xAxis);\n",
      "\n",
      "// Create Y axis\n",
      "svg.append(\"g\")\n",
      "    .attr(\"class\", \"axis\")\n",
      "    .call(yAxis);\n",
      "\n",
      "    \n",
      "</script>\n"
     ],
     "language": "python",
     "metadata": {
      "slideshow": {
       "slide_type": "skip"
      }
     },
     "outputs": [
      {
       "output_type": "stream",
       "stream": "stdout",
       "text": [
        "Writing html/02_hello_world/02_hello_05b.html\n"
       ]
      }
     ],
     "prompt_number": 67
    },
    {
     "cell_type": "markdown",
     "metadata": {
      "slideshow": {
       "slide_type": "slide"
      }
     },
     "source": [
      "## Finishing it up is just a matter of styling things now"
     ]
    },
    {
     "cell_type": "markdown",
     "metadata": {
      "slideshow": {
       "slide_type": "subslide"
      }
     },
     "source": [
      "## Here is how I've done the CSS\n",
      "\n",
      "    .axis path,\n",
      "    .axis line {\n",
      "        fill: none;\n",
      "        stroke: black;\n",
      "        shape-rendering: crispEdges;\n",
      "    }\n",
      "    \n",
      "    .axis text {\n",
      "        font-family: sans-serif;\n",
      "        font-size: 22px;\n",
      "    }\n",
      "    \n",
      "    .line {\n",
      "        stroke-width: 2px;\n",
      "    }\n",
      "    \n",
      "    .dot {\n",
      "      stroke: white;\n",
      "      stroke-width: 2;\n",
      "    }\n",
      "\n",
      "    \n",
      "[show results](/files/html/02_hello_world/02_hello_06.html)"
     ]
    },
    {
     "cell_type": "code",
     "collapsed": false,
     "input": [
      "%%file html/02_hello_world/02_hello_06.html\n",
      "\n",
      "<!DOCTYPE html>\n",
      "<meta charset=\"utf-8\">\n",
      "\n",
      "<style>\n",
      ".axis path,\n",
      ".axis line {\n",
      "    fill: none;\n",
      "    stroke: black;\n",
      "    shape-rendering: crispEdges;\n",
      "}\n",
      "\n",
      ".axis text {\n",
      "    font-family: sans-serif;\n",
      "    font-size: 22px;\n",
      "}\n",
      "\n",
      ".line {\n",
      "    stroke-width: 2px;\n",
      "}\n",
      "\n",
      ".dot {\n",
      "  stroke: white;\n",
      "  stroke-width: 2;\n",
      "}\n",
      "</style>\n",
      "\n",
      "<body>\n",
      "<p>hello, world (of statistical graphics).</p>\n",
      "\n",
      "<script src=\"../d3.v3.js\"></script>\n",
      "<script>\n",
      "// Initialize data array\n",
      "var dataset = [3,1,4,1,5,9];\n",
      "\n",
      "// Add SVG element\n",
      "var margin = {top: 20, right: 20,\n",
      "              bottom: 30, left: 50},\n",
      "    width = 960 - margin.left\n",
      "            - margin.right,\n",
      "    height = 500 - margin.top\n",
      "            - margin.bottom;\n",
      "\n",
      "    \n",
      "// SVG with room for axes    \n",
      "var svg = d3.select(\"body\").append(\"svg\")\n",
      "    .attr(\"width\", width\n",
      "          + margin.left + margin.right)\n",
      "    .attr(\"height\", height\n",
      "          + margin.top + margin.bottom)\n",
      "    .append(\"g\")\n",
      "    .attr(\"transform\",\n",
      "      \"translate(\" + margin.left + \",\"\n",
      "         + margin.top + \")\"); \n",
      "    \n",
      "// Create scale functions\n",
      "var xScale = d3.scale.linear()\n",
      "   .domain([0, d3.max(dataset,\n",
      "        function(d,i) { return i; })])\n",
      "   .range([20, width]);\n",
      "\n",
      "var yScale = d3.scale.linear()\n",
      "    .domain([0, d3.max(dataset,\n",
      "        function(d) { return d; })])\n",
      "    .range([height-20, 0]);\n",
      "\n",
      "// Create line\n",
      "var line = d3.svg.line()\n",
      "\u00a0\u00a0\u00a0\u00a0.x(function(d,i) { return xScale(i); })\n",
      "\u00a0\u00a0\u00a0\u00a0.y(function(d) { return yScale(d); });\n",
      "\n",
      "svg .append(\"svg:path\")\n",
      "    .attr(\"class\", \"line\")\n",
      "    .attr(\"d\", line(dataset))\n",
      "    .attr(\"fill\", \"none\")\n",
      "    .attr(\"stroke\", \"black\");\n",
      "\n",
      "// Create circles\n",
      "svg.selectAll(\"circle\")\n",
      "   .data(dataset)\n",
      "   .enter()\n",
      "   .append(\"circle\")\n",
      "   .attr(\"class\", \"dot\")\n",
      "   .attr(\"cx\", function(d,i) {\n",
      "        return xScale(i);\n",
      "   })\n",
      "   .attr(\"cy\", function(d) {\n",
      "        return yScale(d);\n",
      "   })\n",
      "   .attr(\"r\", 15);\n",
      "\n",
      "// Define X axis\n",
      "var xAxis = d3.svg.axis()\n",
      "                  .scale(xScale)\n",
      "                  .orient(\"bottom\")\n",
      "                  .ticks(5);\n",
      "\n",
      "// Define Y axis\n",
      "var yAxis = d3.svg.axis()\n",
      "                  .scale(yScale)\n",
      "                  .orient(\"left\")\n",
      "                  .ticks(10);\n",
      "// Create X axis\n",
      "svg.append(\"g\")\n",
      "    .attr(\"class\", \"axis\")\n",
      "    .attr(\"transform\", \"translate(0,\" + height + \")\")\n",
      "    .call(xAxis);\n",
      "\n",
      "// Create Y axis\n",
      "svg.append(\"g\")\n",
      "    .attr(\"class\", \"axis\")\n",
      "    .call(yAxis);\n",
      "\n",
      "    \n",
      "</script>\n"
     ],
     "language": "python",
     "metadata": {
      "slideshow": {
       "slide_type": "skip"
      }
     },
     "outputs": [
      {
       "output_type": "stream",
       "stream": "stdout",
       "text": [
        "Overwriting html/02_hello_world/02_hello_06.html"
       ]
      },
      {
       "output_type": "stream",
       "stream": "stdout",
       "text": [
        "\n"
       ]
      }
     ],
     "prompt_number": 71
    },
    {
     "cell_type": "markdown",
     "metadata": {
      "slideshow": {
       "slide_type": "slide"
      }
     },
     "source": [
      "## Tomorrow: d3js for tables"
     ]
    },
    {
     "cell_type": "code",
     "collapsed": false,
     "input": [
      "!cp /homes/abie/notebook/2013_07_04b_IDV4GH_Exercise_02_hello_world.ipynb /homes/abie/nbconvert/E2.ipynb\n",
      "!cd /homes/abie/nbconvert/; ./nbconvert.py --format reveal E2.ipynb\n",
      "!cp /homes/abie/nbconvert/E2* /home/j/Project/Models/IDV4GH/exercises\n",
      "!cp -r /homes/abie/notebook/html/02_hello_world/ /home/j/Project/Models/IDV4GH/exercises/html/"
     ],
     "language": "python",
     "metadata": {
      "slideshow": {
       "slide_type": "skip"
      }
     },
     "outputs": [
      {
       "output_type": "stream",
       "stream": "stdout",
       "text": [
        "\r\n",
        "======================================================\r\n",
        "Warning, we are deprecating this version of nbconvert,\r\n",
        "please consider using the new version.\r\n",
        "======================================================\r\n",
        "    \r\n"
       ]
      }
     ],
     "prompt_number": 70
    },
    {
     "cell_type": "code",
     "collapsed": false,
     "input": [
      "import ipynb_style\n",
      "ipynb_style.presentation()"
     ],
     "language": "python",
     "metadata": {
      "slideshow": {
       "slide_type": "skip"
      }
     },
     "outputs": [
      {
       "html": [
        "\n",
        "<style type=\"text/css\">\n",
        "div.input {\n",
        "width: 1024px; /* about 80 chars + buffer */\n",
        "}\n",
        "\n",
        "div.text_cell {\n",
        "width: 1024px /* instead of 100%, */\n",
        "}\n",
        "\n",
        "div.text_cell_render {\n",
        "/*font-family: \"Helvetica Neue\", Arial, Helvetica, Geneva, sans-serif;*/\n",
        "font-family: \"Charis SIL\", serif; /* Make non-code text serif. */\n",
        "line-height: 145%; /* added for some line spacing of text. */\n",
        "font-size: 28pt;\n",
        "}\n",
        "\n",
        "/* Set the size of the headers */\n",
        "div.text_cell_render h1 {\n",
        "font-size: 36pt;\n",
        "}\n",
        "\n",
        "div.text_cell_render h2 {\n",
        "font-size: 32pt;\n",
        "}\n",
        "\n",
        "div.text_cell_render li {\n",
        "line-height: 1.2em;\n",
        "}\n",
        "\n",
        "div.text_cell_render p {\n",
        "font-size: 14pt;\n",
        "line-height: 1em;\n",
        "}\n",
        "\n",
        ".CodeMirror {\n",
        "font-size: 14pt;\n",
        " font-family: Consolas, monospace;\n",
        " }\n",
        "\n",
        ".rendered_html ol {list-style:decimal; margin: 1em 2em;}\n",
        "\n",
        "</style>\n"
       ],
       "output_type": "pyout",
       "prompt_number": 36,
       "text": [
        "<IPython.core.display.HTML at 0x25b1710>"
       ]
      }
     ],
     "prompt_number": 36
    },
    {
     "cell_type": "code",
     "collapsed": false,
     "input": [],
     "language": "python",
     "metadata": {},
     "outputs": []
    }
   ],
   "metadata": {}
  }
 ]
}