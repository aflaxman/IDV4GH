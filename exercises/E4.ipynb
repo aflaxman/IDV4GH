{
 "metadata": {
  "name": "2013_07_05_IDV4GH_Exercise_04_interactive_bubble_chart"
 },
 "nbformat": 3,
 "nbformat_minor": 0,
 "worksheets": [
  {
   "cells": [
    {
     "cell_type": "markdown",
     "metadata": {
      "slideshow": {
       "slide_type": "slide"
      }
     },
     "source": [
      "# IDV4GH Exercise 4\n",
      "\n",
      "## Adding Interaction to the Bubble Chart"
     ]
    },
    {
     "cell_type": "code",
     "collapsed": false,
     "input": [
      "%%file html/01_bubble/01_bubble_09.html\n",
      "\n",
      "<!DOCTYPE html>\n",
      "<meta charset=\"utf-8\">\n",
      "\n",
      "<style>\n",
      "/* css goes here */\n",
      ".dot {\n",
      "  stroke: black;\n",
      "  stroke-width: 1;\n",
      "  opacity: .5;\n",
      "}\n",
      "\n",
      ".axis path, .axis line {\n",
      "  fill: none;\n",
      "  stroke: #000;\n",
      "  shape-rendering: crispEdges;\n",
      "}\n",
      "\n",
      "</style>\n",
      "\n",
      "<body>\n",
      "\n",
      "<p>HTML goes here.</p>\n",
      "\n",
      "<script src=\"../d3.v3.js\"></script>\n",
      "<script src=\"nations.js\"></script>\n",
      "<script src=\"keybinding.js\"></script>\n",
      "\n",
      "\n",
      "<script>\n",
      "// javascript goes here\n",
      "var margin = {top: 10, right: 10,\n",
      "              bottom: 20, left: 40},\n",
      "    width = 960 - margin.left\n",
      "            - margin.right,\n",
      "    height = 500 - margin.top\n",
      "            - margin.bottom;\n",
      "\n",
      "var svg = d3.select(\"body\").append(\"svg\")\n",
      "    .attr(\"width\", width\n",
      "          + margin.left + margin.right)\n",
      "    .attr(\"height\", height\n",
      "          + margin.top + margin.bottom)\n",
      "    .append(\"g\")\n",
      "    .attr(\"transform\",\n",
      "      \"translate(\" + margin.left + \",\"\n",
      "         + margin.top + \")\");\n",
      "\n",
      "var year = 2000;\n",
      "\n",
      "var xScale = d3.scale.log()\n",
      "               .domain([300, 1e5])\n",
      "               .range([0, width]),\n",
      "    yScale = d3.scale.linear()\n",
      "               .domain([10, 85])\n",
      "               .range([height, 0]),\n",
      "    radiusScale = d3.scale.sqrt()\n",
      "                    .domain([0, 5e8])\n",
      "                    .range([0, 40]),\n",
      "    colorScale = d3.scale.category10();\n",
      "    \n",
      "function position(dot) {\n",
      "    dot .attr(\"r\", function(d) {\n",
      "          return radiusScale(\n",
      "            d.population[year]); })\n",
      "        .attr(\"cx\", function(d) {\n",
      "          return xScale(\n",
      "            d.income[year]); })\n",
      "        .attr(\"cy\", function(d) {\n",
      "          return yScale(\n",
      "            d.lifeExpectancy[year]); });\n",
      "}\n",
      "\n",
      "// The x & y axes.\n",
      "var xAxis = d3.svg.axis()\n",
      "              .orient(\"bottom\").scale(xScale)\n",
      "              .ticks(12, d3.format(\",d\")),\n",
      "    yAxis = d3.svg.axis()\n",
      "              .scale(yScale).orient(\"left\");\n",
      "\n",
      "// Add the x-axis.\n",
      "svg.append(\"g\")\n",
      "    .attr(\"class\", \"x axis\")\n",
      "    .attr(\"transform\", \"translate(0,\" + height + \")\")\n",
      "    .call(xAxis);\n",
      "\n",
      "// Add the y-axis.\n",
      "svg.append(\"g\")\n",
      "    .attr(\"class\", \"y axis\")\n",
      "    .call(yAxis);\n",
      "\n",
      "// Add an x-axis label.\n",
      "svg.append(\"text\")\n",
      "    .attr(\"class\", \"x label\")\n",
      "    .attr(\"text-anchor\", \"end\")\n",
      "    .attr(\"x\", width)\n",
      "    .attr(\"y\", height - 6)\n",
      "    .text(\"income per capita, inflation-adjusted (dollars)\");\n",
      "\n",
      "// Add a y-axis label.\n",
      "svg.append(\"text\")\n",
      "    .attr(\"class\", \"y label\")\n",
      "    .attr(\"text-anchor\", \"end\")\n",
      "    .attr(\"y\", 6)\n",
      "    .attr(\"dy\", \".75em\")\n",
      "    .attr(\"transform\", \"rotate(-90)\")\n",
      "    .text(\"life expectancy (years)\");\n",
      "\n",
      "// Add the year label; the value is set on transition.\n",
      "var label = svg.append(\"text\")\n",
      "    .attr(\"class\", \"year label\")\n",
      "    .attr(\"text-anchor\", \"end\")\n",
      "    .attr(\"y\", height - 24)\n",
      "    .attr(\"x\", width)\n",
      "    .text(year);\n",
      "\n",
      "d3.select('body').call(d3.keybinding()\n",
      "    .on('\u2190', change_year(-5))\n",
      "    .on('\u2192', change_year(5)));\n",
      "\n",
      "function change_year(delta) {\n",
      "    return function(event) {        \n",
      "        year = Math.max(1990, Math.min(2005, year+delta));\n",
      "        dot.transition().call(position);\n",
      "        label.text(year);\n",
      "    };\n",
      "}\n",
      "\n",
      "var dot = svg.selectAll(\".dot\")\n",
      "    .data(nations)\n",
      "    .enter()\n",
      "    .append(\"circle\")\n",
      "    .attr(\"class\", \"dot\")\n",
      "    .style(\"fill\", function(d) {\n",
      "      return colorScale(d.region); })\n",
      "    .call(position);\n",
      "\n",
      "// Add a title.\n",
      "dot .append(\"title\")\n",
      "   .text(function(d) { return d.name; });\n",
      "\n",
      "</script>\n"
     ],
     "language": "python",
     "metadata": {
      "slideshow": {
       "slide_type": "skip"
      }
     },
     "outputs": [
      {
       "output_type": "stream",
       "stream": "stdout",
       "text": [
        "Overwriting html/01_bubble/01_bubble_09.html"
       ]
      },
      {
       "output_type": "stream",
       "stream": "stdout",
       "text": [
        "\n"
       ]
      }
     ],
     "prompt_number": 204
    },
    {
     "cell_type": "code",
     "collapsed": false,
     "input": [
      "!cp /homes/abie/notebook/2013_07_05_IDV4GH_Exercise_04_interactive_bubble_chart.ipynb /homes/abie/nbconvert/E4.ipynb\n",
      "!cd /homes/abie/nbconvert/; ./nbconvert.py --format reveal E4.ipynb\n",
      "!cp /homes/abie/nbconvert/E4* /home/j/Project/Models/IDV4GH/exercises\n",
      "!cp -r /homes/abie/notebook/html/04_ibubble/ /home/j/Project/Models/IDV4GH/exercises/html/"
     ],
     "language": "python",
     "metadata": {
      "slideshow": {
       "slide_type": "skip"
      }
     },
     "outputs": [
      {
       "output_type": "stream",
       "stream": "stdout",
       "text": [
        "\r\n",
        "======================================================\r\n",
        "Warning, we are deprecating this version of nbconvert,\r\n",
        "please consider using the new version.\r\n",
        "======================================================\r\n",
        "    \r\n"
       ]
      }
     ],
     "prompt_number": 224
    },
    {
     "cell_type": "code",
     "collapsed": false,
     "input": [
      "import ipynb_style\n",
      "ipynb_style.presentation()"
     ],
     "language": "python",
     "metadata": {
      "slideshow": {
       "slide_type": "skip"
      }
     },
     "outputs": [
      {
       "html": [
        "\n",
        "<style type=\"text/css\">\n",
        "div.input {\n",
        "width: 1024px; /* about 80 chars + buffer */\n",
        "}\n",
        "\n",
        "div.text_cell {\n",
        "width: 1024px /* instead of 100%, */\n",
        "}\n",
        "\n",
        "div.text_cell_render {\n",
        "/*font-family: \"Helvetica Neue\", Arial, Helvetica, Geneva, sans-serif;*/\n",
        "font-family: \"Charis SIL\", serif; /* Make non-code text serif. */\n",
        "line-height: 145%; /* added for some line spacing of text. */\n",
        "font-size: 28pt;\n",
        "}\n",
        "\n",
        "/* Set the size of the headers */\n",
        "div.text_cell_render h1 {\n",
        "font-size: 36pt;\n",
        "}\n",
        "\n",
        "div.text_cell_render h2 {\n",
        "font-size: 32pt;\n",
        "}\n",
        "\n",
        "div.text_cell_render li {\n",
        "line-height: 1.2em;\n",
        "}\n",
        "\n",
        "div.text_cell_render p {\n",
        "font-size: 14pt;\n",
        "line-height: 1em;\n",
        "}\n",
        "\n",
        ".CodeMirror {\n",
        "font-size: 14pt;\n",
        " font-family: Consolas, monospace;\n",
        " }\n",
        "\n",
        ".rendered_html ol {list-style:decimal; margin: 1em 2em;}\n",
        "\n",
        "</style>\n"
       ],
       "output_type": "pyout",
       "prompt_number": 203,
       "text": [
        "<IPython.core.display.HTML at 0x4939450>"
       ]
      }
     ],
     "prompt_number": 203
    },
    {
     "cell_type": "markdown",
     "metadata": {},
     "source": [
      "Much of this approach is based on Mike Bostock's [replication of Gap Minder](http://bost.ocks.org/mike/nations/)"
     ]
    },
    {
     "cell_type": "code",
     "collapsed": false,
     "input": [],
     "language": "python",
     "metadata": {},
     "outputs": []
    }
   ],
   "metadata": {}
  }
 ]
}