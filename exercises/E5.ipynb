{
 "metadata": {
  "name": "2013_07_06_IDV4GH_Exercise_05_force_layout_networks"
 },
 "nbformat": 3,
 "nbformat_minor": 0,
 "worksheets": [
  {
   "cells": [
    {
     "cell_type": "markdown",
     "metadata": {
      "slideshow": {
       "slide_type": "slide"
      }
     },
     "source": [
      "# IDV4GH Exercise 5\n",
      "\n",
      "## Force layout and network visualiation\n",
      "## (and more)\n"
     ]
    },
    {
     "cell_type": "markdown",
     "metadata": {
      "slideshow": {
       "slide_type": "slide"
      }
     },
     "source": [
      "## Where to start?\n",
      "* A skeleton that makes javascript even simpler"
     ]
    },
    {
     "cell_type": "markdown",
     "metadata": {
      "slideshow": {
       "slide_type": "slide"
      }
     },
     "source": [
      "## Skeleton for IDV in d3js:\n",
      "    <!DOCTYPE html>\n",
      "    <meta charset=\"utf-8\">\n",
      "    \n",
      "    <style>\n",
      "    /* css goes here */\n",
      "    </style>\n",
      "    \n",
      "    <body>\n",
      "    <p>SVG:</p>\n",
      "    <svg width=800 height=200></svg>\n",
      "    <script src=\"../d3.v3.js\"></script>\n",
      "    <script>\n",
      "    // javascript goes here\n",
      "    </script>\n",
      "\n",
      "[show results](html/05_networks/05_networks_00.html)"
     ]
    },
    {
     "cell_type": "code",
     "collapsed": false,
     "input": [
      "%%file html/05_networks/05_networks_00.html\n",
      "\n",
      "<!DOCTYPE html>\n",
      "<meta charset=\"utf-8\">\n",
      "\n",
      "<style>\n",
      "/* css goes here */\n",
      "</style>\n",
      "\n",
      "<body>\n",
      "<p>SVG:</p>\n",
      "<svg width=800 height=200></svg>\n",
      "<script src=\"../d3.v3.js\"></script>\n",
      "<script>\n",
      "// javascript goes here\n",
      "</script>\n"
     ],
     "language": "python",
     "metadata": {
      "slideshow": {
       "slide_type": "skip"
      }
     },
     "outputs": [
      {
       "output_type": "stream",
       "stream": "stdout",
       "text": [
        "Overwriting html/05_networks/05_networks_00.html"
       ]
      },
      {
       "output_type": "stream",
       "stream": "stdout",
       "text": [
        "\n"
       ]
      }
     ],
     "prompt_number": 6
    },
    {
     "cell_type": "markdown",
     "metadata": {
      "slideshow": {
       "slide_type": "slide"
      }
     },
     "source": [
      "## What does this do?\n",
      "\n",
      "    var data = [3,1,4,1,5];\n",
      "    var r = d3.select(\"svg\")\n",
      "        .selectAll(\"rect\")\n",
      "        .data(data);"
     ]
    },
    {
     "cell_type": "markdown",
     "metadata": {
      "slideshow": {
       "slide_type": "slide"
      }
     },
     "source": [
      "## Then what will this do?\n",
      "\n",
      "    r.enter()\n",
      "        .append(\"rect\")\n",
      "        .attr(\"x\", 10)\n",
      "        .attr(\"y\", 10)\n",
      "        .attr(\"width\", 100)\n",
      "        .attr(\"height\", 10);"
     ]
    },
    {
     "cell_type": "markdown",
     "metadata": {
      "slideshow": {
       "slide_type": "slide"
      }
     },
     "source": [
      "## Can you make it into a horizontal bar chart?\n",
      "\n",
      "## (Can you animate that change?)"
     ]
    },
    {
     "cell_type": "markdown",
     "metadata": {
      "slideshow": {
       "slide_type": "slide"
      }
     },
     "source": [
      "## Solution (Horizontal bar chart)\n",
      "    r.attr(\"y\", function(d,i) {\n",
      "            return i*20; })\n",
      "        .attr(\"width\", function(d) {\n",
      "            return d*100; });"
     ]
    },
    {
     "cell_type": "markdown",
     "metadata": {
      "slideshow": {
       "slide_type": "slide"
      }
     },
     "source": [
      "## What will this do?\n",
      "\n",
      "    r.attr(\"y\", 0)\n",
      "        .attr(\"width\", 100);"
     ]
    },
    {
     "cell_type": "markdown",
     "metadata": {
      "slideshow": {
       "slide_type": "slide"
      }
     },
     "source": [
      "## Solution (Animated transition)\n",
      "    r.transition()\n",
      "        .attr(\"y\", function(d,i) {\n",
      "            return i*20; })\n",
      "        .attr(\"width\", function(d) {\n",
      "            return d*100; });"
     ]
    },
    {
     "cell_type": "markdown",
     "metadata": {
      "slideshow": {
       "slide_type": "slide"
      }
     },
     "source": [
      "## Even cooler transition\n",
      "    r.transition()\n",
      "        .attr(\"y\", function(d,i) {\n",
      "            return i*20; })\n",
      "        .attr(\"width\", function(d) {\n",
      "            return d*100; })\n",
      "        .delay(function (d, i) {\n",
      "            return i*2000; })\n",
      "        .duration(2000);"
     ]
    },
    {
     "cell_type": "markdown",
     "metadata": {
      "slideshow": {
       "slide_type": "slide"
      }
     },
     "source": [
      "## What will this do?\n",
      "\n",
      "    var reset = function() {\n",
      "        r.attr(\"y\", 0)\n",
      "            .attr(\"width\", 100); }\n",
      "    reset();"
     ]
    },
    {
     "cell_type": "markdown",
     "metadata": {
      "slideshow": {
       "slide_type": "slide"
      }
     },
     "source": [
      "## So what will this do?\n",
      "\n",
      "    var set = function() {\n",
      "        r.transition()\n",
      "            .attr(\"y\", function(d,i) {\n",
      "                return i*20; })\n",
      "            .attr(\"width\", function(d) {\n",
      "                return d*100; })\n",
      "            .delay(function (d, i) {\n",
      "                return i*2000; })\n",
      "            .duration(2000); }\n",
      "    set();\n"
     ]
    },
    {
     "cell_type": "markdown",
     "metadata": {
      "slideshow": {
       "slide_type": "slide"
      }
     },
     "source": [
      "## Can you add buttons that `set` and `reset` when clicked?"
     ]
    },
    {
     "cell_type": "markdown",
     "metadata": {
      "slideshow": {
       "slide_type": "slide"
      }
     },
     "source": [
      "## A Solution\n",
      "    d3.select(\"body\")\n",
      "        .append(\"input\")\n",
      "        .attr(\"type\", \"button\")\n",
      "        .attr(\"value\",\"Reset\")\n",
      "        .on(\"click\", reset);"
     ]
    },
    {
     "cell_type": "markdown",
     "metadata": {
      "slideshow": {
       "slide_type": "slide"
      }
     },
     "source": [
      "## Example with more meaningful data (Mari's js file)\n",
      "* Data I use is in `anc1` variable\n",
      "\n",
      "[show results](html/05_networks/05_networks_00b.html)"
     ]
    },
    {
     "cell_type": "code",
     "collapsed": false,
     "input": [
      "%%file html/05_networks/05_networks_00b.html\n",
      "\n",
      "<!DOCTYPE html>\n",
      "<meta charset=\"utf-8\">\n",
      "\n",
      "<style>\n",
      "/* css goes here */\n",
      "</style>\n",
      "\n",
      "<body>\n",
      "<p>SVG:</p>\n",
      "<svg width=800 height=200></svg>\n",
      "<script src=\"../d3.v3.js\"></script>\n",
      "<script src=\"../../../projects/mari/data.js\"></script>\n",
      "<script>\n",
      "// javascript goes here\n",
      "</script>\n"
     ],
     "language": "python",
     "metadata": {
      "slideshow": {
       "slide_type": "slide"
      }
     },
     "outputs": [
      {
       "output_type": "stream",
       "stream": "stdout",
       "text": [
        "Writing html/05_networks/05_networks_00b.html"
       ]
      },
      {
       "output_type": "stream",
       "stream": "stdout",
       "text": [
        "\n"
       ]
      }
     ],
     "prompt_number": 8
    },
    {
     "cell_type": "markdown",
     "metadata": {
      "slideshow": {
       "slide_type": "slide"
      }
     },
     "source": [
      "## Code:\n",
      "\n",
      "    var r = d3.select(\"svg\")\n",
      "        .selectAll(\"rect\")\n",
      "        .data(data);\n",
      "        "
     ]
    },
    {
     "cell_type": "markdown",
     "metadata": {
      "slideshow": {
       "slide_type": "subslide"
      }
     },
     "source": [
      "    r.enter()\n",
      "        .append(\"rect\")\n",
      "        .attr(\"x\", 10)\n",
      "        .attr(\"y\", 10)\n",
      "        .attr(\"width\", 100)\n",
      "        .attr(\"height\", 10);"
     ]
    },
    {
     "cell_type": "markdown",
     "metadata": {
      "slideshow": {
       "slide_type": "subslide"
      }
     },
     "source": [
      "    r.attr(\"y\", function(d,i) {\n",
      "            return i*20; })\n",
      "        .attr(\"width\", function(d) {\n",
      "            return d*100; });"
     ]
    },
    {
     "cell_type": "markdown",
     "metadata": {
      "slideshow": {
       "slide_type": "slide"
      }
     },
     "source": [
      "## Example text description (TK)"
     ]
    },
    {
     "cell_type": "markdown",
     "metadata": {
      "slideshow": {
       "slide_type": "slide"
      }
     },
     "source": [
      "## Animation exercise"
     ]
    },
    {
     "cell_type": "markdown",
     "metadata": {
      "slideshow": {
       "slide_type": "slide"
      }
     },
     "source": [
      "## Start with a dot\n",
      "\n",
      "    dot = d3.select(\"svg\")\n",
      "        .append(\"circle\")\n",
      "        .attr({r:25, cx: 30, cy: 30});"
     ]
    },
    {
     "cell_type": "markdown",
     "metadata": {
      "slideshow": {
       "slide_type": "slide"
      }
     },
     "source": [
      "## Can you animate moving the dot 300 pixels?"
     ]
    },
    {
     "cell_type": "markdown",
     "metadata": {
      "slideshow": {
       "slide_type": "slide"
      }
     },
     "source": [
      "# A Solution\n",
      "    dot.transition()\n",
      "        .attr(\"cx\", 330)\n",
      "        .duration(1000)\n"
     ]
    },
    {
     "cell_type": "markdown",
     "metadata": {
      "slideshow": {
       "slide_type": "slide"
      }
     },
     "source": [
      "## What do you think this does?\n",
      "    dot.transition()\n",
      "        .attr(\"cx\", 30)\n",
      "        .duration(1000)\n",
      "        .ease(\"linear\")\n"
     ]
    },
    {
     "cell_type": "markdown",
     "metadata": {
      "slideshow": {
       "slide_type": "slide"
      }
     },
     "source": [
      "## What other `ease` options are there?  Got a fav?\n"
     ]
    },
    {
     "cell_type": "markdown",
     "metadata": {
      "slideshow": {
       "slide_type": "slide"
      }
     },
     "source": [
      "## What will this do then?\n",
      "\n",
      "    dot.transition()\n",
      "        .attr(\"fill\", \"red\")\n",
      "        .duration(2000)\n",
      "        .ease(\"bounce\")"
     ]
    },
    {
     "cell_type": "markdown",
     "metadata": {
      "slideshow": {
       "slide_type": "slide"
      }
     },
     "source": [
      "## But to focus on motion, have a [look at this](http://mbostock.github.io/d3/talk/20111116/#11)!\n",
      "\n"
     ]
    },
    {
     "cell_type": "markdown",
     "metadata": {
      "slideshow": {
       "slide_type": "slide"
      }
     },
     "source": [
      "## How is that possible?\n",
      "* See if you can figure out from [the docs](https://github.com/mbostock/d3/wiki/Transitions)."
     ]
    },
    {
     "cell_type": "markdown",
     "metadata": {
      "slideshow": {
       "slide_type": "slide"
      }
     },
     "source": [
      "## A solution? [`transition.tween`](https://github.com/mbostock/d3/wiki/Transitions#wiki-tween)\n"
     ]
    },
    {
     "cell_type": "markdown",
     "metadata": {
      "slideshow": {
       "slide_type": "slide"
      }
     },
     "source": [
      "## Now an example (not an exercise)."
     ]
    },
    {
     "cell_type": "markdown",
     "metadata": {
      "slideshow": {
       "slide_type": "slide"
      }
     },
     "source": [
      "## Network diagrams\n",
      "* [Cool Amazon Book Browser](http://www.yasiv.com/amazon#/Search?q=d3&category=Books&lang=US)\n",
      "* [Creepy GMail explorer](https://immersion.media.mit.edu)                             "
     ]
    },
    {
     "cell_type": "markdown",
     "metadata": {
      "slideshow": {
       "slide_type": "slide"
      }
     },
     "source": [
      "## For us today:\n",
      "\n",
      "    ...\n",
      "    d3.layout.force(...)\n",
      "    ...\n",
      "\n",
      "[show results](/files/html/05_networks/05_networks_01.html)"
     ]
    },
    {
     "cell_type": "code",
     "collapsed": false,
     "input": [
      "import json"
     ],
     "language": "python",
     "metadata": {
      "slideshow": {
       "slide_type": "skip"
      }
     },
     "outputs": [],
     "prompt_number": 4
    },
    {
     "cell_type": "code",
     "collapsed": false,
     "input": [
      "with open('html/05_networks/net_data.js', 'w') as f:\n",
      "    f.write(\"var data=%s;\" % json.dumps(n))"
     ],
     "language": "python",
     "metadata": {
      "slideshow": {
       "slide_type": "skip"
      }
     },
     "outputs": [],
     "prompt_number": 8
    },
    {
     "cell_type": "code",
     "collapsed": false,
     "input": [
      "%%file html/05_networks/05_networks_01.html\n",
      "\n",
      "<!DOCTYPE html>\n",
      "<meta charset=\"utf-8\">\n",
      "\n",
      "<style>\n",
      "path.link {\n",
      "  fill: none;\n",
      "  stroke: #333;\n",
      "  stroke-width: 1.2px;\n",
      "  opacity: .3;\n",
      "}\n",
      "\n",
      "marker {\n",
      "  fill: #333;\n",
      "  stroke: #fff;\n",
      "  stroke-width: 1.5px;\n",
      "}\n",
      "\n",
      "circle {\n",
      "  //fill: #111;\n",
      "  stroke: #fff;\n",
      "  stroke-width: 1.5px;\n",
      "}\n",
      "\n",
      "text {\n",
      "  fill: #222;\n",
      "  font: 10px sans-serif;\n",
      "  pointer-events: none;\n",
      "}\n",
      "</style>\n",
      "\n",
      "<body>\n",
      "<p>Force-directed network layout.</p>\n",
      "\n",
      "<script src=\"../d3.v3.js\"></script>\n",
      "<script src=\"net_data.js\"></script>\n",
      "<script>\n",
      "\n",
      "// Add SVG that will hold figure\n",
      "var width = 960,\n",
      "    height = 500;\n",
      "\n",
      "var svg = d3.select(\"body\").append(\"svg\")\n",
      "    .attr(\"width\", width)\n",
      "    .attr(\"height\", height)\n",
      "    .append(\"g\");\n",
      "\n",
      "var nodes = {},\n",
      "    links = data.edge_list;\n",
      "\n",
      "data.node_list.forEach(function(node) {\n",
      "    nodes[node.label] = {name: node.label, color: node.color, md1_frac: node.md1_frac};\n",
      "});\n",
      "\n",
      "links.forEach(function(link) {\n",
      "    link.source = nodes[link.source];\n",
      "    link.target = nodes[link.target] || \n",
      "        (nodes[link.target] = {name: link.target, color: link.color});\n",
      "    link.value = +link.value;\n",
      "});\n",
      "\n",
      "var force = d3.layout.force()\n",
      "    .nodes(d3.values(nodes))\n",
      "    .links(links)\n",
      "    .size([width, height])\n",
      "    .linkDistance(100)\n",
      "    .charge(-200)\n",
      "    .friction(.3)\n",
      "    .on(\"tick\", tick)\n",
      "    .start();\n",
      "    \n",
      "// build the arrow.\n",
      "svg.append(\"svg:defs\").selectAll(\"marker\")\n",
      "    .data([\"end\"])      // Different link/path types can be defined here\n",
      "  .enter().append(\"svg:marker\")    // This section adds in the arrows\n",
      "    .attr(\"id\", String)\n",
      "    .attr(\"viewBox\", \"0 -5 10 10\")\n",
      "    .attr(\"refX\", 15)\n",
      "    .attr(\"refY\", -1.5)\n",
      "    .attr(\"markerWidth\", 6)\n",
      "    .attr(\"markerHeight\", 6)\n",
      "    .attr(\"orient\", \"auto\")\n",
      "  .append(\"svg:path\")\n",
      "    .attr(\"d\", \"M0,-5L10,0L0,5\");\n",
      "\n",
      "// add the links and the arrows\n",
      "var path = svg.append(\"svg:g\").selectAll(\"path\")\n",
      "    .data(force.links())\n",
      "  .enter().append(\"svg:path\")\n",
      "//    .attr(\"class\", function(d) { return \"link \" + d.type; })\n",
      "    .attr(\"class\", \"link\")\n",
      "    .attr(\"marker-end\", \"url(#end)\");\n",
      "\n",
      "// define the nodes\n",
      "var node = svg.selectAll(\".node\")\n",
      "    .data(force.nodes())\n",
      "  .enter().append(\"g\")\n",
      "    .attr(\"class\", \"node\")\n",
      "    .call(force.drag);\n",
      "\n",
      "// add the nodes\n",
      "node.append(\"circle\")\n",
      "    .attr(\"r\", 5)\n",
      "    .attr(\"fill\", function(d) { return d.color; });\n",
      "\n",
      "// add the text \n",
      "node.append(\"text\")\n",
      "    .attr(\"x\", 12)\n",
      "    .attr(\"dy\", \".35em\")\n",
      "    .text(function(d) { return d.md1_frac; });\n",
      "\n",
      "// add the curvy lines\n",
      "function tick() {\n",
      "    path.attr(\"d\", function(d) {\n",
      "        var dx = d.target.x - d.source.x,\n",
      "            dy = d.target.y - d.source.y,\n",
      "            dr = Math.sqrt(dx * dx + dy * dy);\n",
      "        return \"M\" + \n",
      "            d.source.x + \",\" + \n",
      "            d.source.y + \"A\" + \n",
      "            dr + \",\" + dr + \" 0 0,1 \" + \n",
      "            d.target.x + \",\" + \n",
      "            d.target.y;\n",
      "    });\n",
      "\n",
      "    node\n",
      "        .attr(\"transform\", function(d) { \n",
      "    return \"translate(\" + d.x + \",\" + d.y + \")\"; });\n",
      "}\n",
      "\n",
      "</script>"
     ],
     "language": "python",
     "metadata": {
      "slideshow": {
       "slide_type": "skip"
      }
     },
     "outputs": [
      {
       "output_type": "stream",
       "stream": "stdout",
       "text": [
        "Overwriting html/05_networks/05_networks_01.html\n"
       ]
      }
     ],
     "prompt_number": 4
    },
    {
     "cell_type": "markdown",
     "metadata": {
      "slideshow": {
       "slide_type": "slide"
      }
     },
     "source": [
      "## What first?"
     ]
    },
    {
     "cell_type": "markdown",
     "metadata": {
      "slideshow": {
       "slide_type": "subslide"
      }
     },
     "source": [
      "## A minimal example\n",
      "\n",
      "Based on Chapter 11 of *Interactive data visualization for the web*.\n",
      "\n",
      "[show results](/files/html/05_networks/05_networks_02.html)"
     ]
    },
    {
     "cell_type": "code",
     "collapsed": false,
     "input": [
      "%%file html/05_networks/05_networks_02.html\n",
      "\n",
      "<!DOCTYPE html>\n",
      "<meta charset=\"utf-8\">\n",
      "\n",
      "<style>\n",
      "/* css goes here */\n",
      "</style>\n",
      "\n",
      "<body>\n",
      "<p>Force-directed network layout.</p>\n",
      "\n",
      "<script src=\"../d3.v3.js\"></script>\n",
      "<script>\n",
      "var dataset = {\n",
      "        nodes: [\n",
      "                { name: \"Adam\" },\n",
      "                { name: \"Bob\" },\n",
      "                { name: \"Carrie\" },\n",
      "                { name: \"Donovan\" },\n",
      "                { name: \"Edward\" },\n",
      "                { name: \"Felicity\" },\n",
      "                { name: \"George\" },\n",
      "                { name: \"Hannah\" },\n",
      "                { name: \"Iris\" },\n",
      "                { name: \"Jerry\" }\n",
      "        ],\n",
      "        edges: [\n",
      "                { source: 0, target: 1 },\n",
      "                { source: 0, target: 2 },\n",
      "                { source: 0, target: 3 },\n",
      "                { source: 0, target: 4 },\n",
      "                { source: 1, target: 5 },\n",
      "                { source: 2, target: 5 },\n",
      "                { source: 2, target: 5 },\n",
      "                { source: 3, target: 4 },\n",
      "                { source: 5, target: 8 },\n",
      "                { source: 5, target: 9 },\n",
      "                { source: 6, target: 7 },\n",
      "                { source: 7, target: 8 },\n",
      "                { source: 8, target: 9 }\n",
      "        ]\n",
      "};\n",
      "\n",
      "// Add SVG that will hold figure\n",
      "var width = 960,\n",
      "    height = 500;\n",
      "\n",
      "var svg = d3.select(\"body\").append(\"svg\")\n",
      "    .attr(\"width\", width)\n",
      "    .attr(\"height\", height)\n",
      "    .append(\"g\");\n",
      "\n",
      "\n",
      "var force = d3.layout.force()\n",
      "                     .nodes(dataset.nodes)\n",
      "                     .links(dataset.edges)\n",
      "                     .size([width, height])\n",
      "                     .linkDistance([50])\n",
      "                     .charge([-100])\n",
      "                     .start();\n",
      "\n",
      "var colors = d3.scale.category10();\n",
      "\n",
      "var edges = svg.selectAll(\"line\")\n",
      "        .data(dataset.edges)\n",
      "        .enter()\n",
      "        .append(\"line\")\n",
      "        .style(\"stroke\", \"#ccc\")\n",
      "        .style(\"stroke-width\", 1);\n",
      "\n",
      "var nodes = svg.selectAll(\"circle\")\n",
      "        .data(dataset.nodes)\n",
      "        .enter()\n",
      "        .append(\"circle\")\n",
      "        .attr(\"r\", 10)\n",
      "        .style(\"fill\", function(d, i) {\n",
      "                return colors(i);\n",
      "        })\n",
      "        .call(force.drag);\n",
      "\n",
      "force.on(\"tick\", function() {\n",
      "\n",
      "edges.attr(\"x1\", function(d) { return d.source.x; })\n",
      "     .attr(\"y1\", function(d) { return d.source.y; })\n",
      "     .attr(\"x2\", function(d) { return d.target.x; })\n",
      "     .attr(\"y2\", function(d) { return d.target.y; });\n",
      "\n",
      "nodes.attr(\"cx\", function(d) { return d.x; })\n",
      "     .attr(\"cy\", function(d) { return d.y; });\n",
      "\n",
      "});\n",
      "</script>\n"
     ],
     "language": "python",
     "metadata": {},
     "outputs": [
      {
       "output_type": "stream",
       "stream": "stdout",
       "text": [
        "Overwriting html/05_networks/05_networks_02.html\n"
       ]
      }
     ],
     "prompt_number": 24
    },
    {
     "cell_type": "markdown",
     "metadata": {
      "slideshow": {
       "slide_type": "slide"
      }
     },
     "source": [
      "## How is this different?\n",
      "\n",
      "[show results](/files/html/05_networks/05_networks_03a.html)"
     ]
    },
    {
     "cell_type": "code",
     "collapsed": false,
     "input": [
      "%%file html/05_networks/05_networks_03a.html\n",
      "\n",
      "<!DOCTYPE html>\n",
      "<meta charset=\"utf-8\">\n",
      "\n",
      "<style>\n",
      "path.link {\n",
      "  fill: none;\n",
      "  stroke: #000;\n",
      "  stroke-width: 1px;\n",
      "  opacity: 1;\n",
      "}\n",
      "marker {\n",
      "  fill: #333;\n",
      "  stroke: #fff;\n",
      "  stroke-width: 1.5px;\n",
      "}\n",
      "</style>\n",
      "\n",
      "<body>\n",
      "<p>Force-directed network layout.</p>\n",
      "\n",
      "<script src=\"../d3.v3.js\"></script>\n",
      "<script>\n",
      "var dataset = {\n",
      "        nodes: [\n",
      "                { name: \"Adam\" },\n",
      "                { name: \"Bob\" },\n",
      "                { name: \"Carrie\" },\n",
      "                { name: \"Donovan\" },\n",
      "                { name: \"Edward\" },\n",
      "                { name: \"Felicity\" },\n",
      "                { name: \"George\" },\n",
      "                { name: \"Hannah\" },\n",
      "                { name: \"Iris\" },\n",
      "                { name: \"Jerry\" }\n",
      "        ],\n",
      "        edges: [\n",
      "                { source: 0, target: 1 },\n",
      "                { source: 0, target: 2 },\n",
      "                { source: 0, target: 3 },\n",
      "                { source: 0, target: 4 },\n",
      "                { source: 1, target: 5 },\n",
      "                { source: 2, target: 5 },\n",
      "                { source: 2, target: 5 },\n",
      "                { source: 3, target: 4 },\n",
      "                { source: 5, target: 8 },\n",
      "                { source: 5, target: 9 },\n",
      "                { source: 6, target: 7 },\n",
      "                { source: 7, target: 8 },\n",
      "                { source: 8, target: 9 }\n",
      "        ]\n",
      "};\n",
      "\n",
      "// Add SVG that will hold figure\n",
      "var width = 960,\n",
      "    height = 500;\n",
      "\n",
      "var svg = d3.select(\"body\").append(\"svg\")\n",
      "    .attr(\"width\", width)\n",
      "    .attr(\"height\", height)\n",
      "    .append(\"g\");\n",
      "\n",
      "var force = d3.layout.force()\n",
      "                     .nodes(dataset.nodes)\n",
      "                     .links(dataset.edges)\n",
      "                     .size([width, height])\n",
      "                     .linkDistance([50])\n",
      "                     .charge([-100])\n",
      "                     .start();\n",
      "\n",
      "var colors = d3.scale.category10();\n",
      "\n",
      "\n",
      "// build the arrow.\n",
      "svg .append(\"defs\")\n",
      "    .selectAll(\"marker\")\n",
      "    .data([\"end\"])      // Different link/path types can be defined here\n",
      "  .enter().append(\"marker\")    // This section adds in the arrows\n",
      "    .attr(\"id\", String)\n",
      "    .attr(\"viewBox\", \"0 -5 10 10\")\n",
      "    .attr(\"refX\", 15)\n",
      "    .attr(\"refY\", -1.5)\n",
      "    .attr(\"markerWidth\", 6)\n",
      "    .attr(\"markerHeight\", 6)\n",
      "    .attr(\"orient\", \"auto\")\n",
      "  .append(\"path\")\n",
      "    .attr(\"d\", \"M0,-5L10,0L0,5\");\n",
      "    \n",
      "var edges = svg.selectAll(\"path\")\n",
      "        .data(dataset.edges)\n",
      "        .enter()\n",
      "        .append(\"path\")\n",
      "        .attr(\"class\", \"link\")\n",
      "        .attr(\"marker-end\", \"url(#end)\");\n",
      "\n",
      "var nodes = svg.selectAll(\"circle\")\n",
      "        .data(dataset.nodes)\n",
      "        .enter()\n",
      "        .append(\"circle\")\n",
      "        .attr(\"r\", 10)\n",
      "        .style(\"fill\", function(d, i) {\n",
      "                return colors(i);\n",
      "        })\n",
      "        .call(force.drag);\n",
      "\n",
      "force.on(\"tick\", function() {\n",
      "    edges.attr(\"d\", function(d) {\n",
      "        var dx = d.target.x - d.source.x,\n",
      "            dy = d.target.y - d.source.y,\n",
      "            dr = Math.sqrt(dx * dx + dy * dy);\n",
      "        return \"M\" + \n",
      "            d.source.x + \",\" + \n",
      "            d.source.y + \"L\" +\n",
      "            d.target.x + \",\" + \n",
      "            d.target.y;\n",
      "    });\n",
      "\n",
      "nodes.attr(\"cx\", function(d) { return d.x; })\n",
      "     .attr(\"cy\", function(d) { return d.y; });\n",
      "\n",
      "});\n",
      "</script>\n"
     ],
     "language": "python",
     "metadata": {
      "slideshow": {
       "slide_type": "skip"
      }
     },
     "outputs": [
      {
       "output_type": "stream",
       "stream": "stdout",
       "text": [
        "Overwriting html/05_networks/05_networks_03a.html\n"
       ]
      }
     ],
     "prompt_number": 54
    },
    {
     "cell_type": "markdown",
     "metadata": {
      "slideshow": {
       "slide_type": "slide"
      }
     },
     "source": [
      "## Make the edges curvy, so bidirected links look extra pretty\n",
      "\n",
      "[show results](/files/html/05_networks/05_networks_03b.html)"
     ]
    },
    {
     "cell_type": "code",
     "collapsed": false,
     "input": [
      "%%file html/05_networks/05_networks_03b.html\n",
      "\n",
      "<!DOCTYPE html>\n",
      "<meta charset=\"utf-8\">\n",
      "\n",
      "<style>\n",
      "path.link {\n",
      "  fill: none;\n",
      "  stroke: #000;\n",
      "  stroke-width: 1px;\n",
      "  opacity: 1;\n",
      "}\n",
      "</style>\n",
      "\n",
      "<body>\n",
      "<p>Force-directed network layout.</p>\n",
      "\n",
      "<script src=\"../d3.v3.js\"></script>\n",
      "<script>\n",
      "var dataset = {\n",
      "        nodes: [\n",
      "                { name: \"Adam\" },\n",
      "                { name: \"Bob\" },\n",
      "                { name: \"Carrie\" },\n",
      "                { name: \"Donovan\" },\n",
      "                { name: \"Edward\" },\n",
      "                { name: \"Felicity\" },\n",
      "                { name: \"George\" },\n",
      "                { name: \"Hannah\" },\n",
      "                { name: \"Iris\" },\n",
      "                { name: \"Jerry\" }\n",
      "        ],\n",
      "        edges: [\n",
      "                { source: 0, target: 1 },\n",
      "                { source: 0, target: 2 },\n",
      "                { source: 0, target: 3 },\n",
      "                { source: 0, target: 4 },\n",
      "                { source: 1, target: 5 },\n",
      "                { source: 2, target: 5 },\n",
      "                { source: 2, target: 5 },\n",
      "                { source: 3, target: 4 },\n",
      "                { source: 5, target: 8 },\n",
      "                { source: 5, target: 9 },\n",
      "                { source: 6, target: 7 },\n",
      "                { source: 7, target: 8 },\n",
      "                { source: 8, target: 9 }\n",
      "        ]\n",
      "};\n",
      "\n",
      "// Add SVG that will hold figure\n",
      "var width = 960,\n",
      "    height = 500;\n",
      "\n",
      "var svg = d3.select(\"body\").append(\"svg\")\n",
      "    .attr(\"width\", width)\n",
      "    .attr(\"height\", height)\n",
      "    .append(\"g\");\n",
      "\n",
      "\n",
      "var force = d3.layout.force()\n",
      "                     .nodes(dataset.nodes)\n",
      "                     .links(dataset.edges)\n",
      "                     .size([width, height])\n",
      "                     .linkDistance([50])\n",
      "                     .charge([-100])\n",
      "                     .start();\n",
      "\n",
      "var colors = d3.scale.category10();\n",
      "\n",
      "var edges = svg.append(\"g\").selectAll(\"path\")\n",
      "    .data(dataset.edges)\n",
      "    .enter().append(\"path\")\n",
      "    .attr(\"class\", \"link\");\n",
      "\n",
      "var nodes = svg.selectAll(\"circle\")\n",
      "        .data(dataset.nodes)\n",
      "        .enter()\n",
      "        .append(\"circle\")\n",
      "        .attr(\"r\", 10)\n",
      "        .style(\"fill\", function(d, i) {\n",
      "                return colors(i);\n",
      "        })\n",
      "        .call(force.drag);\n",
      "\n",
      "force.on(\"tick\", function() {\n",
      "\n",
      "    edges.attr(\"d\", function(d) {\n",
      "        var dx = d.target.x - d.source.x,\n",
      "            dy = d.target.y - d.source.y,\n",
      "            dr = Math.sqrt(dx * dx + dy * dy);\n",
      "        return \"M\" + \n",
      "            d.source.x + \",\" + \n",
      "            d.source.y + \"A\" + \n",
      "            dr + \",\" + dr + \" 0 0,1 \" + \n",
      "            d.target.x + \",\" + \n",
      "            d.target.y;\n",
      "    });\n",
      "\n",
      "nodes.attr(\"cx\", function(d) { return d.x; })\n",
      "     .attr(\"cy\", function(d) { return d.y; });\n",
      "\n",
      "});\n",
      "</script>\n"
     ],
     "language": "python",
     "metadata": {
      "slideshow": {
       "slide_type": "skip"
      }
     },
     "outputs": [
      {
       "output_type": "stream",
       "stream": "stdout",
       "text": [
        "Overwriting html/05_networks/05_networks_03b.html\n"
       ]
      }
     ],
     "prompt_number": 47
    },
    {
     "cell_type": "markdown",
     "metadata": {
      "slideshow": {
       "slide_type": "slide"
      }
     },
     "source": [
      "## Things to consider adding:\n",
      "\n",
      "* Zoom;\n",
      "* Filter;\n",
      "* Details-on-demand."
     ]
    },
    {
     "cell_type": "markdown",
     "metadata": {
      "slideshow": {
       "slide_type": "slide"
      }
     },
     "source": [
      "## Tomorrow: geographic mapping!"
     ]
    },
    {
     "cell_type": "code",
     "collapsed": false,
     "input": [
      "!cp /homes/abie/notebook/2013_07_06_IDV4GH_Exercise_05_force_layout_networks.ipynb /homes/abie/nbconvert/E5.ipynb\n",
      "!cd /homes/abie/nbconvert/; ./nbconvert.py --format reveal E5.ipynb\n",
      "!cp /homes/abie/nbconvert/E5* /home/j/Project/Models/IDV4GH/exercises\n",
      "!cp -r /homes/abie/notebook/html/05_networks/ /home/j/Project/Models/IDV4GH/exercises/html/"
     ],
     "language": "python",
     "metadata": {
      "slideshow": {
       "slide_type": "skip"
      }
     },
     "outputs": [],
     "prompt_number": "*"
    },
    {
     "cell_type": "code",
     "collapsed": false,
     "input": [
      "import ipynb_style\n",
      "ipynb_style.presentation()"
     ],
     "language": "python",
     "metadata": {
      "slideshow": {
       "slide_type": "skip"
      }
     },
     "outputs": [
      {
       "html": [
        "\n",
        "<style type=\"text/css\">\n",
        "div.input {\n",
        "width: 1024px; /* about 80 chars + buffer */\n",
        "}\n",
        "\n",
        "div.text_cell {\n",
        "width: 1024px /* instead of 100%, */\n",
        "}\n",
        "\n",
        "div.text_cell_render {\n",
        "/*font-family: \"Helvetica Neue\", Arial, Helvetica, Geneva, sans-serif;*/\n",
        "font-family: \"Charis SIL\", serif; /* Make non-code text serif. */\n",
        "line-height: 145%; /* added for some line spacing of text. */\n",
        "font-size: 28pt;\n",
        "}\n",
        "\n",
        "/* Set the size of the headers */\n",
        "div.text_cell_render h1 {\n",
        "font-size: 36pt;\n",
        "}\n",
        "\n",
        "div.text_cell_render h2 {\n",
        "font-size: 32pt;\n",
        "}\n",
        "\n",
        "div.text_cell_render li {\n",
        "line-height: 1.2em;\n",
        "}\n",
        "\n",
        "div.text_cell_render p {\n",
        "font-size: 14pt;\n",
        "line-height: 1em;\n",
        "}\n",
        "\n",
        ".CodeMirror {\n",
        "font-size: 14pt;\n",
        " font-family: Consolas, monospace;\n",
        " }\n",
        "\n",
        ".rendered_html ol {list-style:decimal; margin: 1em 2em;}\n",
        "\n",
        "</style>\n"
       ],
       "output_type": "pyout",
       "prompt_number": 36,
       "text": [
        "<IPython.core.display.HTML at 0x25b1710>"
       ]
      }
     ],
     "prompt_number": 36
    },
    {
     "cell_type": "code",
     "collapsed": false,
     "input": [],
     "language": "python",
     "metadata": {},
     "outputs": []
    }
   ],
   "metadata": {}
  }
 ]
}